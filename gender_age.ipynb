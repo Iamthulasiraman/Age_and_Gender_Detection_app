{
  "nbformat": 4,
  "nbformat_minor": 0,
  "metadata": {
    "colab": {
      "provenance": [],
      "gpuType": "T4"
    },
    "kernelspec": {
      "name": "python3",
      "display_name": "Python 3"
    },
    "language_info": {
      "name": "python"
    },
    "accelerator": "GPU"
  },
  "cells": [
    {
      "cell_type": "markdown",
      "source": [
        "## **Importing dataset from kaggle**"
      ],
      "metadata": {
        "id": "h7VD-aLyRE-A"
      }
    },
    {
      "cell_type": "code",
      "execution_count": null,
      "metadata": {
        "id": "wTYVqiwrPUI8"
      },
      "outputs": [],
      "source": [
        "!pip install -q opendatasets\n",
        "\n",
        "import opendatasets as od\n",
        "import pandas as pd\n",
        "\n",
        "# insert ypu kaggle  username and key\n",
        "#pddf = pd.read_csv('/content/dish-network-hackathon/Test_Dataset.csv')"
      ]
    },
    {
      "cell_type": "markdown",
      "source": [
        "'username': 'iamthulasiraman',\n",
        "'key': '32d52b6fca4ea3cdcd4a53f7d3ee412c'"
      ],
      "metadata": {
        "id": "RvoNPJX-1P6F"
      }
    },
    {
      "cell_type": "code",
      "source": [
        "od.download('https://www.kaggle.com/datasets/jangedoo/utkface-new')"
      ],
      "metadata": {
        "colab": {
          "base_uri": "https://localhost:8080/"
        },
        "id": "7peheYAdRl4A",
        "outputId": "b7665c10-ef6c-4607-a99f-f618f0448991"
      },
      "execution_count": null,
      "outputs": [
        {
          "output_type": "stream",
          "name": "stdout",
          "text": [
            "Please provide your Kaggle credentials to download this dataset. Learn more: http://bit.ly/kaggle-creds\n",
            "Your Kaggle username: iamthulasiraman\n",
            "Your Kaggle Key: ··········\n",
            "Downloading utkface-new.zip to ./utkface-new\n"
          ]
        },
        {
          "output_type": "stream",
          "name": "stderr",
          "text": [
            "100%|██████████| 331M/331M [00:01<00:00, 263MB/s]\n"
          ]
        },
        {
          "output_type": "stream",
          "name": "stdout",
          "text": [
            "\n"
          ]
        }
      ]
    },
    {
      "cell_type": "markdown",
      "source": [
        "## **Importing required Libralies**"
      ],
      "metadata": {
        "id": "aLR0KqIdRRGI"
      }
    },
    {
      "cell_type": "code",
      "source": [
        "import pandas as pd\n",
        "import cv2\n",
        "import numpy as np\n",
        "import tensorflow as tf\n",
        "import matplotlib.pyplot as plt"
      ],
      "metadata": {
        "id": "yFyjREpMWKRg"
      },
      "execution_count": null,
      "outputs": []
    },
    {
      "cell_type": "code",
      "source": [
        "from tensorflow.keras.layers import Dropout\n",
        "from tensorflow.keras.layers import Flatten\n",
        "from tensorflow.keras.layers import BatchNormalization\n",
        "from tensorflow.keras.layers import Dense, MaxPooling2D,Conv2D\n",
        "from tensorflow.keras.models import Model\n",
        "from tensorflow.keras.layers import Input,Activation,Add\n",
        "from tensorflow.keras.regularizers import l2\n",
        "from tensorflow.keras.optimizers import Adam, Adagrad, Adadelta, Adamax, RMSprop"
      ],
      "metadata": {
        "id": "qD_zN5gaWW94"
      },
      "execution_count": null,
      "outputs": []
    },
    {
      "cell_type": "code",
      "source": [
        "fls = \"utkface-new/UTKFace\""
      ],
      "metadata": {
        "id": "jHh95LGcWXR2"
      },
      "execution_count": null,
      "outputs": []
    },
    {
      "cell_type": "code",
      "source": [
        "import os\n",
        "from tqdm import tqdm"
      ],
      "metadata": {
        "id": "FNe3o8wkWnxs"
      },
      "execution_count": null,
      "outputs": []
    },
    {
      "cell_type": "markdown",
      "source": [
        "## **Plotting the image**"
      ],
      "metadata": {
        "id": "uQ2eKtMlRj2y"
      }
    },
    {
      "cell_type": "code",
      "source": [
        "files = os.listdir(fls)"
      ],
      "metadata": {
        "id": "Bafhg4UEWsLF"
      },
      "execution_count": null,
      "outputs": []
    },
    {
      "cell_type": "code",
      "source": [
        "imge   = []\n",
        "for i in tqdm(files):\n",
        "    tot = fls+'/'+i\n",
        "    image = cv2.imread(tot)\n",
        "    image = cv2.cvtColor(image, cv2.COLOR_BGR2RGB)\n",
        "    image = cv2.resize(image, (48,48))\n",
        "    imge.append(image)\n",
        "\n"
      ],
      "metadata": {
        "colab": {
          "base_uri": "https://localhost:8080/"
        },
        "id": "XXLtynOfWsQP",
        "outputId": "96f0fc07-b539-486e-c3a1-2d41e6e875fe"
      },
      "execution_count": null,
      "outputs": [
        {
          "output_type": "stream",
          "name": "stderr",
          "text": [
            "100%|██████████| 23708/23708 [00:13<00:00, 1723.95it/s]\n"
          ]
        }
      ]
    },
    {
      "cell_type": "code",
      "source": [
        "plt.imshow(imge[108])"
      ],
      "metadata": {
        "colab": {
          "base_uri": "https://localhost:8080/",
          "height": 449
        },
        "id": "5jahSi_JWsUq",
        "outputId": "571f9bb8-774a-4e6c-93fe-1db2be686a5a"
      },
      "execution_count": null,
      "outputs": [
        {
          "output_type": "execute_result",
          "data": {
            "text/plain": [
              "<matplotlib.image.AxesImage at 0x780a9bc05210>"
            ]
          },
          "metadata": {},
          "execution_count": 10
        },
        {
          "output_type": "display_data",
          "data": {
            "text/plain": [
              "<Figure size 640x480 with 1 Axes>"
            ],
            "image/png": "[encoded data removed]"
          },
          "metadata": {}
        }
      ]
    },
    {
      "cell_type": "markdown",
      "source": [
        "## Splitting the age and gender from exixting data"
      ],
      "metadata": {
        "id": "nk0CMEYFR0_i"
      }
    },
    {
      "cell_type": "code",
      "source": [
        "age    = []\n",
        "gender = []\n",
        "for i in files:\n",
        "    age.append(int(i.split('_')[0]))\n",
        "    gender.append(int(i.split('_')[1]))"
      ],
      "metadata": {
        "id": "19VdD733XBSe"
      },
      "execution_count": null,
      "outputs": []
    },
    {
      "cell_type": "code",
      "source": [
        "images_f = np.array(imge)"
      ],
      "metadata": {
        "id": "kQaE0Q2cXBWq"
      },
      "execution_count": null,
      "outputs": []
    },
    {
      "cell_type": "markdown",
      "source": [
        "## Creating DataFrame"
      ],
      "metadata": {
        "id": "bjhLkowvSHjs"
      }
    },
    {
      "cell_type": "code",
      "source": [
        "df = pd.DataFrame(age , columns = ['Age'])"
      ],
      "metadata": {
        "id": "A0BlhhfrXBbh"
      },
      "execution_count": null,
      "outputs": []
    },
    {
      "cell_type": "code",
      "source": [
        "df['gender'] = gender"
      ],
      "metadata": {
        "id": "7YQkeaBLXBgL"
      },
      "execution_count": null,
      "outputs": []
    },
    {
      "cell_type": "code",
      "source": [
        "lst = []\n",
        "for i in files:\n",
        "    lst.append(fls+'/'+i)"
      ],
      "metadata": {
        "id": "dFsI1EZaXBkn"
      },
      "execution_count": null,
      "outputs": []
    },
    {
      "cell_type": "code",
      "source": [
        "df['img_path'] = lst"
      ],
      "metadata": {
        "id": "FlkjefstXBo7"
      },
      "execution_count": null,
      "outputs": []
    },
    {
      "cell_type": "code",
      "source": [
        "df.head()"
      ],
      "metadata": {
        "colab": {
          "base_uri": "https://localhost:8080/",
          "height": 206
        },
        "id": "lGprKXWBXBtZ",
        "outputId": "c780746b-3718-42e6-a24d-ca639e888822"
      },
      "execution_count": null,
      "outputs": [
        {
          "output_type": "execute_result",
          "data": {
            "text/plain": [
              "   Age  gender                                           img_path\n",
              "0   32       1  utkface-new/UTKFace/32_1_0_20170112235000656.j...\n",
              "1    1       0  utkface-new/UTKFace/1_0_2_20161219195848259.jp...\n",
              "2    2       0  utkface-new/UTKFace/2_0_2_20161219190009084.jp...\n",
              "3   46       0  utkface-new/UTKFace/46_0_0_20170113181514861.j...\n",
              "4   89       0  utkface-new/UTKFace/89_0_1_20170116024131102.j..."
            ],
            "text/html": [
              "\n",
              "  <div id=\"df-6cd457a7-dfbc-4600-80f3-525f0315130a\" class=\"colab-df-container\">\n",
              "    <div>\n",
              "<style scoped>\n",
              "    .dataframe tbody tr th:only-of-type {\n",
              "        vertical-align: middle;\n",
              "    }\n",
              "\n",
              "    .dataframe tbody tr th {\n",
              "        vertical-align: top;\n",
              "    }\n",
              "\n",
              "    .dataframe thead th {\n",
              "        text-align: right;\n",
              "    }\n",
              "</style>\n",
              "<table border=\"1\" class=\"dataframe\">\n",
              "  <thead>\n",
              "    <tr style=\"text-align: right;\">\n",
              "      <th></th>\n",
              "      <th>Age</th>\n",
              "      <th>gender</th>\n",
              "      <th>img_path</th>\n",
              "    </tr>\n",
              "  </thead>\n",
              "  <tbody>\n",
              "    <tr>\n",
              "      <th>0</th>\n",
              "      <td>32</td>\n",
              "      <td>1</td>\n",
              "      <td>utkface-new/UTKFace/32_1_0_20170112235000656.j...</td>\n",
              "    </tr>\n",
              "    <tr>\n",
              "      <th>1</th>\n",
              "      <td>1</td>\n",
              "      <td>0</td>\n",
              "      <td>utkface-new/UTKFace/1_0_2_20161219195848259.jp...</td>\n",
              "    </tr>\n",
              "    <tr>\n",
              "      <th>2</th>\n",
              "      <td>2</td>\n",
              "      <td>0</td>\n",
              "      <td>utkface-new/UTKFace/2_0_2_20161219190009084.jp...</td>\n",
              "    </tr>\n",
              "    <tr>\n",
              "      <th>3</th>\n",
              "      <td>46</td>\n",
              "      <td>0</td>\n",
              "      <td>utkface-new/UTKFace/46_0_0_20170113181514861.j...</td>\n",
              "    </tr>\n",
              "    <tr>\n",
              "      <th>4</th>\n",
              "      <td>89</td>\n",
              "      <td>0</td>\n",
              "      <td>utkface-new/UTKFace/89_0_1_20170116024131102.j...</td>\n",
              "    </tr>\n",
              "  </tbody>\n",
              "</table>\n",
              "</div>\n",
              "    <div class=\"colab-df-buttons\">\n",
              "\n",
              "  <div class=\"colab-df-container\">\n",
              "    <button class=\"colab-df-convert\" onclick=\"convertToInteractive('df-6cd457a7-dfbc-4600-80f3-525f0315130a')\"\n",
              "            title=\"Convert this dataframe to an interactive table.\"\n",
              "            style=\"display:none;\">\n",
              "\n",
              "  <svg xmlns=\"http://www.w3.org/2000/svg\" height=\"24px\" viewBox=\"0 -960 960 960\">\n",
              "    <path d=\"M120-120v-720h720v720H120Zm60-500h600v-160H180v160Zm220 220h160v-160H400v160Zm0 220h160v-160H400v160ZM180-400h160v-160H180v160Zm440 0h160v-160H620v160ZM180-180h160v-160H180v160Zm440 0h160v-160H620v160Z\"/>\n",
              "  </svg>\n",
              "    </button>\n",
              "\n",
              "  <style>\n",
              "    .colab-df-container {\n",
              "      display:flex;\n",
              "      gap: 12px;\n",
              "    }\n",
              "\n",
              "    .colab-df-convert {\n",
              "      background-color: #E8F0FE;\n",
              "      border: none;\n",
              "      border-radius: 50%;\n",
              "      cursor: pointer;\n",
              "      display: none;\n",
              "      fill: #1967D2;\n",
              "      height: 32px;\n",
              "      padding: 0 0 0 0;\n",
              "      width: 32px;\n",
              "    }\n",
              "\n",
              "    .colab-df-convert:hover {\n",
              "      background-color: #E2EBFA;\n",
              "      box-shadow: 0px 1px 2px rgba(60, 64, 67, 0.3), 0px 1px 3px 1px rgba(60, 64, 67, 0.15);\n",
              "      fill: #174EA6;\n",
              "    }\n",
              "\n",
              "    .colab-df-buttons div {\n",
              "      margin-bottom: 4px;\n",
              "    }\n",
              "\n",
              "    [theme=dark] .colab-df-convert {\n",
              "      background-color: #3B4455;\n",
              "      fill: #D2E3FC;\n",
              "    }\n",
              "\n",
              "    [theme=dark] .colab-df-convert:hover {\n",
              "      background-color: #434B5C;\n",
              "      box-shadow: 0px 1px 3px 1px rgba(0, 0, 0, 0.15);\n",
              "      filter: drop-shadow(0px 1px 2px rgba(0, 0, 0, 0.3));\n",
              "      fill: #FFFFFF;\n",
              "    }\n",
              "  </style>\n",
              "\n",
              "    <script>\n",
              "      const buttonEl =\n",
              "        document.querySelector('#df-6cd457a7-dfbc-4600-80f3-525f0315130a button.colab-df-convert');\n",
              "      buttonEl.style.display =\n",
              "        google.colab.kernel.accessAllowed ? 'block' : 'none';\n",
              "\n",
              "      async function convertToInteractive(key) {\n",
              "        const element = document.querySelector('#df-6cd457a7-dfbc-4600-80f3-525f0315130a');\n",
              "        const dataTable =\n",
              "          await google.colab.kernel.invokeFunction('convertToInteractive',\n",
              "                                                    [key], {});\n",
              "        if (!dataTable) return;\n",
              "\n",
              "        const docLinkHtml = 'Like what you see? Visit the ' +\n",
              "          '<a target=\"_blank\" href=https://colab.research.google.com/notebooks/data_table.ipynb>data table notebook</a>'\n",
              "          + ' to learn more about interactive tables.';\n",
              "        element.innerHTML = '';\n",
              "        dataTable['output_type'] = 'display_data';\n",
              "        await google.colab.output.renderOutput(dataTable, element);\n",
              "        const docLink = document.createElement('div');\n",
              "        docLink.innerHTML = docLinkHtml;\n",
              "        element.appendChild(docLink);\n",
              "      }\n",
              "    </script>\n",
              "  </div>\n",
              "\n",
              "\n",
              "<div id=\"df-5652a75e-cbcb-4eaf-b8c9-adca1a759683\">\n",
              "  <button class=\"colab-df-quickchart\" onclick=\"quickchart('df-5652a75e-cbcb-4eaf-b8c9-adca1a759683')\"\n",
              "            title=\"Suggest charts\"\n",
              "            style=\"display:none;\">\n",
              "\n",
              "<svg xmlns=\"http://www.w3.org/2000/svg\" height=\"24px\"viewBox=\"0 0 24 24\"\n",
              "     width=\"24px\">\n",
              "    <g>\n",
              "        <path d=\"M19 3H5c-1.1 0-2 .9-2 2v14c0 1.1.9 2 2 2h14c1.1 0 2-.9 2-2V5c0-1.1-.9-2-2-2zM9 17H7v-7h2v7zm4 0h-2V7h2v10zm4 0h-2v-4h2v4z\"/>\n",
              "    </g>\n",
              "</svg>\n",
              "  </button>\n",
              "\n",
              "<style>\n",
              "  .colab-df-quickchart {\n",
              "      --bg-color: #E8F0FE;\n",
              "      --fill-color: #1967D2;\n",
              "      --hover-bg-color: #E2EBFA;\n",
              "      --hover-fill-color: #174EA6;\n",
              "      --disabled-fill-color: #AAA;\n",
              "      --disabled-bg-color: #DDD;\n",
              "  }\n",
              "\n",
              "  [theme=dark] .colab-df-quickchart {\n",
              "      --bg-color: #3B4455;\n",
              "      --fill-color: #D2E3FC;\n",
              "      --hover-bg-color: #434B5C;\n",
              "      --hover-fill-color: #FFFFFF;\n",
              "      --disabled-bg-color: #3B4455;\n",
              "      --disabled-fill-color: #666;\n",
              "  }\n",
              "\n",
              "  .colab-df-quickchart {\n",
              "    background-color: var(--bg-color);\n",
              "    border: none;\n",
              "    border-radius: 50%;\n",
              "    cursor: pointer;\n",
              "    display: none;\n",
              "    fill: var(--fill-color);\n",
              "    height: 32px;\n",
              "    padding: 0;\n",
              "    width: 32px;\n",
              "  }\n",
              "\n",
              "  .colab-df-quickchart:hover {\n",
              "    background-color: var(--hover-bg-color);\n",
              "    box-shadow: 0 1px 2px rgba(60, 64, 67, 0.3), 0 1px 3px 1px rgba(60, 64, 67, 0.15);\n",
              "    fill: var(--button-hover-fill-color);\n",
              "  }\n",
              "\n",
              "  .colab-df-quickchart-complete:disabled,\n",
              "  .colab-df-quickchart-complete:disabled:hover {\n",
              "    background-color: var(--disabled-bg-color);\n",
              "    fill: var(--disabled-fill-color);\n",
              "    box-shadow: none;\n",
              "  }\n",
              "\n",
              "  .colab-df-spinner {\n",
              "    border: 2px solid var(--fill-color);\n",
              "    border-color: transparent;\n",
              "    border-bottom-color: var(--fill-color);\n",
              "    animation:\n",
              "      spin 1s steps(1) infinite;\n",
              "  }\n",
              "\n",
              "  @keyframes spin {\n",
              "    0% {\n",
              "      border-color: transparent;\n",
              "      border-bottom-color: var(--fill-color);\n",
              "      border-left-color: var(--fill-color);\n",
              "    }\n",
              "    20% {\n",
              "      border-color: transparent;\n",
              "      border-left-color: var(--fill-color);\n",
              "      border-top-color: var(--fill-color);\n",
              "    }\n",
              "    30% {\n",
              "      border-color: transparent;\n",
              "      border-left-color: var(--fill-color);\n",
              "      border-top-color: var(--fill-color);\n",
              "      border-right-color: var(--fill-color);\n",
              "    }\n",
              "    40% {\n",
              "      border-color: transparent;\n",
              "      border-right-color: var(--fill-color);\n",
              "      border-top-color: var(--fill-color);\n",
              "    }\n",
              "    60% {\n",
              "      border-color: transparent;\n",
              "      border-right-color: var(--fill-color);\n",
              "    }\n",
              "    80% {\n",
              "      border-color: transparent;\n",
              "      border-right-color: var(--fill-color);\n",
              "      border-bottom-color: var(--fill-color);\n",
              "    }\n",
              "    90% {\n",
              "      border-color: transparent;\n",
              "      border-bottom-color: var(--fill-color);\n",
              "    }\n",
              "  }\n",
              "</style>\n",
              "\n",
              "  <script>\n",
              "    async function quickchart(key) {\n",
              "      const quickchartButtonEl =\n",
              "        document.querySelector('#' + key + ' button');\n",
              "      quickchartButtonEl.disabled = true;  // To prevent multiple clicks.\n",
              "      quickchartButtonEl.classList.add('colab-df-spinner');\n",
              "      try {\n",
              "        const charts = await google.colab.kernel.invokeFunction(\n",
              "            'suggestCharts', [key], {});\n",
              "      } catch (error) {\n",
              "        console.error('Error during call to suggestCharts:', error);\n",
              "      }\n",
              "      quickchartButtonEl.classList.remove('colab-df-spinner');\n",
              "      quickchartButtonEl.classList.add('colab-df-quickchart-complete');\n",
              "    }\n",
              "    (() => {\n",
              "      let quickchartButtonEl =\n",
              "        document.querySelector('#df-5652a75e-cbcb-4eaf-b8c9-adca1a759683 button');\n",
              "      quickchartButtonEl.style.display =\n",
              "        google.colab.kernel.accessAllowed ? 'block' : 'none';\n",
              "    })();\n",
              "  </script>\n",
              "</div>\n",
              "\n",
              "    </div>\n",
              "  </div>\n"
            ]
          },
          "metadata": {},
          "execution_count": 18
        }
      ]
    },
    {
      "cell_type": "code",
      "source": [
        "df.shape"
      ],
      "metadata": {
        "colab": {
          "base_uri": "https://localhost:8080/"
        },
        "id": "7xM_y8j6Xic7",
        "outputId": "1f0b872b-2db5-4029-b5d2-19ef46337732"
      },
      "execution_count": null,
      "outputs": [
        {
          "output_type": "execute_result",
          "data": {
            "text/plain": [
              "(23708, 3)"
            ]
          },
          "metadata": {},
          "execution_count": 19
        }
      ]
    },
    {
      "cell_type": "code",
      "source": [
        "labels = []\n",
        "for i in df.values:\n",
        "    labels.append([i[0],i[1]])"
      ],
      "metadata": {
        "id": "yiIwCM2iXijG"
      },
      "execution_count": null,
      "outputs": []
    },
    {
      "cell_type": "code",
      "source": [
        "labels_f = np.array(labels)"
      ],
      "metadata": {
        "id": "FFa6DshcXimY"
      },
      "execution_count": null,
      "outputs": []
    },
    {
      "cell_type": "code",
      "source": [
        "images_f_2 = images_f/255"
      ],
      "metadata": {
        "id": "y-zCJ7VfXipi"
      },
      "execution_count": null,
      "outputs": []
    },
    {
      "cell_type": "code",
      "source": [
        "images_f_2.shape"
      ],
      "metadata": {
        "colab": {
          "base_uri": "https://localhost:8080/"
        },
        "id": "9FLfeoUqXis3",
        "outputId": "2815453b-89b7-4c96-8e65-38e6d839feb3"
      },
      "execution_count": null,
      "outputs": [
        {
          "output_type": "execute_result",
          "data": {
            "text/plain": [
              "(23708, 48, 48, 3)"
            ]
          },
          "metadata": {},
          "execution_count": 23
        }
      ]
    },
    {
      "cell_type": "markdown",
      "source": [
        "# **Train Test Split**"
      ],
      "metadata": {
        "id": "-mMUdu2-SUgZ"
      }
    },
    {
      "cell_type": "code",
      "source": [
        "from sklearn.model_selection import train_test_split"
      ],
      "metadata": {
        "id": "UdcOFhCTXiv2"
      },
      "execution_count": null,
      "outputs": []
    },
    {
      "cell_type": "code",
      "source": [
        "X_train,X_test,Y_train,Y_test = train_test_split(images_f_2,labels_f,test_size = 0.25)"
      ],
      "metadata": {
        "id": "_woY4uCSX1nC"
      },
      "execution_count": null,
      "outputs": []
    },
    {
      "cell_type": "code",
      "source": [
        "Y_train[:5]"
      ],
      "metadata": {
        "colab": {
          "base_uri": "https://localhost:8080/"
        },
        "id": "pKI9yetFX1uW",
        "outputId": "7ba47486-910e-40ab-ef7f-722740b14915"
      },
      "execution_count": null,
      "outputs": [
        {
          "output_type": "execute_result",
          "data": {
            "text/plain": [
              "array([[22,  1],\n",
              "       [43,  1],\n",
              "       [61,  0],\n",
              "       [60,  0],\n",
              "       [35,  0]])"
            ]
          },
          "metadata": {},
          "execution_count": 26
        }
      ]
    },
    {
      "cell_type": "code",
      "source": [
        "Y_train_2 = [Y_train[:,1],Y_train[:,0]]\n",
        "Y_test_2 = [Y_test[:,1],Y_test[:,0]]"
      ],
      "metadata": {
        "id": "63ErLbBwX1yh"
      },
      "execution_count": null,
      "outputs": []
    },
    {
      "cell_type": "code",
      "source": [
        "Y_train_2"
      ],
      "metadata": {
        "colab": {
          "base_uri": "https://localhost:8080/"
        },
        "id": "K1OOu4FGX13F",
        "outputId": "fb1d2178-c354-442d-b952-324c2fdf8220"
      },
      "execution_count": null,
      "outputs": [
        {
          "output_type": "execute_result",
          "data": {
            "text/plain": [
              "[array([1, 1, 0, ..., 1, 1, 1]), array([22, 43, 61, ..., 27, 31, 29])]"
            ]
          },
          "metadata": {},
          "execution_count": 28
        }
      ]
    },
    {
      "cell_type": "code",
      "source": [
        "Y_train_2[0][:5]"
      ],
      "metadata": {
        "colab": {
          "base_uri": "https://localhost:8080/"
        },
        "id": "NwNNkztKX17W",
        "outputId": "b9430c5a-e7fe-436f-94c9-bafb10587fe3"
      },
      "execution_count": null,
      "outputs": [
        {
          "output_type": "execute_result",
          "data": {
            "text/plain": [
              "array([1, 1, 0, 0, 0])"
            ]
          },
          "metadata": {},
          "execution_count": 29
        }
      ]
    },
    {
      "cell_type": "markdown",
      "source": [
        "# **Building the Model**"
      ],
      "metadata": {
        "id": "H3evUU8KSgUK"
      }
    },
    {
      "cell_type": "code",
      "source": [
        "def Convolution(input_tensor,filters):\n",
        "    x=Conv2D(filters=filters,kernel_size=(3,3),padding=\"same\",strides=(1,1),kernel_regularizer=l2(0.001))(input_tensor)\n",
        "    x=Dropout(0.1)(x)\n",
        "    x=Activation('relu')(x)\n",
        "    return x"
      ],
      "metadata": {
        "id": "ooLA0L-NX2Bl"
      },
      "execution_count": null,
      "outputs": []
    },
    {
      "cell_type": "code",
      "source": [
        "def model(input_shape):\n",
        "    inputs = Input((input_shape))\n",
        "    conv_1 = Convolution(inputs,32)\n",
        "    maxp_1 = MaxPooling2D(pool_size=(2,2))(conv_1)\n",
        "    conv_2 = Convolution(maxp_1,64)\n",
        "    maxp_2 = MaxPooling2D(pool_size=(2,2))(conv_2)\n",
        "    conv_3 = Convolution(maxp_2,128)\n",
        "    maxp_3 = MaxPooling2D(pool_size=(2,2))(conv_3)\n",
        "    conv_4 = Convolution(maxp_3,256)\n",
        "    maxp_4 = MaxPooling2D(pool_size=(2,2))(conv_4)\n",
        "    conv_5 = Convolution(maxp_4,512)\n",
        "    maxp_5 = MaxPooling2D(pool_size=(2,2))(conv_5)\n",
        "\n",
        "\n",
        "    flatten = Flatten()(maxp_5)\n",
        "    dense_1 = Dense(64,activation='sigmoid')(flatten)\n",
        "    dense_2 = Dense(64,activation='relu')(flatten)\n",
        "\n",
        "    dropout_1 = Dropout(0.2)(dense_1)\n",
        "    dropout_2 = Dropout(0.2)(dense_2)\n",
        "\n",
        "    output_1 = Dense(1,activation='sigmoid',name='sex_out')(dropout_1)\n",
        "    output_2 = Dense(1,activation='relu',name='age_out')(dropout_2)\n",
        "\n",
        "    model = Model(inputs=[inputs],outputs=[output_1,output_2])\n",
        "    model.compile(loss=['binary_crossentropy','mae'],optimizer='Adam',metrics=['accuracy'])\n",
        "    return model\n",
        "\n"
      ],
      "metadata": {
        "id": "Bp8BWJxKYKVX"
      },
      "execution_count": null,
      "outputs": []
    },
    {
      "cell_type": "code",
      "source": [
        "binary_crossentropy"
      ],
      "metadata": {
        "id": "qYBXq7miNUpz"
      },
      "execution_count": null,
      "outputs": []
    },
    {
      "cell_type": "code",
      "source": [
        "model = model((48,48,3))"
      ],
      "metadata": {
        "id": "onazHssWYKZd"
      },
      "execution_count": null,
      "outputs": []
    },
    {
      "cell_type": "code",
      "source": [
        "model.summary()"
      ],
      "metadata": {
        "colab": {
          "base_uri": "https://localhost:8080/"
        },
        "id": "Uu4kGSNLYKdm",
        "outputId": "9c4c7a83-8888-4b28-aaa2-4f41690ae6ca"
      },
      "execution_count": null,
      "outputs": [
        {
          "output_type": "stream",
          "name": "stdout",
          "text": [
            "Model: \"model_4\"\n",
            "__________________________________________________________________________________________________\n",
            " Layer (type)                Output Shape                 Param #   Connected to                  \n",
            "==================================================================================================\n",
            " input_5 (InputLayer)        [(None, 48, 48, 3)]          0         []                            \n",
            "                                                                                                  \n",
            " conv2d_20 (Conv2D)          (None, 48, 48, 32)           896       ['input_5[0][0]']             \n",
            "                                                                                                  \n",
            " dropout_28 (Dropout)        (None, 48, 48, 32)           0         ['conv2d_20[0][0]']           \n",
            "                                                                                                  \n",
            " activation_20 (Activation)  (None, 48, 48, 32)           0         ['dropout_28[0][0]']          \n",
            "                                                                                                  \n",
            " max_pooling2d_20 (MaxPooli  (None, 24, 24, 32)           0         ['activation_20[0][0]']       \n",
            " ng2D)                                                                                            \n",
            "                                                                                                  \n",
            " conv2d_21 (Conv2D)          (None, 24, 24, 64)           18496     ['max_pooling2d_20[0][0]']    \n",
            "                                                                                                  \n",
            " dropout_29 (Dropout)        (None, 24, 24, 64)           0         ['conv2d_21[0][0]']           \n",
            "                                                                                                  \n",
            " activation_21 (Activation)  (None, 24, 24, 64)           0         ['dropout_29[0][0]']          \n",
            "                                                                                                  \n",
            " max_pooling2d_21 (MaxPooli  (None, 12, 12, 64)           0         ['activation_21[0][0]']       \n",
            " ng2D)                                                                                            \n",
            "                                                                                                  \n",
            " conv2d_22 (Conv2D)          (None, 12, 12, 128)          73856     ['max_pooling2d_21[0][0]']    \n",
            "                                                                                                  \n",
            " dropout_30 (Dropout)        (None, 12, 12, 128)          0         ['conv2d_22[0][0]']           \n",
            "                                                                                                  \n",
            " activation_22 (Activation)  (None, 12, 12, 128)          0         ['dropout_30[0][0]']          \n",
            "                                                                                                  \n",
            " max_pooling2d_22 (MaxPooli  (None, 6, 6, 128)            0         ['activation_22[0][0]']       \n",
            " ng2D)                                                                                            \n",
            "                                                                                                  \n",
            " conv2d_23 (Conv2D)          (None, 6, 6, 256)            295168    ['max_pooling2d_22[0][0]']    \n",
            "                                                                                                  \n",
            " dropout_31 (Dropout)        (None, 6, 6, 256)            0         ['conv2d_23[0][0]']           \n",
            "                                                                                                  \n",
            " activation_23 (Activation)  (None, 6, 6, 256)            0         ['dropout_31[0][0]']          \n",
            "                                                                                                  \n",
            " max_pooling2d_23 (MaxPooli  (None, 3, 3, 256)            0         ['activation_23[0][0]']       \n",
            " ng2D)                                                                                            \n",
            "                                                                                                  \n",
            " conv2d_24 (Conv2D)          (None, 3, 3, 512)            1180160   ['max_pooling2d_23[0][0]']    \n",
            "                                                                                                  \n",
            " dropout_32 (Dropout)        (None, 3, 3, 512)            0         ['conv2d_24[0][0]']           \n",
            "                                                                                                  \n",
            " activation_24 (Activation)  (None, 3, 3, 512)            0         ['dropout_32[0][0]']          \n",
            "                                                                                                  \n",
            " max_pooling2d_24 (MaxPooli  (None, 1, 1, 512)            0         ['activation_24[0][0]']       \n",
            " ng2D)                                                                                            \n",
            "                                                                                                  \n",
            " flatten_4 (Flatten)         (None, 512)                  0         ['max_pooling2d_24[0][0]']    \n",
            "                                                                                                  \n",
            " dense_8 (Dense)             (None, 64)                   32832     ['flatten_4[0][0]']           \n",
            "                                                                                                  \n",
            " dense_9 (Dense)             (None, 64)                   32832     ['flatten_4[0][0]']           \n",
            "                                                                                                  \n",
            " dropout_33 (Dropout)        (None, 64)                   0         ['dense_8[0][0]']             \n",
            "                                                                                                  \n",
            " dropout_34 (Dropout)        (None, 64)                   0         ['dense_9[0][0]']             \n",
            "                                                                                                  \n",
            " sex_out (Dense)             (None, 1)                    65        ['dropout_33[0][0]']          \n",
            "                                                                                                  \n",
            " age_out (Dense)             (None, 1)                    65        ['dropout_34[0][0]']          \n",
            "                                                                                                  \n",
            "==================================================================================================\n",
            "Total params: 1634370 (6.23 MB)\n",
            "Trainable params: 1634370 (6.23 MB)\n",
            "Non-trainable params: 0 (0.00 Byte)\n",
            "__________________________________________________________________________________________________\n"
          ]
        }
      ]
    },
    {
      "cell_type": "code",
      "source": [
        "type(model)"
      ],
      "metadata": {
        "colab": {
          "base_uri": "https://localhost:8080/"
        },
        "id": "ice7olygcdcu",
        "outputId": "779bb3f2-78c4-4034-c1df-a7b183d2a605"
      },
      "execution_count": null,
      "outputs": [
        {
          "output_type": "execute_result",
          "data": {
            "text/plain": [
              "keras.src.engine.functional.Functional"
            ]
          },
          "metadata": {},
          "execution_count": 85
        }
      ]
    },
    {
      "cell_type": "markdown",
      "source": [
        "## **Training the Model with train data**"
      ],
      "metadata": {
        "id": "fYzdEE1mSpDu"
      }
    },
    {
      "cell_type": "code",
      "source": [
        "from tensorflow.keras.callbacks import ModelCheckpoint"
      ],
      "metadata": {
        "id": "2LNMRp0gleom"
      },
      "execution_count": null,
      "outputs": []
    },
    {
      "cell_type": "code",
      "source": [
        "fle_s='Age_sex_Detection.h5'\n",
        "checkpoint=ModelCheckpoint(fle_s,mointor='val_loss',verbose=1,save_best_only=True,save_weights_only=False,mode='auto',save_freq='epoch')"
      ],
      "metadata": {
        "id": "iumcEPv2les9"
      },
      "execution_count": null,
      "outputs": []
    },
    {
      "cell_type": "code",
      "source": [
        "Early_stop=tf.keras.callbacks.EarlyStopping(patience=75,monitor='val_loss',restore_best_weights='True')\n",
        "callback_list=[checkpoint,Early_stop]"
      ],
      "metadata": {
        "id": "HcpDS7HOlews"
      },
      "execution_count": null,
      "outputs": []
    },
    {
      "cell_type": "code",
      "source": [
        "History=model.fit(X_train,Y_train_2,batch_size=64,validation_data=(X_test,Y_test_2),epochs=250,callbacks=callback_list)"
      ],
      "metadata": {
        "colab": {
          "base_uri": "https://localhost:8080/"
        },
        "id": "frwp4sw-_Wl5",
        "outputId": "b3d74036-828f-4a5f-beda-05bd58047d48"
      },
      "execution_count": null,
      "outputs": [
        {
          "output_type": "stream",
          "name": "stdout",
          "text": [
            "Epoch 1/250\n",
            "276/278 [============================>.] - ETA: 0s - loss: 17.0849 - sex_out_loss: 0.7159 - age_out_loss: 16.0758 - sex_out_accuracy: 0.5011 - age_out_accuracy: 0.0469\n",
            "Epoch 1: val_loss improved from inf to 16.74417, saving model to Age_sex_Detection.h5\n",
            "278/278 [==============================] - 9s 21ms/step - loss: 17.0675 - sex_out_loss: 0.7158 - age_out_loss: 16.0588 - sex_out_accuracy: 0.5011 - age_out_accuracy: 0.0470 - val_loss: 16.7442 - val_sex_out_loss: 0.6888 - val_age_out_loss: 15.8165 - val_sex_out_accuracy: 0.5180 - val_age_out_accuracy: 0.0481\n",
            "Epoch 2/250\n",
            "277/278 [============================>.] - ETA: 0s - loss: 13.7261 - sex_out_loss: 0.6601 - age_out_loss: 12.7909 - sex_out_accuracy: 0.6104 - age_out_accuracy: 0.0447\n",
            "Epoch 2: val_loss improved from 16.74417 to 13.23027, saving model to Age_sex_Detection.h5\n",
            "278/278 [==============================] - 5s 17ms/step - loss: 13.7258 - sex_out_loss: 0.6600 - age_out_loss: 12.7906 - sex_out_accuracy: 0.6107 - age_out_accuracy: 0.0447 - val_loss: 13.2303 - val_sex_out_loss: 0.6342 - val_age_out_loss: 12.2796 - val_sex_out_accuracy: 0.6504 - val_age_out_accuracy: 0.0467\n",
            "Epoch 3/250\n",
            "277/278 [============================>.] - ETA: 0s - loss: 11.3210 - sex_out_loss: 0.6184 - age_out_loss: 10.3567 - sex_out_accuracy: 0.6616 - age_out_accuracy: 0.0367\n",
            "Epoch 3: val_loss did not improve from 13.23027\n",
            "278/278 [==============================] - 5s 18ms/step - loss: 11.3203 - sex_out_loss: 0.6183 - age_out_loss: 10.3561 - sex_out_accuracy: 0.6617 - age_out_accuracy: 0.0367 - val_loss: 13.5017 - val_sex_out_loss: 0.5808 - val_age_out_loss: 12.5538 - val_sex_out_accuracy: 0.7012 - val_age_out_accuracy: 0.0481\n",
            "Epoch 4/250\n",
            "277/278 [============================>.] - ETA: 0s - loss: 10.1933 - sex_out_loss: 0.5442 - age_out_loss: 9.2624 - sex_out_accuracy: 0.7300 - age_out_accuracy: 0.0387\n",
            "Epoch 4: val_loss did not improve from 13.23027\n",
            "278/278 [==============================] - 4s 16ms/step - loss: 10.1971 - sex_out_loss: 0.5444 - age_out_loss: 9.2660 - sex_out_accuracy: 0.7299 - age_out_accuracy: 0.0388 - val_loss: 13.3203 - val_sex_out_loss: 0.4870 - val_age_out_loss: 12.4312 - val_sex_out_accuracy: 0.7790 - val_age_out_accuracy: 0.0481\n",
            "Epoch 5/250\n",
            "276/278 [============================>.] - ETA: 0s - loss: 9.6286 - sex_out_loss: 0.4782 - age_out_loss: 8.7371 - sex_out_accuracy: 0.7729 - age_out_accuracy: 0.0435\n",
            "Epoch 5: val_loss did not improve from 13.23027\n",
            "278/278 [==============================] - 5s 17ms/step - loss: 9.6346 - sex_out_loss: 0.4780 - age_out_loss: 8.7432 - sex_out_accuracy: 0.7728 - age_out_accuracy: 0.0432 - val_loss: 13.5353 - val_sex_out_loss: 0.4591 - val_age_out_loss: 12.6529 - val_sex_out_accuracy: 0.7864 - val_age_out_accuracy: 0.0202\n",
            "Epoch 6/250\n",
            "277/278 [============================>.] - ETA: 0s - loss: 9.2605 - sex_out_loss: 0.4296 - age_out_loss: 8.3952 - sex_out_accuracy: 0.8009 - age_out_accuracy: 0.0444\n",
            "Epoch 6: val_loss improved from 13.23027 to 10.19022, saving model to Age_sex_Detection.h5\n",
            "278/278 [==============================] - 5s 17ms/step - loss: 9.2539 - sex_out_loss: 0.4298 - age_out_loss: 8.3883 - sex_out_accuracy: 0.8006 - age_out_accuracy: 0.0445 - val_loss: 10.1902 - val_sex_out_loss: 0.3993 - val_age_out_loss: 9.3450 - val_sex_out_accuracy: 0.8235 - val_age_out_accuracy: 0.0481\n",
            "Epoch 7/250\n",
            "276/278 [============================>.] - ETA: 0s - loss: 9.0701 - sex_out_loss: 0.3945 - age_out_loss: 8.2219 - sex_out_accuracy: 0.8207 - age_out_accuracy: 0.0457\n",
            "Epoch 7: val_loss improved from 10.19022 to 9.91947, saving model to Age_sex_Detection.h5\n",
            "278/278 [==============================] - 5s 16ms/step - loss: 9.0712 - sex_out_loss: 0.3937 - age_out_loss: 8.2237 - sex_out_accuracy: 0.8212 - age_out_accuracy: 0.0457 - val_loss: 9.9195 - val_sex_out_loss: 0.3662 - val_age_out_loss: 9.0906 - val_sex_out_accuracy: 0.8350 - val_age_out_accuracy: 0.0481\n",
            "Epoch 8/250\n",
            "276/278 [============================>.] - ETA: 0s - loss: 8.5911 - sex_out_loss: 0.3694 - age_out_loss: 7.7529 - sex_out_accuracy: 0.8313 - age_out_accuracy: 0.0460\n",
            "Epoch 8: val_loss improved from 9.91947 to 8.93404, saving model to Age_sex_Detection.h5\n",
            "278/278 [==============================] - 5s 18ms/step - loss: 8.5981 - sex_out_loss: 0.3689 - age_out_loss: 7.7604 - sex_out_accuracy: 0.8316 - age_out_accuracy: 0.0459 - val_loss: 8.9340 - val_sex_out_loss: 0.3414 - val_age_out_loss: 8.1168 - val_sex_out_accuracy: 0.8448 - val_age_out_accuracy: 0.0481\n",
            "Epoch 9/250\n",
            "278/278 [==============================] - ETA: 0s - loss: 8.3494 - sex_out_loss: 0.3451 - age_out_loss: 7.5220 - sex_out_accuracy: 0.8447 - age_out_accuracy: 0.0461\n",
            "Epoch 9: val_loss did not improve from 8.93404\n",
            "278/278 [==============================] - 5s 17ms/step - loss: 8.3494 - sex_out_loss: 0.3451 - age_out_loss: 7.5220 - sex_out_accuracy: 0.8447 - age_out_accuracy: 0.0461 - val_loss: 9.3246 - val_sex_out_loss: 0.3573 - val_age_out_loss: 8.4789 - val_sex_out_accuracy: 0.8363 - val_age_out_accuracy: 0.0481\n",
            "Epoch 10/250\n",
            "276/278 [============================>.] - ETA: 0s - loss: 8.0958 - sex_out_loss: 0.3341 - age_out_loss: 7.2645 - sex_out_accuracy: 0.8506 - age_out_accuracy: 0.0464\n",
            "Epoch 10: val_loss did not improve from 8.93404\n",
            "278/278 [==============================] - 5s 17ms/step - loss: 8.0926 - sex_out_loss: 0.3344 - age_out_loss: 7.2611 - sex_out_accuracy: 0.8505 - age_out_accuracy: 0.0463 - val_loss: 9.4705 - val_sex_out_loss: 0.3307 - val_age_out_loss: 8.6380 - val_sex_out_accuracy: 0.8480 - val_age_out_accuracy: 0.0481\n",
            "Epoch 11/250\n",
            "277/278 [============================>.] - ETA: 0s - loss: 7.9714 - sex_out_loss: 0.3174 - age_out_loss: 7.1444 - sex_out_accuracy: 0.8564 - age_out_accuracy: 0.0460\n",
            "Epoch 11: val_loss did not improve from 8.93404\n",
            "278/278 [==============================] - 5s 18ms/step - loss: 7.9700 - sex_out_loss: 0.3174 - age_out_loss: 7.1430 - sex_out_accuracy: 0.8563 - age_out_accuracy: 0.0460 - val_loss: 9.9424 - val_sex_out_loss: 0.3070 - val_age_out_loss: 9.1174 - val_sex_out_accuracy: 0.8627 - val_age_out_accuracy: 0.0481\n",
            "Epoch 12/250\n",
            "277/278 [============================>.] - ETA: 0s - loss: 7.8248 - sex_out_loss: 0.3072 - age_out_loss: 6.9930 - sex_out_accuracy: 0.8624 - age_out_accuracy: 0.0465\n",
            "Epoch 12: val_loss improved from 8.93404 to 8.53734, saving model to Age_sex_Detection.h5\n",
            "278/278 [==============================] - 5s 17ms/step - loss: 7.8218 - sex_out_loss: 0.3069 - age_out_loss: 6.9902 - sex_out_accuracy: 0.8625 - age_out_accuracy: 0.0466 - val_loss: 8.5373 - val_sex_out_loss: 0.2891 - val_age_out_loss: 7.7213 - val_sex_out_accuracy: 0.8730 - val_age_out_accuracy: 0.0481\n",
            "Epoch 13/250\n",
            "277/278 [============================>.] - ETA: 0s - loss: 7.7862 - sex_out_loss: 0.2952 - age_out_loss: 6.9540 - sex_out_accuracy: 0.8686 - age_out_accuracy: 0.0459\n",
            "Epoch 13: val_loss did not improve from 8.53734\n",
            "278/278 [==============================] - 5s 17ms/step - loss: 7.7856 - sex_out_loss: 0.2952 - age_out_loss: 6.9534 - sex_out_accuracy: 0.8685 - age_out_accuracy: 0.0458 - val_loss: 9.6695 - val_sex_out_loss: 0.3018 - val_age_out_loss: 8.8260 - val_sex_out_accuracy: 0.8665 - val_age_out_accuracy: 0.0479\n",
            "Epoch 14/250\n",
            "276/278 [============================>.] - ETA: 0s - loss: 7.6423 - sex_out_loss: 0.2999 - age_out_loss: 6.7908 - sex_out_accuracy: 0.8624 - age_out_accuracy: 0.0460\n",
            "Epoch 14: val_loss did not improve from 8.53734\n",
            "278/278 [==============================] - 5s 17ms/step - loss: 7.6430 - sex_out_loss: 0.2993 - age_out_loss: 6.7921 - sex_out_accuracy: 0.8628 - age_out_accuracy: 0.0459 - val_loss: 9.3309 - val_sex_out_loss: 0.2820 - val_age_out_loss: 8.4887 - val_sex_out_accuracy: 0.8753 - val_age_out_accuracy: 0.0481\n",
            "Epoch 15/250\n",
            "275/278 [============================>.] - ETA: 0s - loss: 7.4887 - sex_out_loss: 0.2872 - age_out_loss: 6.6360 - sex_out_accuracy: 0.8702 - age_out_accuracy: 0.0460\n",
            "Epoch 15: val_loss did not improve from 8.53734\n",
            "278/278 [==============================] - 5s 16ms/step - loss: 7.4878 - sex_out_loss: 0.2866 - age_out_loss: 6.6357 - sex_out_accuracy: 0.8709 - age_out_accuracy: 0.0461 - val_loss: 9.1503 - val_sex_out_loss: 0.2764 - val_age_out_loss: 8.3034 - val_sex_out_accuracy: 0.8755 - val_age_out_accuracy: 0.0474\n",
            "Epoch 16/250\n",
            "277/278 [============================>.] - ETA: 0s - loss: 7.4048 - sex_out_loss: 0.2775 - age_out_loss: 6.5498 - sex_out_accuracy: 0.8756 - age_out_accuracy: 0.0466\n",
            "Epoch 16: val_loss improved from 8.53734 to 8.32141, saving model to Age_sex_Detection.h5\n",
            "278/278 [==============================] - 5s 18ms/step - loss: 7.4010 - sex_out_loss: 0.2774 - age_out_loss: 6.5461 - sex_out_accuracy: 0.8755 - age_out_accuracy: 0.0467 - val_loss: 8.3214 - val_sex_out_loss: 0.2773 - val_age_out_loss: 7.4600 - val_sex_out_accuracy: 0.8733 - val_age_out_accuracy: 0.0481\n",
            "Epoch 17/250\n",
            "278/278 [==============================] - ETA: 0s - loss: 7.4058 - sex_out_loss: 0.2741 - age_out_loss: 6.5430 - sex_out_accuracy: 0.8760 - age_out_accuracy: 0.0466\n",
            "Epoch 17: val_loss did not improve from 8.32141\n",
            "278/278 [==============================] - 5s 17ms/step - loss: 7.4058 - sex_out_loss: 0.2741 - age_out_loss: 6.5430 - sex_out_accuracy: 0.8760 - age_out_accuracy: 0.0466 - val_loss: 9.9747 - val_sex_out_loss: 0.2813 - val_age_out_loss: 9.0978 - val_sex_out_accuracy: 0.8709 - val_age_out_accuracy: 0.0481\n",
            "Epoch 18/250\n",
            "275/278 [============================>.] - ETA: 0s - loss: 7.2656 - sex_out_loss: 0.2726 - age_out_loss: 6.3916 - sex_out_accuracy: 0.8798 - age_out_accuracy: 0.0464\n",
            "Epoch 18: val_loss did not improve from 8.32141\n",
            "278/278 [==============================] - 5s 17ms/step - loss: 7.2671 - sex_out_loss: 0.2727 - age_out_loss: 6.3930 - sex_out_accuracy: 0.8796 - age_out_accuracy: 0.0462 - val_loss: 10.3961 - val_sex_out_loss: 0.2725 - val_age_out_loss: 9.5168 - val_sex_out_accuracy: 0.8787 - val_age_out_accuracy: 0.0481\n",
            "Epoch 19/250\n",
            "277/278 [============================>.] - ETA: 0s - loss: 7.1375 - sex_out_loss: 0.2634 - age_out_loss: 6.2611 - sex_out_accuracy: 0.8813 - age_out_accuracy: 0.0465\n",
            "Epoch 19: val_loss improved from 8.32141 to 8.08723, saving model to Age_sex_Detection.h5\n",
            "278/278 [==============================] - 5s 16ms/step - loss: 7.1368 - sex_out_loss: 0.2633 - age_out_loss: 6.2606 - sex_out_accuracy: 0.8813 - age_out_accuracy: 0.0465 - val_loss: 8.0872 - val_sex_out_loss: 0.2726 - val_age_out_loss: 7.1981 - val_sex_out_accuracy: 0.8773 - val_age_out_accuracy: 0.0457\n",
            "Epoch 20/250\n",
            "277/278 [============================>.] - ETA: 0s - loss: 7.1388 - sex_out_loss: 0.2683 - age_out_loss: 6.2447 - sex_out_accuracy: 0.8804 - age_out_accuracy: 0.0464\n",
            "Epoch 20: val_loss did not improve from 8.08723\n",
            "278/278 [==============================] - 4s 16ms/step - loss: 7.1364 - sex_out_loss: 0.2682 - age_out_loss: 6.2424 - sex_out_accuracy: 0.8803 - age_out_accuracy: 0.0465 - val_loss: 8.4644 - val_sex_out_loss: 0.2631 - val_age_out_loss: 7.5693 - val_sex_out_accuracy: 0.8809 - val_age_out_accuracy: 0.0481\n",
            "Epoch 21/250\n",
            "277/278 [============================>.] - ETA: 0s - loss: 7.1165 - sex_out_loss: 0.2694 - age_out_loss: 6.2100 - sex_out_accuracy: 0.8782 - age_out_accuracy: 0.0465\n",
            "Epoch 21: val_loss did not improve from 8.08723\n",
            "278/278 [==============================] - 5s 17ms/step - loss: 7.1187 - sex_out_loss: 0.2693 - age_out_loss: 6.2122 - sex_out_accuracy: 0.8783 - age_out_accuracy: 0.0464 - val_loss: 10.5707 - val_sex_out_loss: 0.3083 - val_age_out_loss: 9.6207 - val_sex_out_accuracy: 0.8617 - val_age_out_accuracy: 0.0481\n",
            "Epoch 22/250\n",
            "277/278 [============================>.] - ETA: 0s - loss: 7.0012 - sex_out_loss: 0.2555 - age_out_loss: 6.0994 - sex_out_accuracy: 0.8877 - age_out_accuracy: 0.0461\n",
            "Epoch 22: val_loss improved from 8.08723 to 7.57059, saving model to Age_sex_Detection.h5\n",
            "278/278 [==============================] - 5s 17ms/step - loss: 7.0014 - sex_out_loss: 0.2558 - age_out_loss: 6.0993 - sex_out_accuracy: 0.8875 - age_out_accuracy: 0.0462 - val_loss: 7.5706 - val_sex_out_loss: 0.2608 - val_age_out_loss: 6.6591 - val_sex_out_accuracy: 0.8819 - val_age_out_accuracy: 0.0481\n",
            "Epoch 23/250\n",
            "277/278 [============================>.] - ETA: 0s - loss: 6.9372 - sex_out_loss: 0.2535 - age_out_loss: 6.0288 - sex_out_accuracy: 0.8877 - age_out_accuracy: 0.0461\n",
            "Epoch 23: val_loss improved from 7.57059 to 7.41747, saving model to Age_sex_Detection.h5\n",
            "278/278 [==============================] - 5s 18ms/step - loss: 6.9363 - sex_out_loss: 0.2532 - age_out_loss: 6.0283 - sex_out_accuracy: 0.8881 - age_out_accuracy: 0.0461 - val_loss: 7.4175 - val_sex_out_loss: 0.2646 - val_age_out_loss: 6.4911 - val_sex_out_accuracy: 0.8757 - val_age_out_accuracy: 0.0481\n",
            "Epoch 24/250\n",
            "275/278 [============================>.] - ETA: 0s - loss: 6.9239 - sex_out_loss: 0.2598 - age_out_loss: 5.9964 - sex_out_accuracy: 0.8828 - age_out_accuracy: 0.0468\n",
            "Epoch 24: val_loss did not improve from 7.41747\n",
            "278/278 [==============================] - 5s 17ms/step - loss: 6.9184 - sex_out_loss: 0.2602 - age_out_loss: 5.9905 - sex_out_accuracy: 0.8828 - age_out_accuracy: 0.0466 - val_loss: 8.8911 - val_sex_out_loss: 0.3197 - val_age_out_loss: 7.8992 - val_sex_out_accuracy: 0.8493 - val_age_out_accuracy: 0.0481\n",
            "Epoch 25/250\n",
            "277/278 [============================>.] - ETA: 0s - loss: 6.7662 - sex_out_loss: 0.2506 - age_out_loss: 5.8377 - sex_out_accuracy: 0.8897 - age_out_accuracy: 0.0463\n",
            "Epoch 25: val_loss did not improve from 7.41747\n",
            "278/278 [==============================] - 4s 16ms/step - loss: 6.7645 - sex_out_loss: 0.2503 - age_out_loss: 5.8363 - sex_out_accuracy: 0.8898 - age_out_accuracy: 0.0464 - val_loss: 8.1645 - val_sex_out_loss: 0.2686 - val_age_out_loss: 7.2138 - val_sex_out_accuracy: 0.8733 - val_age_out_accuracy: 0.0481\n",
            "Epoch 26/250\n",
            "277/278 [============================>.] - ETA: 0s - loss: 6.7882 - sex_out_loss: 0.2469 - age_out_loss: 5.8544 - sex_out_accuracy: 0.8918 - age_out_accuracy: 0.0466\n",
            "Epoch 26: val_loss did not improve from 7.41747\n",
            "278/278 [==============================] - 5s 18ms/step - loss: 6.7868 - sex_out_loss: 0.2469 - age_out_loss: 5.8529 - sex_out_accuracy: 0.8917 - age_out_accuracy: 0.0467 - val_loss: 7.9057 - val_sex_out_loss: 0.2766 - val_age_out_loss: 6.9382 - val_sex_out_accuracy: 0.8711 - val_age_out_accuracy: 0.0479\n",
            "Epoch 27/250\n",
            "276/278 [============================>.] - ETA: 0s - loss: 6.7915 - sex_out_loss: 0.2514 - age_out_loss: 5.8412 - sex_out_accuracy: 0.8884 - age_out_accuracy: 0.0460\n",
            "Epoch 27: val_loss did not improve from 7.41747\n",
            "278/278 [==============================] - 5s 17ms/step - loss: 6.7851 - sex_out_loss: 0.2512 - age_out_loss: 5.8349 - sex_out_accuracy: 0.8888 - age_out_accuracy: 0.0463 - val_loss: 8.2432 - val_sex_out_loss: 0.2592 - val_age_out_loss: 7.2768 - val_sex_out_accuracy: 0.8824 - val_age_out_accuracy: 0.0481\n",
            "Epoch 28/250\n",
            "276/278 [============================>.] - ETA: 0s - loss: 6.7593 - sex_out_loss: 0.2509 - age_out_loss: 5.7970 - sex_out_accuracy: 0.8909 - age_out_accuracy: 0.0467\n",
            "Epoch 28: val_loss did not improve from 7.41747\n",
            "278/278 [==============================] - 5s 17ms/step - loss: 6.7618 - sex_out_loss: 0.2510 - age_out_loss: 5.7993 - sex_out_accuracy: 0.8908 - age_out_accuracy: 0.0465 - val_loss: 8.3658 - val_sex_out_loss: 0.2841 - val_age_out_loss: 7.3649 - val_sex_out_accuracy: 0.8667 - val_age_out_accuracy: 0.0477\n",
            "Epoch 29/250\n",
            "275/278 [============================>.] - ETA: 0s - loss: 6.6015 - sex_out_loss: 0.2455 - age_out_loss: 5.6362 - sex_out_accuracy: 0.8931 - age_out_accuracy: 0.0465\n",
            "Epoch 29: val_loss did not improve from 7.41747\n",
            "278/278 [==============================] - 5s 18ms/step - loss: 6.6089 - sex_out_loss: 0.2455 - age_out_loss: 5.6435 - sex_out_accuracy: 0.8931 - age_out_accuracy: 0.0465 - val_loss: 8.4217 - val_sex_out_loss: 0.2657 - val_age_out_loss: 7.4305 - val_sex_out_accuracy: 0.8802 - val_age_out_accuracy: 0.0479\n",
            "Epoch 30/250\n",
            "277/278 [============================>.] - ETA: 0s - loss: 6.6150 - sex_out_loss: 0.2436 - age_out_loss: 5.6417 - sex_out_accuracy: 0.8919 - age_out_accuracy: 0.0463\n",
            "Epoch 30: val_loss did not improve from 7.41747\n",
            "278/278 [==============================] - 5s 17ms/step - loss: 6.6171 - sex_out_loss: 0.2435 - age_out_loss: 5.6439 - sex_out_accuracy: 0.8920 - age_out_accuracy: 0.0463 - val_loss: 8.4068 - val_sex_out_loss: 0.2876 - val_age_out_loss: 7.3849 - val_sex_out_accuracy: 0.8696 - val_age_out_accuracy: 0.0477\n",
            "Epoch 31/250\n",
            "277/278 [============================>.] - ETA: 0s - loss: 6.6094 - sex_out_loss: 0.2367 - age_out_loss: 5.6324 - sex_out_accuracy: 0.8955 - age_out_accuracy: 0.0464\n",
            "Epoch 31: val_loss did not improve from 7.41747\n",
            "278/278 [==============================] - 5s 19ms/step - loss: 6.6087 - sex_out_loss: 0.2369 - age_out_loss: 5.6315 - sex_out_accuracy: 0.8955 - age_out_accuracy: 0.0465 - val_loss: 8.4392 - val_sex_out_loss: 0.2611 - val_age_out_loss: 7.4301 - val_sex_out_accuracy: 0.8800 - val_age_out_accuracy: 0.0479\n",
            "Epoch 32/250\n",
            "277/278 [============================>.] - ETA: 0s - loss: 6.5685 - sex_out_loss: 0.2393 - age_out_loss: 5.5775 - sex_out_accuracy: 0.8941 - age_out_accuracy: 0.0464\n",
            "Epoch 32: val_loss did not improve from 7.41747\n",
            "278/278 [==============================] - 4s 16ms/step - loss: 6.5722 - sex_out_loss: 0.2395 - age_out_loss: 5.5810 - sex_out_accuracy: 0.8940 - age_out_accuracy: 0.0465 - val_loss: 8.6824 - val_sex_out_loss: 0.2574 - val_age_out_loss: 7.6718 - val_sex_out_accuracy: 0.8858 - val_age_out_accuracy: 0.0481\n",
            "Epoch 33/250\n",
            "277/278 [============================>.] - ETA: 0s - loss: 6.5349 - sex_out_loss: 0.2308 - age_out_loss: 5.5454 - sex_out_accuracy: 0.8976 - age_out_accuracy: 0.0468\n",
            "Epoch 33: val_loss did not improve from 7.41747\n",
            "278/278 [==============================] - 5s 17ms/step - loss: 6.5342 - sex_out_loss: 0.2310 - age_out_loss: 5.5445 - sex_out_accuracy: 0.8974 - age_out_accuracy: 0.0469 - val_loss: 8.4904 - val_sex_out_loss: 0.2568 - val_age_out_loss: 7.4667 - val_sex_out_accuracy: 0.8859 - val_age_out_accuracy: 0.0479\n",
            "Epoch 34/250\n",
            "276/278 [============================>.] - ETA: 0s - loss: 6.5145 - sex_out_loss: 0.2272 - age_out_loss: 5.5138 - sex_out_accuracy: 0.9016 - age_out_accuracy: 0.0467\n",
            "Epoch 34: val_loss did not improve from 7.41747\n",
            "278/278 [==============================] - 5s 17ms/step - loss: 6.5122 - sex_out_loss: 0.2271 - age_out_loss: 5.5116 - sex_out_accuracy: 0.9018 - age_out_accuracy: 0.0466 - val_loss: 7.9743 - val_sex_out_loss: 0.2517 - val_age_out_loss: 6.9421 - val_sex_out_accuracy: 0.8890 - val_age_out_accuracy: 0.0476\n",
            "Epoch 35/250\n",
            "275/278 [============================>.] - ETA: 0s - loss: 6.4772 - sex_out_loss: 0.2364 - age_out_loss: 5.4575 - sex_out_accuracy: 0.8972 - age_out_accuracy: 0.0464\n",
            "Epoch 35: val_loss did not improve from 7.41747\n",
            "278/278 [==============================] - 4s 16ms/step - loss: 6.4797 - sex_out_loss: 0.2359 - age_out_loss: 5.4605 - sex_out_accuracy: 0.8972 - age_out_accuracy: 0.0463 - val_loss: 8.3504 - val_sex_out_loss: 0.2780 - val_age_out_loss: 7.2852 - val_sex_out_accuracy: 0.8733 - val_age_out_accuracy: 0.0476\n",
            "Epoch 36/250\n",
            "276/278 [============================>.] - ETA: 0s - loss: 6.4863 - sex_out_loss: 0.2339 - age_out_loss: 5.4641 - sex_out_accuracy: 0.8963 - age_out_accuracy: 0.0466\n",
            "Epoch 36: val_loss did not improve from 7.41747\n",
            "278/278 [==============================] - 5s 17ms/step - loss: 6.4910 - sex_out_loss: 0.2341 - age_out_loss: 5.4686 - sex_out_accuracy: 0.8962 - age_out_accuracy: 0.0465 - val_loss: 7.5463 - val_sex_out_loss: 0.2595 - val_age_out_loss: 6.4952 - val_sex_out_accuracy: 0.8870 - val_age_out_accuracy: 0.0479\n",
            "Epoch 37/250\n",
            "276/278 [============================>.] - ETA: 0s - loss: 6.4170 - sex_out_loss: 0.2296 - age_out_loss: 5.3914 - sex_out_accuracy: 0.8980 - age_out_accuracy: 0.0463\n",
            "Epoch 37: val_loss did not improve from 7.41747\n",
            "278/278 [==============================] - 5s 17ms/step - loss: 6.4177 - sex_out_loss: 0.2297 - age_out_loss: 5.3920 - sex_out_accuracy: 0.8980 - age_out_accuracy: 0.0464 - val_loss: 8.0941 - val_sex_out_loss: 0.2550 - val_age_out_loss: 7.0370 - val_sex_out_accuracy: 0.8865 - val_age_out_accuracy: 0.0481\n",
            "Epoch 38/250\n",
            "275/278 [============================>.] - ETA: 0s - loss: 6.4499 - sex_out_loss: 0.2372 - age_out_loss: 5.4011 - sex_out_accuracy: 0.8951 - age_out_accuracy: 0.0464\n",
            "Epoch 38: val_loss did not improve from 7.41747\n",
            "278/278 [==============================] - 5s 17ms/step - loss: 6.4564 - sex_out_loss: 0.2370 - age_out_loss: 5.4077 - sex_out_accuracy: 0.8953 - age_out_accuracy: 0.0464 - val_loss: 8.0271 - val_sex_out_loss: 0.2639 - val_age_out_loss: 6.9467 - val_sex_out_accuracy: 0.8817 - val_age_out_accuracy: 0.0474\n",
            "Epoch 39/250\n",
            "277/278 [============================>.] - ETA: 0s - loss: 6.4148 - sex_out_loss: 0.2287 - age_out_loss: 5.3668 - sex_out_accuracy: 0.8981 - age_out_accuracy: 0.0465\n",
            "Epoch 39: val_loss did not improve from 7.41747\n",
            "278/278 [==============================] - 5s 20ms/step - loss: 6.4161 - sex_out_loss: 0.2286 - age_out_loss: 5.3682 - sex_out_accuracy: 0.8983 - age_out_accuracy: 0.0465 - val_loss: 8.2946 - val_sex_out_loss: 0.2577 - val_age_out_loss: 7.2161 - val_sex_out_accuracy: 0.8819 - val_age_out_accuracy: 0.0481\n",
            "Epoch 40/250\n",
            "277/278 [============================>.] - ETA: 0s - loss: 6.3769 - sex_out_loss: 0.2259 - age_out_loss: 5.3254 - sex_out_accuracy: 0.9011 - age_out_accuracy: 0.0468\n",
            "Epoch 40: val_loss did not improve from 7.41747\n",
            "278/278 [==============================] - 4s 16ms/step - loss: 6.3774 - sex_out_loss: 0.2260 - age_out_loss: 5.3259 - sex_out_accuracy: 0.9012 - age_out_accuracy: 0.0467 - val_loss: 7.7080 - val_sex_out_loss: 0.2520 - val_age_out_loss: 6.6253 - val_sex_out_accuracy: 0.8846 - val_age_out_accuracy: 0.0477\n",
            "Epoch 41/250\n",
            "276/278 [============================>.] - ETA: 0s - loss: 6.4031 - sex_out_loss: 0.2252 - age_out_loss: 5.3424 - sex_out_accuracy: 0.8983 - age_out_accuracy: 0.0465\n",
            "Epoch 41: val_loss did not improve from 7.41747\n",
            "278/278 [==============================] - 5s 17ms/step - loss: 6.4059 - sex_out_loss: 0.2258 - age_out_loss: 5.3447 - sex_out_accuracy: 0.8981 - age_out_accuracy: 0.0466 - val_loss: 7.8188 - val_sex_out_loss: 0.2573 - val_age_out_loss: 6.7240 - val_sex_out_accuracy: 0.8863 - val_age_out_accuracy: 0.0477\n",
            "Epoch 42/250\n",
            "277/278 [============================>.] - ETA: 0s - loss: 6.2958 - sex_out_loss: 0.2258 - age_out_loss: 5.2310 - sex_out_accuracy: 0.8998 - age_out_accuracy: 0.0460\n",
            "Epoch 42: val_loss did not improve from 7.41747\n",
            "278/278 [==============================] - 4s 16ms/step - loss: 6.2924 - sex_out_loss: 0.2257 - age_out_loss: 5.2277 - sex_out_accuracy: 0.8998 - age_out_accuracy: 0.0461 - val_loss: 8.1963 - val_sex_out_loss: 0.2465 - val_age_out_loss: 7.1089 - val_sex_out_accuracy: 0.8895 - val_age_out_accuracy: 0.0481\n",
            "Epoch 43/250\n",
            "277/278 [============================>.] - ETA: 0s - loss: 6.2835 - sex_out_loss: 0.2238 - age_out_loss: 5.2145 - sex_out_accuracy: 0.9003 - age_out_accuracy: 0.0465\n",
            "Epoch 43: val_loss did not improve from 7.41747\n",
            "278/278 [==============================] - 5s 17ms/step - loss: 6.2841 - sex_out_loss: 0.2236 - age_out_loss: 5.2153 - sex_out_accuracy: 0.9003 - age_out_accuracy: 0.0463 - val_loss: 8.3002 - val_sex_out_loss: 0.2469 - val_age_out_loss: 7.2053 - val_sex_out_accuracy: 0.8922 - val_age_out_accuracy: 0.0477\n",
            "Epoch 44/250\n",
            "276/278 [============================>.] - ETA: 0s - loss: 6.3685 - sex_out_loss: 0.2179 - age_out_loss: 5.2981 - sex_out_accuracy: 0.9037 - age_out_accuracy: 0.0457\n",
            "Epoch 44: val_loss did not improve from 7.41747\n",
            "278/278 [==============================] - 5s 18ms/step - loss: 6.3671 - sex_out_loss: 0.2177 - age_out_loss: 5.2970 - sex_out_accuracy: 0.9038 - age_out_accuracy: 0.0458 - val_loss: 8.5507 - val_sex_out_loss: 0.2519 - val_age_out_loss: 7.4442 - val_sex_out_accuracy: 0.8880 - val_age_out_accuracy: 0.0481\n",
            "Epoch 45/250\n",
            "276/278 [============================>.] - ETA: 0s - loss: 6.2822 - sex_out_loss: 0.2226 - age_out_loss: 5.1985 - sex_out_accuracy: 0.9026 - age_out_accuracy: 0.0456\n",
            "Epoch 45: val_loss did not improve from 7.41747\n",
            "278/278 [==============================] - 4s 16ms/step - loss: 6.2821 - sex_out_loss: 0.2225 - age_out_loss: 5.1983 - sex_out_accuracy: 0.9025 - age_out_accuracy: 0.0457 - val_loss: 7.7714 - val_sex_out_loss: 0.2661 - val_age_out_loss: 6.6372 - val_sex_out_accuracy: 0.8787 - val_age_out_accuracy: 0.0481\n",
            "Epoch 46/250\n",
            "278/278 [==============================] - ETA: 0s - loss: 6.2957 - sex_out_loss: 0.2225 - age_out_loss: 5.2015 - sex_out_accuracy: 0.9028 - age_out_accuracy: 0.0463\n",
            "Epoch 46: val_loss did not improve from 7.41747\n",
            "278/278 [==============================] - 5s 17ms/step - loss: 6.2957 - sex_out_loss: 0.2225 - age_out_loss: 5.2015 - sex_out_accuracy: 0.9028 - age_out_accuracy: 0.0463 - val_loss: 7.5468 - val_sex_out_loss: 0.2483 - val_age_out_loss: 6.4253 - val_sex_out_accuracy: 0.8898 - val_age_out_accuracy: 0.0481\n",
            "Epoch 47/250\n",
            "278/278 [==============================] - ETA: 0s - loss: 6.2259 - sex_out_loss: 0.2261 - age_out_loss: 5.1232 - sex_out_accuracy: 0.9003 - age_out_accuracy: 0.0462\n",
            "Epoch 47: val_loss did not improve from 7.41747\n",
            "278/278 [==============================] - 5s 16ms/step - loss: 6.2259 - sex_out_loss: 0.2261 - age_out_loss: 5.1232 - sex_out_accuracy: 0.9003 - age_out_accuracy: 0.0462 - val_loss: 8.1504 - val_sex_out_loss: 0.2404 - val_age_out_loss: 7.0294 - val_sex_out_accuracy: 0.8959 - val_age_out_accuracy: 0.0477\n",
            "Epoch 48/250\n",
            "276/278 [============================>.] - ETA: 0s - loss: 6.1985 - sex_out_loss: 0.2163 - age_out_loss: 5.0973 - sex_out_accuracy: 0.9061 - age_out_accuracy: 0.0460\n",
            "Epoch 48: val_loss did not improve from 7.41747\n",
            "278/278 [==============================] - 5s 17ms/step - loss: 6.1985 - sex_out_loss: 0.2172 - age_out_loss: 5.0963 - sex_out_accuracy: 0.9057 - age_out_accuracy: 0.0461 - val_loss: 7.8660 - val_sex_out_loss: 0.2573 - val_age_out_loss: 6.7180 - val_sex_out_accuracy: 0.8876 - val_age_out_accuracy: 0.0481\n",
            "Epoch 49/250\n",
            "276/278 [============================>.] - ETA: 0s - loss: 6.2743 - sex_out_loss: 0.2198 - age_out_loss: 5.1578 - sex_out_accuracy: 0.9060 - age_out_accuracy: 0.0459\n",
            "Epoch 49: val_loss did not improve from 7.41747\n",
            "278/278 [==============================] - 5s 18ms/step - loss: 6.2770 - sex_out_loss: 0.2200 - age_out_loss: 5.1604 - sex_out_accuracy: 0.9058 - age_out_accuracy: 0.0458 - val_loss: 7.5766 - val_sex_out_loss: 0.2631 - val_age_out_loss: 6.4131 - val_sex_out_accuracy: 0.8799 - val_age_out_accuracy: 0.0481\n",
            "Epoch 50/250\n",
            "277/278 [============================>.] - ETA: 0s - loss: 6.2828 - sex_out_loss: 0.2158 - age_out_loss: 5.1655 - sex_out_accuracy: 0.9015 - age_out_accuracy: 0.0465\n",
            "Epoch 50: val_loss did not improve from 7.41747\n",
            "278/278 [==============================] - 5s 17ms/step - loss: 6.2813 - sex_out_loss: 0.2158 - age_out_loss: 5.1640 - sex_out_accuracy: 0.9014 - age_out_accuracy: 0.0465 - val_loss: 7.7473 - val_sex_out_loss: 0.2629 - val_age_out_loss: 6.5815 - val_sex_out_accuracy: 0.8836 - val_age_out_accuracy: 0.0477\n",
            "Epoch 51/250\n",
            "277/278 [============================>.] - ETA: 0s - loss: 6.1855 - sex_out_loss: 0.2143 - age_out_loss: 5.0663 - sex_out_accuracy: 0.9061 - age_out_accuracy: 0.0462\n",
            "Epoch 51: val_loss did not improve from 7.41747\n",
            "278/278 [==============================] - 5s 17ms/step - loss: 6.1859 - sex_out_loss: 0.2144 - age_out_loss: 5.0665 - sex_out_accuracy: 0.9062 - age_out_accuracy: 0.0462 - val_loss: 8.6607 - val_sex_out_loss: 0.2463 - val_age_out_loss: 7.5057 - val_sex_out_accuracy: 0.8920 - val_age_out_accuracy: 0.0481\n",
            "Epoch 52/250\n",
            "275/278 [============================>.] - ETA: 0s - loss: 6.2285 - sex_out_loss: 0.2196 - age_out_loss: 5.0960 - sex_out_accuracy: 0.9054 - age_out_accuracy: 0.0457\n",
            "Epoch 52: val_loss did not improve from 7.41747\n",
            "278/278 [==============================] - 5s 17ms/step - loss: 6.2340 - sex_out_loss: 0.2195 - age_out_loss: 5.1016 - sex_out_accuracy: 0.9055 - age_out_accuracy: 0.0457 - val_loss: 9.1362 - val_sex_out_loss: 0.2581 - val_age_out_loss: 7.9622 - val_sex_out_accuracy: 0.8843 - val_age_out_accuracy: 0.0474\n",
            "Epoch 53/250\n",
            "276/278 [============================>.] - ETA: 0s - loss: 6.1193 - sex_out_loss: 0.2082 - age_out_loss: 4.9938 - sex_out_accuracy: 0.9078 - age_out_accuracy: 0.0456\n",
            "Epoch 53: val_loss did not improve from 7.41747\n",
            "278/278 [==============================] - 5s 17ms/step - loss: 6.1224 - sex_out_loss: 0.2084 - age_out_loss: 4.9968 - sex_out_accuracy: 0.9075 - age_out_accuracy: 0.0456 - val_loss: 7.6126 - val_sex_out_loss: 0.2611 - val_age_out_loss: 6.4336 - val_sex_out_accuracy: 0.8838 - val_age_out_accuracy: 0.0481\n",
            "Epoch 54/250\n",
            "275/278 [============================>.] - ETA: 0s - loss: 6.1739 - sex_out_loss: 0.2096 - age_out_loss: 5.0429 - sex_out_accuracy: 0.9093 - age_out_accuracy: 0.0463\n",
            "Epoch 54: val_loss did not improve from 7.41747\n",
            "278/278 [==============================] - 5s 18ms/step - loss: 6.1763 - sex_out_loss: 0.2095 - age_out_loss: 5.0455 - sex_out_accuracy: 0.9094 - age_out_accuracy: 0.0462 - val_loss: 7.7286 - val_sex_out_loss: 0.2581 - val_age_out_loss: 6.5468 - val_sex_out_accuracy: 0.8905 - val_age_out_accuracy: 0.0479\n",
            "Epoch 55/250\n",
            "277/278 [============================>.] - ETA: 0s - loss: 6.1832 - sex_out_loss: 0.2125 - age_out_loss: 5.0436 - sex_out_accuracy: 0.9065 - age_out_accuracy: 0.0460\n",
            "Epoch 55: val_loss did not improve from 7.41747\n",
            "278/278 [==============================] - 5s 17ms/step - loss: 6.1816 - sex_out_loss: 0.2126 - age_out_loss: 5.0419 - sex_out_accuracy: 0.9065 - age_out_accuracy: 0.0461 - val_loss: 7.8811 - val_sex_out_loss: 0.2474 - val_age_out_loss: 6.7036 - val_sex_out_accuracy: 0.8925 - val_age_out_accuracy: 0.0479\n",
            "Epoch 56/250\n",
            "276/278 [============================>.] - ETA: 0s - loss: 6.1665 - sex_out_loss: 0.2081 - age_out_loss: 5.0272 - sex_out_accuracy: 0.9070 - age_out_accuracy: 0.0459\n",
            "Epoch 56: val_loss did not improve from 7.41747\n",
            "278/278 [==============================] - 5s 17ms/step - loss: 6.1688 - sex_out_loss: 0.2078 - age_out_loss: 5.0298 - sex_out_accuracy: 0.9074 - age_out_accuracy: 0.0461 - val_loss: 7.5908 - val_sex_out_loss: 0.2538 - val_age_out_loss: 6.4040 - val_sex_out_accuracy: 0.8902 - val_age_out_accuracy: 0.0472\n",
            "Epoch 57/250\n",
            "277/278 [============================>.] - ETA: 0s - loss: 6.1939 - sex_out_loss: 0.2086 - age_out_loss: 5.0464 - sex_out_accuracy: 0.9100 - age_out_accuracy: 0.0452\n",
            "Epoch 57: val_loss did not improve from 7.41747\n",
            "278/278 [==============================] - 5s 17ms/step - loss: 6.1962 - sex_out_loss: 0.2089 - age_out_loss: 5.0484 - sex_out_accuracy: 0.9097 - age_out_accuracy: 0.0454 - val_loss: 7.4728 - val_sex_out_loss: 0.2567 - val_age_out_loss: 6.2735 - val_sex_out_accuracy: 0.8827 - val_age_out_accuracy: 0.0477\n",
            "Epoch 58/250\n",
            "276/278 [============================>.] - ETA: 0s - loss: 6.0878 - sex_out_loss: 0.2151 - age_out_loss: 4.9280 - sex_out_accuracy: 0.9069 - age_out_accuracy: 0.0459\n",
            "Epoch 58: val_loss did not improve from 7.41747\n",
            "278/278 [==============================] - 5s 17ms/step - loss: 6.0893 - sex_out_loss: 0.2151 - age_out_loss: 4.9294 - sex_out_accuracy: 0.9069 - age_out_accuracy: 0.0459 - val_loss: 7.7873 - val_sex_out_loss: 0.2500 - val_age_out_loss: 6.5890 - val_sex_out_accuracy: 0.8888 - val_age_out_accuracy: 0.0479\n",
            "Epoch 59/250\n",
            "275/278 [============================>.] - ETA: 0s - loss: 6.1088 - sex_out_loss: 0.2098 - age_out_loss: 4.9498 - sex_out_accuracy: 0.9106 - age_out_accuracy: 0.0453\n",
            "Epoch 59: val_loss did not improve from 7.41747\n",
            "278/278 [==============================] - 5s 19ms/step - loss: 6.1058 - sex_out_loss: 0.2103 - age_out_loss: 4.9462 - sex_out_accuracy: 0.9101 - age_out_accuracy: 0.0456 - val_loss: 7.5110 - val_sex_out_loss: 0.2539 - val_age_out_loss: 6.3070 - val_sex_out_accuracy: 0.8917 - val_age_out_accuracy: 0.0479\n",
            "Epoch 60/250\n",
            "275/278 [============================>.] - ETA: 0s - loss: 6.0747 - sex_out_loss: 0.2082 - age_out_loss: 4.9154 - sex_out_accuracy: 0.9097 - age_out_accuracy: 0.0451\n",
            "Epoch 60: val_loss did not improve from 7.41747\n",
            "278/278 [==============================] - 4s 16ms/step - loss: 6.0810 - sex_out_loss: 0.2075 - age_out_loss: 4.9224 - sex_out_accuracy: 0.9100 - age_out_accuracy: 0.0449 - val_loss: 7.7684 - val_sex_out_loss: 0.2533 - val_age_out_loss: 6.5622 - val_sex_out_accuracy: 0.8910 - val_age_out_accuracy: 0.0479\n",
            "Epoch 61/250\n",
            "275/278 [============================>.] - ETA: 0s - loss: 6.0612 - sex_out_loss: 0.2124 - age_out_loss: 4.8946 - sex_out_accuracy: 0.9056 - age_out_accuracy: 0.0451\n",
            "Epoch 61: val_loss did not improve from 7.41747\n",
            "278/278 [==============================] - 5s 16ms/step - loss: 6.0574 - sex_out_loss: 0.2125 - age_out_loss: 4.8906 - sex_out_accuracy: 0.9054 - age_out_accuracy: 0.0453 - val_loss: 7.6235 - val_sex_out_loss: 0.2570 - val_age_out_loss: 6.4097 - val_sex_out_accuracy: 0.8910 - val_age_out_accuracy: 0.0481\n",
            "Epoch 62/250\n",
            "278/278 [==============================] - ETA: 0s - loss: 6.0610 - sex_out_loss: 0.2085 - age_out_loss: 4.8938 - sex_out_accuracy: 0.9084 - age_out_accuracy: 0.0442\n",
            "Epoch 62: val_loss did not improve from 7.41747\n",
            "278/278 [==============================] - 5s 17ms/step - loss: 6.0610 - sex_out_loss: 0.2085 - age_out_loss: 4.8938 - sex_out_accuracy: 0.9084 - age_out_accuracy: 0.0442 - val_loss: 7.9498 - val_sex_out_loss: 0.2436 - val_age_out_loss: 6.7434 - val_sex_out_accuracy: 0.8915 - val_age_out_accuracy: 0.0481\n",
            "Epoch 63/250\n",
            "276/278 [============================>.] - ETA: 0s - loss: 6.0717 - sex_out_loss: 0.2023 - age_out_loss: 4.9056 - sex_out_accuracy: 0.9123 - age_out_accuracy: 0.0447\n",
            "Epoch 63: val_loss did not improve from 7.41747\n",
            "278/278 [==============================] - 4s 16ms/step - loss: 6.0717 - sex_out_loss: 0.2024 - age_out_loss: 4.9056 - sex_out_accuracy: 0.9124 - age_out_accuracy: 0.0448 - val_loss: 7.8279 - val_sex_out_loss: 0.2528 - val_age_out_loss: 6.6073 - val_sex_out_accuracy: 0.8929 - val_age_out_accuracy: 0.0481\n",
            "Epoch 64/250\n",
            "275/278 [============================>.] - ETA: 0s - loss: 6.0091 - sex_out_loss: 0.2020 - age_out_loss: 4.8374 - sex_out_accuracy: 0.9128 - age_out_accuracy: 0.0456\n",
            "Epoch 64: val_loss did not improve from 7.41747\n",
            "278/278 [==============================] - 5s 17ms/step - loss: 6.0145 - sex_out_loss: 0.2026 - age_out_loss: 4.8422 - sex_out_accuracy: 0.9127 - age_out_accuracy: 0.0453 - val_loss: 7.8380 - val_sex_out_loss: 0.2514 - val_age_out_loss: 6.6152 - val_sex_out_accuracy: 0.8922 - val_age_out_accuracy: 0.0477\n",
            "Epoch 65/250\n",
            "277/278 [============================>.] - ETA: 0s - loss: 6.0264 - sex_out_loss: 0.2072 - age_out_loss: 4.8460 - sex_out_accuracy: 0.9089 - age_out_accuracy: 0.0454\n",
            "Epoch 65: val_loss did not improve from 7.41747\n",
            "278/278 [==============================] - 5s 17ms/step - loss: 6.0306 - sex_out_loss: 0.2076 - age_out_loss: 4.8499 - sex_out_accuracy: 0.9087 - age_out_accuracy: 0.0454 - val_loss: 9.1423 - val_sex_out_loss: 0.2524 - val_age_out_loss: 7.9130 - val_sex_out_accuracy: 0.8915 - val_age_out_accuracy: 0.0481\n",
            "Epoch 66/250\n",
            "277/278 [============================>.] - ETA: 0s - loss: 6.0482 - sex_out_loss: 0.2047 - age_out_loss: 4.8644 - sex_out_accuracy: 0.9123 - age_out_accuracy: 0.0450\n",
            "Epoch 66: val_loss did not improve from 7.41747\n",
            "278/278 [==============================] - 5s 17ms/step - loss: 6.0529 - sex_out_loss: 0.2049 - age_out_loss: 4.8689 - sex_out_accuracy: 0.9124 - age_out_accuracy: 0.0448 - val_loss: 7.6323 - val_sex_out_loss: 0.2746 - val_age_out_loss: 6.3759 - val_sex_out_accuracy: 0.8790 - val_age_out_accuracy: 0.0477\n",
            "Epoch 67/250\n",
            "275/278 [============================>.] - ETA: 0s - loss: 6.0208 - sex_out_loss: 0.2036 - age_out_loss: 4.8343 - sex_out_accuracy: 0.9107 - age_out_accuracy: 0.0451\n",
            "Epoch 67: val_loss did not improve from 7.41747\n",
            "278/278 [==============================] - 5s 17ms/step - loss: 6.0183 - sex_out_loss: 0.2034 - age_out_loss: 4.8319 - sex_out_accuracy: 0.9109 - age_out_accuracy: 0.0450 - val_loss: 8.0041 - val_sex_out_loss: 0.2612 - val_age_out_loss: 6.7581 - val_sex_out_accuracy: 0.8924 - val_age_out_accuracy: 0.0481\n",
            "Epoch 68/250\n",
            "276/278 [============================>.] - ETA: 0s - loss: 6.0137 - sex_out_loss: 0.2004 - age_out_loss: 4.8259 - sex_out_accuracy: 0.9129 - age_out_accuracy: 0.0456\n",
            "Epoch 68: val_loss did not improve from 7.41747\n",
            "278/278 [==============================] - 4s 16ms/step - loss: 6.0150 - sex_out_loss: 0.2001 - age_out_loss: 4.8273 - sex_out_accuracy: 0.9130 - age_out_accuracy: 0.0457 - val_loss: 8.2674 - val_sex_out_loss: 0.2505 - val_age_out_loss: 7.0258 - val_sex_out_accuracy: 0.8937 - val_age_out_accuracy: 0.0481\n",
            "Epoch 69/250\n",
            "278/278 [==============================] - ETA: 0s - loss: 5.9575 - sex_out_loss: 0.2061 - age_out_loss: 4.7582 - sex_out_accuracy: 0.9111 - age_out_accuracy: 0.0450\n",
            "Epoch 69: val_loss did not improve from 7.41747\n",
            "278/278 [==============================] - 5s 17ms/step - loss: 5.9575 - sex_out_loss: 0.2061 - age_out_loss: 4.7582 - sex_out_accuracy: 0.9111 - age_out_accuracy: 0.0450 - val_loss: 8.1705 - val_sex_out_loss: 0.3251 - val_age_out_loss: 6.8499 - val_sex_out_accuracy: 0.8517 - val_age_out_accuracy: 0.0477\n",
            "Epoch 70/250\n",
            "277/278 [============================>.] - ETA: 0s - loss: 6.0182 - sex_out_loss: 0.2056 - age_out_loss: 4.8157 - sex_out_accuracy: 0.9106 - age_out_accuracy: 0.0450\n",
            "Epoch 70: val_loss did not improve from 7.41747\n",
            "278/278 [==============================] - 5s 16ms/step - loss: 6.0172 - sex_out_loss: 0.2058 - age_out_loss: 4.8145 - sex_out_accuracy: 0.9104 - age_out_accuracy: 0.0449 - val_loss: 8.0330 - val_sex_out_loss: 0.2441 - val_age_out_loss: 6.7913 - val_sex_out_accuracy: 0.8903 - val_age_out_accuracy: 0.0479\n",
            "Epoch 71/250\n",
            "277/278 [============================>.] - ETA: 0s - loss: 5.9950 - sex_out_loss: 0.2039 - age_out_loss: 4.7913 - sex_out_accuracy: 0.9132 - age_out_accuracy: 0.0446\n",
            "Epoch 71: val_loss did not improve from 7.41747\n",
            "278/278 [==============================] - 4s 16ms/step - loss: 5.9928 - sex_out_loss: 0.2037 - age_out_loss: 4.7892 - sex_out_accuracy: 0.9133 - age_out_accuracy: 0.0446 - val_loss: 8.1873 - val_sex_out_loss: 0.2528 - val_age_out_loss: 6.9329 - val_sex_out_accuracy: 0.8888 - val_age_out_accuracy: 0.0481\n",
            "Epoch 72/250\n",
            "275/278 [============================>.] - ETA: 0s - loss: 5.9583 - sex_out_loss: 0.2036 - age_out_loss: 4.7531 - sex_out_accuracy: 0.9123 - age_out_accuracy: 0.0444\n",
            "Epoch 72: val_loss did not improve from 7.41747\n",
            "278/278 [==============================] - 5s 19ms/step - loss: 5.9552 - sex_out_loss: 0.2035 - age_out_loss: 4.7500 - sex_out_accuracy: 0.9121 - age_out_accuracy: 0.0443 - val_loss: 8.0542 - val_sex_out_loss: 0.2489 - val_age_out_loss: 6.8022 - val_sex_out_accuracy: 0.8913 - val_age_out_accuracy: 0.0479\n",
            "Epoch 73/250\n",
            "276/278 [============================>.] - ETA: 0s - loss: 5.9772 - sex_out_loss: 0.1958 - age_out_loss: 4.7768 - sex_out_accuracy: 0.9152 - age_out_accuracy: 0.0446\n",
            "Epoch 73: val_loss did not improve from 7.41747\n",
            "278/278 [==============================] - 5s 17ms/step - loss: 5.9730 - sex_out_loss: 0.1962 - age_out_loss: 4.7722 - sex_out_accuracy: 0.9152 - age_out_accuracy: 0.0446 - val_loss: 7.9082 - val_sex_out_loss: 0.2439 - val_age_out_loss: 6.6600 - val_sex_out_accuracy: 0.8929 - val_age_out_accuracy: 0.0476\n",
            "Epoch 74/250\n",
            "277/278 [============================>.] - ETA: 0s - loss: 5.9674 - sex_out_loss: 0.1957 - age_out_loss: 4.7647 - sex_out_accuracy: 0.9173 - age_out_accuracy: 0.0443\n",
            "Epoch 74: val_loss did not improve from 7.41747\n",
            "278/278 [==============================] - 4s 16ms/step - loss: 5.9692 - sex_out_loss: 0.1956 - age_out_loss: 4.7666 - sex_out_accuracy: 0.9173 - age_out_accuracy: 0.0443 - val_loss: 8.0736 - val_sex_out_loss: 0.2605 - val_age_out_loss: 6.8057 - val_sex_out_accuracy: 0.8861 - val_age_out_accuracy: 0.0477\n",
            "Epoch 75/250\n",
            "276/278 [============================>.] - ETA: 0s - loss: 5.8724 - sex_out_loss: 0.1983 - age_out_loss: 4.6647 - sex_out_accuracy: 0.9142 - age_out_accuracy: 0.0433\n",
            "Epoch 75: val_loss did not improve from 7.41747\n",
            "278/278 [==============================] - 5s 17ms/step - loss: 5.8748 - sex_out_loss: 0.1980 - age_out_loss: 4.6673 - sex_out_accuracy: 0.9142 - age_out_accuracy: 0.0434 - val_loss: 7.4708 - val_sex_out_loss: 0.2457 - val_age_out_loss: 6.2137 - val_sex_out_accuracy: 0.8962 - val_age_out_accuracy: 0.0477\n",
            "Epoch 76/250\n",
            "275/278 [============================>.] - ETA: 0s - loss: 5.9537 - sex_out_loss: 0.2055 - age_out_loss: 4.7345 - sex_out_accuracy: 0.9115 - age_out_accuracy: 0.0431\n",
            "Epoch 76: val_loss did not improve from 7.41747\n",
            "278/278 [==============================] - 5s 17ms/step - loss: 5.9542 - sex_out_loss: 0.2058 - age_out_loss: 4.7346 - sex_out_accuracy: 0.9115 - age_out_accuracy: 0.0431 - val_loss: 7.6169 - val_sex_out_loss: 0.2545 - val_age_out_loss: 6.3474 - val_sex_out_accuracy: 0.8905 - val_age_out_accuracy: 0.0477\n",
            "Epoch 77/250\n",
            "277/278 [============================>.] - ETA: 0s - loss: 5.9284 - sex_out_loss: 0.2011 - age_out_loss: 4.7114 - sex_out_accuracy: 0.9121 - age_out_accuracy: 0.0447\n",
            "Epoch 77: val_loss did not improve from 7.41747\n",
            "278/278 [==============================] - 5s 18ms/step - loss: 5.9290 - sex_out_loss: 0.2016 - age_out_loss: 4.7115 - sex_out_accuracy: 0.9118 - age_out_accuracy: 0.0447 - val_loss: 7.9662 - val_sex_out_loss: 0.2517 - val_age_out_loss: 6.6968 - val_sex_out_accuracy: 0.8927 - val_age_out_accuracy: 0.0481\n",
            "Epoch 78/250\n",
            "278/278 [==============================] - ETA: 0s - loss: 5.8787 - sex_out_loss: 0.2001 - age_out_loss: 4.6594 - sex_out_accuracy: 0.9147 - age_out_accuracy: 0.0423\n",
            "Epoch 78: val_loss did not improve from 7.41747\n",
            "278/278 [==============================] - 5s 17ms/step - loss: 5.8787 - sex_out_loss: 0.2001 - age_out_loss: 4.6594 - sex_out_accuracy: 0.9147 - age_out_accuracy: 0.0423 - val_loss: 7.9675 - val_sex_out_loss: 0.2495 - val_age_out_loss: 6.6973 - val_sex_out_accuracy: 0.8932 - val_age_out_accuracy: 0.0481\n",
            "Epoch 79/250\n",
            "277/278 [============================>.] - ETA: 0s - loss: 5.9779 - sex_out_loss: 0.1988 - age_out_loss: 4.7564 - sex_out_accuracy: 0.9147 - age_out_accuracy: 0.0433\n",
            "Epoch 79: val_loss did not improve from 7.41747\n",
            "278/278 [==============================] - 5s 17ms/step - loss: 5.9739 - sex_out_loss: 0.1986 - age_out_loss: 4.7527 - sex_out_accuracy: 0.9148 - age_out_accuracy: 0.0431 - val_loss: 7.5671 - val_sex_out_loss: 0.2564 - val_age_out_loss: 6.2851 - val_sex_out_accuracy: 0.8858 - val_age_out_accuracy: 0.0477\n",
            "Epoch 80/250\n",
            "275/278 [============================>.] - ETA: 0s - loss: 5.8455 - sex_out_loss: 0.1982 - age_out_loss: 4.6202 - sex_out_accuracy: 0.9145 - age_out_accuracy: 0.0436\n",
            "Epoch 80: val_loss did not improve from 7.41747\n",
            "278/278 [==============================] - 5s 17ms/step - loss: 5.8443 - sex_out_loss: 0.1985 - age_out_loss: 4.6187 - sex_out_accuracy: 0.9142 - age_out_accuracy: 0.0438 - val_loss: 7.9022 - val_sex_out_loss: 0.2705 - val_age_out_loss: 6.6029 - val_sex_out_accuracy: 0.8804 - val_age_out_accuracy: 0.0481\n",
            "Epoch 81/250\n",
            "277/278 [============================>.] - ETA: 0s - loss: 5.9492 - sex_out_loss: 0.2001 - age_out_loss: 4.7190 - sex_out_accuracy: 0.9140 - age_out_accuracy: 0.0438\n",
            "Epoch 81: val_loss did not improve from 7.41747\n",
            "278/278 [==============================] - 5s 16ms/step - loss: 5.9502 - sex_out_loss: 0.2002 - age_out_loss: 4.7199 - sex_out_accuracy: 0.9140 - age_out_accuracy: 0.0437 - val_loss: 7.4454 - val_sex_out_loss: 0.2549 - val_age_out_loss: 6.1607 - val_sex_out_accuracy: 0.8866 - val_age_out_accuracy: 0.0472\n",
            "Epoch 82/250\n",
            "277/278 [============================>.] - ETA: 0s - loss: 5.8753 - sex_out_loss: 0.1929 - age_out_loss: 4.6532 - sex_out_accuracy: 0.9169 - age_out_accuracy: 0.0412\n",
            "Epoch 82: val_loss did not improve from 7.41747\n",
            "278/278 [==============================] - 5s 18ms/step - loss: 5.8749 - sex_out_loss: 0.1933 - age_out_loss: 4.6524 - sex_out_accuracy: 0.9167 - age_out_accuracy: 0.0412 - val_loss: 7.5401 - val_sex_out_loss: 0.2673 - val_age_out_loss: 6.2438 - val_sex_out_accuracy: 0.8848 - val_age_out_accuracy: 0.0471\n",
            "Epoch 83/250\n",
            "278/278 [==============================] - ETA: 0s - loss: 5.8992 - sex_out_loss: 0.1930 - age_out_loss: 4.6744 - sex_out_accuracy: 0.9176 - age_out_accuracy: 0.0424\n",
            "Epoch 83: val_loss did not improve from 7.41747\n",
            "278/278 [==============================] - 5s 17ms/step - loss: 5.8992 - sex_out_loss: 0.1930 - age_out_loss: 4.6744 - sex_out_accuracy: 0.9176 - age_out_accuracy: 0.0424 - val_loss: 8.0491 - val_sex_out_loss: 0.2482 - val_age_out_loss: 6.7669 - val_sex_out_accuracy: 0.8930 - val_age_out_accuracy: 0.0481\n",
            "Epoch 84/250\n",
            "277/278 [============================>.] - ETA: 0s - loss: 5.8519 - sex_out_loss: 0.2001 - age_out_loss: 4.6179 - sex_out_accuracy: 0.9143 - age_out_accuracy: 0.0430\n",
            "Epoch 84: val_loss did not improve from 7.41747\n",
            "278/278 [==============================] - 5s 17ms/step - loss: 5.8523 - sex_out_loss: 0.2004 - age_out_loss: 4.6180 - sex_out_accuracy: 0.9141 - age_out_accuracy: 0.0430 - val_loss: 7.8828 - val_sex_out_loss: 0.2638 - val_age_out_loss: 6.5838 - val_sex_out_accuracy: 0.8863 - val_age_out_accuracy: 0.0476\n",
            "Epoch 85/250\n",
            "277/278 [============================>.] - ETA: 0s - loss: 5.9053 - sex_out_loss: 0.1994 - age_out_loss: 4.6699 - sex_out_accuracy: 0.9136 - age_out_accuracy: 0.0430\n",
            "Epoch 85: val_loss did not improve from 7.41747\n",
            "278/278 [==============================] - 5s 18ms/step - loss: 5.9069 - sex_out_loss: 0.1996 - age_out_loss: 4.6714 - sex_out_accuracy: 0.9137 - age_out_accuracy: 0.0430 - val_loss: 7.7389 - val_sex_out_loss: 0.2473 - val_age_out_loss: 6.4536 - val_sex_out_accuracy: 0.8966 - val_age_out_accuracy: 0.0479\n",
            "Epoch 86/250\n",
            "277/278 [============================>.] - ETA: 0s - loss: 5.8254 - sex_out_loss: 0.1939 - age_out_loss: 4.5940 - sex_out_accuracy: 0.9160 - age_out_accuracy: 0.0423\n",
            "Epoch 86: val_loss did not improve from 7.41747\n",
            "278/278 [==============================] - 4s 16ms/step - loss: 5.8266 - sex_out_loss: 0.1937 - age_out_loss: 4.5953 - sex_out_accuracy: 0.9160 - age_out_accuracy: 0.0423 - val_loss: 8.3472 - val_sex_out_loss: 0.2507 - val_age_out_loss: 7.0579 - val_sex_out_accuracy: 0.8895 - val_age_out_accuracy: 0.0477\n",
            "Epoch 87/250\n",
            "278/278 [==============================] - ETA: 0s - loss: 5.9195 - sex_out_loss: 0.1874 - age_out_loss: 4.6908 - sex_out_accuracy: 0.9199 - age_out_accuracy: 0.0427\n",
            "Epoch 87: val_loss did not improve from 7.41747\n",
            "278/278 [==============================] - 5s 18ms/step - loss: 5.9195 - sex_out_loss: 0.1874 - age_out_loss: 4.6908 - sex_out_accuracy: 0.9199 - age_out_accuracy: 0.0427 - val_loss: 7.8055 - val_sex_out_loss: 0.2448 - val_age_out_loss: 6.5165 - val_sex_out_accuracy: 0.8913 - val_age_out_accuracy: 0.0481\n",
            "Epoch 88/250\n",
            "276/278 [============================>.] - ETA: 0s - loss: 5.9030 - sex_out_loss: 0.1942 - age_out_loss: 4.6644 - sex_out_accuracy: 0.9168 - age_out_accuracy: 0.0419\n",
            "Epoch 88: val_loss did not improve from 7.41747\n",
            "278/278 [==============================] - 5s 19ms/step - loss: 5.8994 - sex_out_loss: 0.1941 - age_out_loss: 4.6610 - sex_out_accuracy: 0.9168 - age_out_accuracy: 0.0420 - val_loss: 7.6563 - val_sex_out_loss: 0.2527 - val_age_out_loss: 6.3581 - val_sex_out_accuracy: 0.8908 - val_age_out_accuracy: 0.0476\n",
            "Epoch 89/250\n",
            "276/278 [============================>.] - ETA: 0s - loss: 5.8303 - sex_out_loss: 0.1919 - age_out_loss: 4.5932 - sex_out_accuracy: 0.9168 - age_out_accuracy: 0.0414\n",
            "Epoch 89: val_loss did not improve from 7.41747\n",
            "278/278 [==============================] - 5s 17ms/step - loss: 5.8296 - sex_out_loss: 0.1917 - age_out_loss: 4.5926 - sex_out_accuracy: 0.9169 - age_out_accuracy: 0.0415 - val_loss: 8.3772 - val_sex_out_loss: 0.2490 - val_age_out_loss: 7.0825 - val_sex_out_accuracy: 0.8929 - val_age_out_accuracy: 0.0481\n",
            "Epoch 90/250\n",
            "277/278 [============================>.] - ETA: 0s - loss: 5.7886 - sex_out_loss: 0.1903 - age_out_loss: 4.5508 - sex_out_accuracy: 0.9197 - age_out_accuracy: 0.0420\n",
            "Epoch 90: val_loss did not improve from 7.41747\n",
            "278/278 [==============================] - 5s 19ms/step - loss: 5.7893 - sex_out_loss: 0.1905 - age_out_loss: 4.5513 - sex_out_accuracy: 0.9196 - age_out_accuracy: 0.0421 - val_loss: 8.0637 - val_sex_out_loss: 0.2632 - val_age_out_loss: 6.7510 - val_sex_out_accuracy: 0.8868 - val_age_out_accuracy: 0.0477\n",
            "Epoch 91/250\n",
            "276/278 [============================>.] - ETA: 0s - loss: 5.8255 - sex_out_loss: 0.1931 - age_out_loss: 4.5820 - sex_out_accuracy: 0.9174 - age_out_accuracy: 0.0404\n",
            "Epoch 91: val_loss did not improve from 7.41747\n",
            "278/278 [==============================] - 5s 16ms/step - loss: 5.8291 - sex_out_loss: 0.1933 - age_out_loss: 4.5854 - sex_out_accuracy: 0.9174 - age_out_accuracy: 0.0405 - val_loss: 7.8300 - val_sex_out_loss: 0.2554 - val_age_out_loss: 6.5229 - val_sex_out_accuracy: 0.8854 - val_age_out_accuracy: 0.0472\n",
            "Epoch 92/250\n",
            "277/278 [============================>.] - ETA: 0s - loss: 5.8396 - sex_out_loss: 0.1937 - age_out_loss: 4.5950 - sex_out_accuracy: 0.9165 - age_out_accuracy: 0.0416\n",
            "Epoch 92: val_loss did not improve from 7.41747\n",
            "278/278 [==============================] - 5s 17ms/step - loss: 5.8383 - sex_out_loss: 0.1935 - age_out_loss: 4.5939 - sex_out_accuracy: 0.9165 - age_out_accuracy: 0.0416 - val_loss: 8.1071 - val_sex_out_loss: 0.2513 - val_age_out_loss: 6.8062 - val_sex_out_accuracy: 0.8939 - val_age_out_accuracy: 0.0481\n",
            "Epoch 93/250\n",
            "277/278 [============================>.] - ETA: 0s - loss: 5.8466 - sex_out_loss: 0.1979 - age_out_loss: 4.5951 - sex_out_accuracy: 0.9144 - age_out_accuracy: 0.0416\n",
            "Epoch 93: val_loss did not improve from 7.41747\n",
            "278/278 [==============================] - 5s 17ms/step - loss: 5.8479 - sex_out_loss: 0.1978 - age_out_loss: 4.5964 - sex_out_accuracy: 0.9145 - age_out_accuracy: 0.0415 - val_loss: 8.1124 - val_sex_out_loss: 0.2620 - val_age_out_loss: 6.7927 - val_sex_out_accuracy: 0.8809 - val_age_out_accuracy: 0.0472\n",
            "Epoch 94/250\n",
            "275/278 [============================>.] - ETA: 0s - loss: 5.8221 - sex_out_loss: 0.1916 - age_out_loss: 4.5710 - sex_out_accuracy: 0.9173 - age_out_accuracy: 0.0423\n",
            "Epoch 94: val_loss did not improve from 7.41747\n",
            "278/278 [==============================] - 5s 17ms/step - loss: 5.8228 - sex_out_loss: 0.1912 - age_out_loss: 4.5721 - sex_out_accuracy: 0.9175 - age_out_accuracy: 0.0425 - val_loss: 8.3467 - val_sex_out_loss: 0.2510 - val_age_out_loss: 7.0358 - val_sex_out_accuracy: 0.8954 - val_age_out_accuracy: 0.0481\n",
            "Epoch 95/250\n",
            "278/278 [==============================] - ETA: 0s - loss: 5.7984 - sex_out_loss: 0.1916 - age_out_loss: 4.5467 - sex_out_accuracy: 0.9193 - age_out_accuracy: 0.0422\n",
            "Epoch 95: val_loss did not improve from 7.41747\n",
            "278/278 [==============================] - 5s 17ms/step - loss: 5.7984 - sex_out_loss: 0.1916 - age_out_loss: 4.5467 - sex_out_accuracy: 0.9193 - age_out_accuracy: 0.0422 - val_loss: 7.7633 - val_sex_out_loss: 0.2494 - val_age_out_loss: 6.4525 - val_sex_out_accuracy: 0.8959 - val_age_out_accuracy: 0.0476\n",
            "Epoch 96/250\n",
            "275/278 [============================>.] - ETA: 0s - loss: 5.8691 - sex_out_loss: 0.1909 - age_out_loss: 4.6158 - sex_out_accuracy: 0.9197 - age_out_accuracy: 0.0415\n",
            "Epoch 96: val_loss did not improve from 7.41747\n",
            "278/278 [==============================] - 5s 16ms/step - loss: 5.8705 - sex_out_loss: 0.1904 - age_out_loss: 4.6177 - sex_out_accuracy: 0.9200 - age_out_accuracy: 0.0414 - val_loss: 7.7374 - val_sex_out_loss: 0.2581 - val_age_out_loss: 6.4169 - val_sex_out_accuracy: 0.8880 - val_age_out_accuracy: 0.0471\n",
            "Epoch 97/250\n",
            "275/278 [============================>.] - ETA: 0s - loss: 5.7904 - sex_out_loss: 0.1906 - age_out_loss: 4.5366 - sex_out_accuracy: 0.9161 - age_out_accuracy: 0.0414\n",
            "Epoch 97: val_loss did not improve from 7.41747\n",
            "278/278 [==============================] - 5s 17ms/step - loss: 5.7930 - sex_out_loss: 0.1903 - age_out_loss: 4.5396 - sex_out_accuracy: 0.9162 - age_out_accuracy: 0.0412 - val_loss: 7.5562 - val_sex_out_loss: 0.2433 - val_age_out_loss: 6.2485 - val_sex_out_accuracy: 0.8964 - val_age_out_accuracy: 0.0466\n",
            "Epoch 98/250\n",
            "275/278 [============================>.] - ETA: 0s - loss: 5.8578 - sex_out_loss: 0.1921 - age_out_loss: 4.5996 - sex_out_accuracy: 0.9171 - age_out_accuracy: 0.0416\n",
            "Epoch 98: val_loss did not improve from 7.41747\n",
            "278/278 [==============================] - 5s 17ms/step - loss: 5.8622 - sex_out_loss: 0.1918 - age_out_loss: 4.6043 - sex_out_accuracy: 0.9175 - age_out_accuracy: 0.0416 - val_loss: 7.7989 - val_sex_out_loss: 0.2471 - val_age_out_loss: 6.4843 - val_sex_out_accuracy: 0.8957 - val_age_out_accuracy: 0.0479\n"
          ]
        }
      ]
    },
    {
      "cell_type": "markdown",
      "source": [
        "## **Evaluate the model**"
      ],
      "metadata": {
        "id": "DLV_znE_SxbJ"
      }
    },
    {
      "cell_type": "code",
      "source": [
        "model.evaluate(X_test,Y_test_2)"
      ],
      "metadata": {
        "id": "D6YiskG-le8I",
        "colab": {
          "base_uri": "https://localhost:8080/"
        },
        "outputId": "6f6c25f3-69c8-466b-96be-cbc171089712"
      },
      "execution_count": null,
      "outputs": [
        {
          "output_type": "stream",
          "name": "stdout",
          "text": [
            "186/186 [==============================] - 1s 5ms/step - loss: 7.4175 - sex_out_loss: 0.2646 - age_out_loss: 6.4911 - sex_out_accuracy: 0.8757 - age_out_accuracy: 0.0481\n"
          ]
        },
        {
          "output_type": "execute_result",
          "data": {
            "text/plain": [
              "[7.417470932006836,\n",
              " 0.2646131217479706,\n",
              " 6.4911417961120605,\n",
              " 0.8756538033485413,\n",
              " 0.048085033893585205]"
            ]
          },
          "metadata": {},
          "execution_count": 90
        }
      ]
    },
    {
      "cell_type": "markdown",
      "source": [
        "## Predict using the Created model"
      ],
      "metadata": {
        "id": "k_KDhhzKS6B4"
      }
    },
    {
      "cell_type": "code",
      "source": [
        "    pred = model.predict(X_test)"
      ],
      "metadata": {
        "id": "PeTR3GMgle_o",
        "colab": {
          "base_uri": "https://localhost:8080/"
        },
        "outputId": "c0cb7fdf-4a3d-4a05-d9ce-73a4496857e7"
      },
      "execution_count": null,
      "outputs": [
        {
          "output_type": "stream",
          "name": "stdout",
          "text": [
            "186/186 [==============================] - 1s 3ms/step\n"
          ]
        }
      ]
    },
    {
      "cell_type": "code",
      "source": [
        "pred[1]"
      ],
      "metadata": {
        "id": "ly8auaqPlfDt",
        "colab": {
          "base_uri": "https://localhost:8080/"
        },
        "outputId": "d205683c-287e-4b2c-e538-243e62ad4ea7"
      },
      "execution_count": null,
      "outputs": [
        {
          "output_type": "execute_result",
          "data": {
            "text/plain": [
              "array([[72.557205],\n",
              "       [26.667627],\n",
              "       [61.448067],\n",
              "       ...,\n",
              "       [24.734758],\n",
              "       [32.354034],\n",
              "       [22.018147]], dtype=float32)"
            ]
          },
          "metadata": {},
          "execution_count": 93
        }
      ]
    },
    {
      "cell_type": "markdown",
      "source": [
        "## **Plotting the Result**"
      ],
      "metadata": {
        "id": "wqJsCT2FTOhn"
      }
    },
    {
      "cell_type": "code",
      "source": [
        "plt.plot(History.history['loss'])\n",
        "plt.plot(History.history['val_loss'])\n",
        "plt.title('Model Loss')\n",
        "plt.xlabel=('Epoch')\n",
        "plt.ylabel=('Loss')\n",
        "plt.legend(['Train\", \"Validation'], loc='upper left')\n",
        "plt.subplots_adjust(top=1.0,bottom=0.0,right=0.95,left=0,hspace=0.25,wspace=0.35)"
      ],
      "metadata": {
        "id": "q9o1LLPudwfp",
        "colab": {
          "base_uri": "https://localhost:8080/",
          "height": 563
        },
        "outputId": "e93beceb-543e-4723-e427-cca48e972e9c"
      },
      "execution_count": null,
      "outputs": [
        {
          "output_type": "display_data",
          "data": {
            "text/plain": [
              "<Figure size 640x480 with 1 Axes>"
            ],
            "image/png": "[encoded data removed]"
          },
          "metadata": {}
        }
      ]
    },
    {
      "cell_type": "code",
      "source": [
        "plt.plot(History.history['sex_out_accuracy'])\n",
        "plt.plot(History.history['val_sex_out_accuracy'])\n",
        "plt.title('Model Loss')\n",
        "plt.xlabel=('Epoch')\n",
        "plt.ylabel=('Loss')\n",
        "plt.legend(['Train\", \"Validation'], loc='upper left')\n",
        "plt.subplots_adjust(top=1.0,bottom=0.0,right=0.95,left=0,hspace=0.25,wspace=0.35)"
      ],
      "metadata": {
        "id": "45xTvtQAZVIR",
        "colab": {
          "base_uri": "https://localhost:8080/",
          "height": 563
        },
        "outputId": "880e3479-de39-4476-c4e1-ec7c154c9886"
      },
      "execution_count": null,
      "outputs": [
        {
          "output_type": "display_data",
          "data": {
            "text/plain": [
              "<Figure size 640x480 with 1 Axes>"
            ],
            "image/png": "[encoded data removed]"
          },
          "metadata": {}
        }
      ]
    },
    {
      "cell_type": "code",
      "source": [
        "fig,ax=plt.subplots()\n",
        "ax.scatter(Y_test_2[1],pred[1])\n",
        "ax.plot([Y_test_2[1].min(),Y_test_2[1].max()], [Y_test_2[1].min(),Y_test_2[1].max()], 'k--',lw=4)\n",
        "ax.set_xlabel('Actual Age')\n",
        "ax.set_ylabel('Predicted Age')\n",
        "plt.show()"
      ],
      "metadata": {
        "colab": {
          "base_uri": "https://localhost:8080/",
          "height": 453
        },
        "id": "eNqWAazGQ7Zf",
        "outputId": "be4849f0-c743-42a8-9656-f5305f0ec8ef"
      },
      "execution_count": null,
      "outputs": [
        {
          "output_type": "display_data",
          "data": {
            "text/plain": [
              "<Figure size 640x480 with 1 Axes>"
            ],
            "image/png": "[encoded data removed]"
          },
          "metadata": {}
        }
      ]
    },
    {
      "cell_type": "code",
      "source": [
        "i=0\n",
        "Pred_l=[]\n",
        "while(i<len(pred[0])):\n",
        "  Pred_l.append(int(np.round(pred[0][i])))\n",
        "  i=i+1\n",
        "\n"
      ],
      "metadata": {
        "id": "sU7E053qQ7mO"
      },
      "execution_count": null,
      "outputs": []
    },
    {
      "cell_type": "markdown",
      "source": [
        "## **Confusion Matrix**"
      ],
      "metadata": {
        "id": "bMa70LQlTpk6"
      }
    },
    {
      "cell_type": "code",
      "source": [
        "from sklearn.metrics import confusion_matrix\n",
        "from sklearn.metrics import classification_report"
      ],
      "metadata": {
        "id": "hdOurRnvQ7vO"
      },
      "execution_count": null,
      "outputs": []
    },
    {
      "cell_type": "code",
      "source": [
        "report=classification_report(Y_test_2[0], Pred_l)\n",
        "print(report)"
      ],
      "metadata": {
        "colab": {
          "base_uri": "https://localhost:8080/"
        },
        "id": "AgDDWcePSZqt",
        "outputId": "0378b8c0-c28c-4b96-862e-93204424f6c9"
      },
      "execution_count": null,
      "outputs": [
        {
          "output_type": "stream",
          "name": "stdout",
          "text": [
            "              precision    recall  f1-score   support\n",
            "\n",
            "           0       0.92      0.84      0.88      3156\n",
            "           1       0.84      0.91      0.87      2771\n",
            "\n",
            "    accuracy                           0.88      5927\n",
            "   macro avg       0.88      0.88      0.88      5927\n",
            "weighted avg       0.88      0.88      0.88      5927\n",
            "\n"
          ]
        }
      ]
    },
    {
      "cell_type": "code",
      "source": [
        "result = confusion_matrix(Y_test_2[0],Pred_l)"
      ],
      "metadata": {
        "id": "-pVCHgjJTM8E"
      },
      "execution_count": null,
      "outputs": []
    },
    {
      "cell_type": "markdown",
      "source": [
        "## **Plotting the Confusion matrix with Heat Map**"
      ],
      "metadata": {
        "id": "7lv2pGV8TyB_"
      }
    },
    {
      "cell_type": "code",
      "source": [
        "import seaborn as sns\n",
        "sns.heatmap(result,annot = True)"
      ],
      "metadata": {
        "colab": {
          "base_uri": "https://localhost:8080/",
          "height": 448
        },
        "id": "hOfSZloySZvM",
        "outputId": "a47f5ee1-12cc-49ef-8ab5-81456f4c4015"
      },
      "execution_count": null,
      "outputs": [
        {
          "output_type": "execute_result",
          "data": {
            "text/plain": [
              "<Axes: >"
            ]
          },
          "metadata": {},
          "execution_count": 101
        },
        {
          "output_type": "display_data",
          "data": {
            "text/plain": [
              "<Figure size 640x480 with 2 Axes>"
            ],
            "image/png": "[encoded data removed]"
          },
          "metadata": {}
        }
      ]
    },
    {
      "cell_type": "markdown",
      "source": [
        "## **Testing the model with images**"
      ],
      "metadata": {
        "id": "RyVapxyZUHwx"
      }
    },
    {
      "cell_type": "code",
      "source": [
        "def test_image(ind, images_f,images_f_2, Model):\n",
        "  plt.imshow(images_f[ind])\n",
        "  image_test=images_f_2[ind]\n",
        "  pred_l=Model.predict(np.array([image_test]))\n",
        "  sex_f=['Male','Female']\n",
        "  age=int(np.round(pred_l[1][0]))\n",
        "  sex=int(np.round(pred_l[0][0]))\n",
        "  print(\"Predicted Age is \"+ str(age))\n",
        "  print(\"Predicted Gender is \"+ sex_f[sex])"
      ],
      "metadata": {
        "id": "QJG-71CMSZzV"
      },
      "execution_count": null,
      "outputs": []
    },
    {
      "cell_type": "code",
      "source": [
        "test_image(9,images_f,images_f_2, model)"
      ],
      "metadata": {
        "colab": {
          "base_uri": "https://localhost:8080/",
          "height": 486
        },
        "id": "IcB-RJskauiS",
        "outputId": "58824360-970e-4be5-bb48-eeb1f3610037"
      },
      "execution_count": null,
      "outputs": [
        {
          "output_type": "stream",
          "name": "stdout",
          "text": [
            "1/1 [==============================] - 0s 341ms/step\n",
            "Predicted Age is 46\n",
            "Predicted Gender is Male\n"
          ]
        },
        {
          "output_type": "display_data",
          "data": {
            "text/plain": [
              "<Figure size 640x480 with 1 Axes>"
            ],
            "image/png": "[encoded data removed]"
          },
          "metadata": {}
        }
      ]
    },
    {
      "cell_type": "code",
      "source": [
        "test_image(400,images_f,images_f_2, model)"
      ],
      "metadata": {
        "colab": {
          "base_uri": "https://localhost:8080/",
          "height": 486
        },
        "id": "6_ZfpQQKeTnQ",
        "outputId": "de42bb0f-3585-4757-cb52-d44c5b46392c"
      },
      "execution_count": null,
      "outputs": [
        {
          "output_type": "stream",
          "name": "stdout",
          "text": [
            "1/1 [==============================] - 0s 19ms/step\n",
            "Predicted Age is 23\n",
            "Predicted Gender is Female\n"
          ]
        },
        {
          "output_type": "display_data",
          "data": {
            "text/plain": [
              "<Figure size 640x480 with 1 Axes>"
            ],
            "image/png": "[encoded data removed]"
          },
          "metadata": {}
        }
      ]
    },
    {
      "cell_type": "code",
      "source": [
        "test_image(23000,images_f,images_f_2, model)"
      ],
      "metadata": {
        "colab": {
          "base_uri": "https://localhost:8080/",
          "height": 486
        },
        "id": "091A3SSAelrM",
        "outputId": "bce45e13-4295-44be-8222-92d09f52850d"
      },
      "execution_count": null,
      "outputs": [
        {
          "output_type": "stream",
          "name": "stdout",
          "text": [
            "1/1 [==============================] - 0s 20ms/step\n",
            "Predicted Age is 2\n",
            "Predicted Gender is Male\n"
          ]
        },
        {
          "output_type": "display_data",
          "data": {
            "text/plain": [
              "<Figure size 640x480 with 1 Axes>"
            ],
            "image/png": "[encoded data removed]"
          },
          "metadata": {}
        }
      ]
    },
    {
      "cell_type": "code",
      "source": [
        "test_image(1200,images_f,images_f_2, model)"
      ],
      "metadata": {
        "colab": {
          "base_uri": "https://localhost:8080/",
          "height": 486
        },
        "id": "scA-dqZ3n0ko",
        "outputId": "546a9aa8-fdd0-4d5e-9d6d-1ecf1f0862b1"
      },
      "execution_count": null,
      "outputs": [
        {
          "output_type": "stream",
          "name": "stdout",
          "text": [
            "1/1 [==============================] - 0s 24ms/step\n",
            "Predicted Age is 30\n",
            "Predicted Gender is Male\n"
          ]
        },
        {
          "output_type": "display_data",
          "data": {
            "text/plain": [
              "<Figure size 640x480 with 1 Axes>"
            ],
            "image/png": "[encoded data removed]"
          },
          "metadata": {}
        }
      ]
    },
    {
      "cell_type": "code",
      "source": [],
      "metadata": {
        "id": "FLjMfuJ3n4WD"
      },
      "execution_count": null,
      "outputs": []
    }
  ]
}