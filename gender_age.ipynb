{
  "nbformat": 4,
  "nbformat_minor": 0,
  "metadata": {
    "colab": {
      "provenance": [],
      "gpuType": "T4"
    },
    "kernelspec": {
      "name": "python3",
      "display_name": "Python 3"
    },
    "language_info": {
      "name": "python"
    },
    "accelerator": "GPU"
  },
  "cells": [
    {
      "cell_type": "markdown",
      "source": [
        "## **Importing dataset from kaggle**"
      ],
      "metadata": {
        "id": "h7VD-aLyRE-A"
      }
    },
    {
      "cell_type": "code",
      "execution_count": 1,
      "metadata": {
        "id": "wTYVqiwrPUI8"
      },
      "outputs": [],
      "source": [
        "!pip install -q opendatasets\n",
        "\n",
        "import opendatasets as od\n",
        "import pandas as pd\n",
        "\n",
        "# insert ypu kaggle  username and key\n",
        "#pddf = pd.read_csv('/content/dish-network-hackathon/Test_Dataset.csv')"
      ]
    },
    {
      "cell_type": "code",
      "source": [
        "od.download('https://www.kaggle.com/datasets/jangedoo/utkface-new')"
      ],
      "metadata": {
        "colab": {
          "base_uri": "https://localhost:8080/"
        },
        "id": "7peheYAdRl4A",
        "outputId": "95059137-ddc3-4c71-cd41-417b143ab720"
      },
      "execution_count": 2,
      "outputs": [
        {
          "output_type": "stream",
          "name": "stdout",
          "text": [
            "Please provide your Kaggle credentials to download this dataset. Learn more: http://bit.ly/kaggle-creds\n",
            "Your Kaggle username: iamthulasiraman\n",
            "Your Kaggle Key: ··········\n",
            "Downloading utkface-new.zip to ./utkface-new\n"
          ]
        },
        {
          "output_type": "stream",
          "name": "stderr",
          "text": [
            "100%|██████████| 331M/331M [00:04<00:00, 79.4MB/s]\n"
          ]
        },
        {
          "output_type": "stream",
          "name": "stdout",
          "text": [
            "\n"
          ]
        }
      ]
    },
    {
      "cell_type": "markdown",
      "source": [
        "## **Importing required Libralies**"
      ],
      "metadata": {
        "id": "aLR0KqIdRRGI"
      }
    },
    {
      "cell_type": "code",
      "source": [
        "import pandas as pd\n",
        "import cv2\n",
        "import numpy as np\n",
        "import tensorflow as tf\n",
        "import matplotlib.pyplot as plt\n",
        "import plotly.express as px"
      ],
      "metadata": {
        "id": "yFyjREpMWKRg"
      },
      "execution_count": 66,
      "outputs": []
    },
    {
      "cell_type": "code",
      "source": [
        "from tensorflow.keras.layers import Dropout\n",
        "from tensorflow.keras.layers import Flatten\n",
        "from tensorflow.keras.layers import BatchNormalization\n",
        "from tensorflow.keras.layers import Dense, MaxPooling2D,Conv2D\n",
        "from tensorflow.keras.models import Model\n",
        "from tensorflow.keras.layers import Input,Activation,Add\n",
        "from tensorflow.keras.regularizers import l2\n",
        "from tensorflow.keras.optimizers import Adam, Adagrad, Adadelta, Adamax, RMSprop"
      ],
      "metadata": {
        "id": "qD_zN5gaWW94"
      },
      "execution_count": 6,
      "outputs": []
    },
    {
      "cell_type": "code",
      "source": [
        "fls = \"utkface-new/UTKFace\""
      ],
      "metadata": {
        "id": "jHh95LGcWXR2"
      },
      "execution_count": 7,
      "outputs": []
    },
    {
      "cell_type": "code",
      "source": [
        "import os\n",
        "from tqdm import tqdm"
      ],
      "metadata": {
        "id": "FNe3o8wkWnxs"
      },
      "execution_count": 9,
      "outputs": []
    },
    {
      "cell_type": "markdown",
      "source": [
        "## **Plotting the image**"
      ],
      "metadata": {
        "id": "uQ2eKtMlRj2y"
      }
    },
    {
      "cell_type": "code",
      "source": [
        "files = os.listdir(fls)"
      ],
      "metadata": {
        "id": "Bafhg4UEWsLF"
      },
      "execution_count": 10,
      "outputs": []
    },
    {
      "cell_type": "code",
      "source": [
        "imge   = []\n",
        "for i in tqdm(files):\n",
        "    tot = fls+'/'+i\n",
        "    image = cv2.imread(tot)\n",
        "    image = cv2.cvtColor(image, cv2.COLOR_BGR2RGB)\n",
        "    image = cv2.resize(image, (48,48))\n",
        "    imge.append(image)\n",
        "\n"
      ],
      "metadata": {
        "colab": {
          "base_uri": "https://localhost:8080/"
        },
        "id": "XXLtynOfWsQP",
        "outputId": "a81fe274-a943-4924-bdc6-782f730ad4e6"
      },
      "execution_count": 13,
      "outputs": [
        {
          "output_type": "stream",
          "name": "stderr",
          "text": [
            "100%|██████████| 23708/23708 [00:12<00:00, 1831.29it/s]\n"
          ]
        }
      ]
    },
    {
      "cell_type": "code",
      "source": [
        "plt.imshow(imge[108])"
      ],
      "metadata": {
        "colab": {
          "base_uri": "https://localhost:8080/",
          "height": 449
        },
        "id": "5jahSi_JWsUq",
        "outputId": "e2299d43-a184-4320-f8d0-f4cc3b634ab3"
      },
      "execution_count": 14,
      "outputs": [
        {
          "output_type": "execute_result",
          "data": {
            "text/plain": [
              "<matplotlib.image.AxesImage at 0x7ac601dafe50>"
            ]
          },
          "metadata": {},
          "execution_count": 14
        },
        {
          "output_type": "display_data",
          "data": {
            "text/plain": [
              "<Figure size 640x480 with 1 Axes>"
            ],
            "image/png": "[encoded data removed]"
          },
          "metadata": {}
        }
      ]
    },
    {
      "cell_type": "markdown",
      "source": [
        "## Splitting the age and gender from exixting data"
      ],
      "metadata": {
        "id": "nk0CMEYFR0_i"
      }
    },
    {
      "cell_type": "code",
      "source": [
        "age    = []\n",
        "gender = []\n",
        "for i in files:\n",
        "    age.append(int(i.split('_')[0]))\n",
        "    gender.append(int(i.split('_')[1]))"
      ],
      "metadata": {
        "id": "19VdD733XBSe"
      },
      "execution_count": 15,
      "outputs": []
    },
    {
      "cell_type": "code",
      "source": [
        "images_f = np.array(imge)"
      ],
      "metadata": {
        "id": "kQaE0Q2cXBWq"
      },
      "execution_count": 16,
      "outputs": []
    },
    {
      "cell_type": "markdown",
      "source": [
        "## Creating DataFrame"
      ],
      "metadata": {
        "id": "bjhLkowvSHjs"
      }
    },
    {
      "cell_type": "code",
      "source": [
        "df = pd.DataFrame(age , columns = ['Age'])"
      ],
      "metadata": {
        "id": "A0BlhhfrXBbh"
      },
      "execution_count": 51,
      "outputs": []
    },
    {
      "cell_type": "code",
      "source": [
        "df['gender'] = gender"
      ],
      "metadata": {
        "id": "7YQkeaBLXBgL"
      },
      "execution_count": 52,
      "outputs": []
    },
    {
      "cell_type": "code",
      "source": [
        "lst = []\n",
        "for i in files:\n",
        "    lst.append(fls+'/'+i)"
      ],
      "metadata": {
        "id": "dFsI1EZaXBkn"
      },
      "execution_count": 53,
      "outputs": []
    },
    {
      "cell_type": "code",
      "source": [
        "df['img_path'] = lst"
      ],
      "metadata": {
        "id": "FlkjefstXBo7"
      },
      "execution_count": 54,
      "outputs": []
    },
    {
      "cell_type": "code",
      "source": [
        "df"
      ],
      "metadata": {
        "colab": {
          "base_uri": "https://localhost:8080/",
          "height": 423
        },
        "id": "lGprKXWBXBtZ",
        "outputId": "eaf36936-770f-48b2-bf0f-e0cfeb4a52f6"
      },
      "execution_count": 58,
      "outputs": [
        {
          "output_type": "execute_result",
          "data": {
            "text/plain": [
              "       Age  gender                                           img_path\n",
              "0       49       1  utkface-new/UTKFace/49_1_0_20170117154443925.j...\n",
              "1        1       1  utkface-new/UTKFace/1_1_0_20170109194410994.jp...\n",
              "2       50       1  utkface-new/UTKFace/50_1_0_20170110123120845.j...\n",
              "3       90       0  utkface-new/UTKFace/90_0_0_20170111221647621.j...\n",
              "4        1       0  utkface-new/UTKFace/1_0_0_20161219203657925.jp...\n",
              "...    ...     ...                                                ...\n",
              "23703   28       0  utkface-new/UTKFace/28_0_3_20170119194622939.j...\n",
              "23704   47       0  utkface-new/UTKFace/47_0_0_20170116205559481.j...\n",
              "23705   38       1  utkface-new/UTKFace/38_1_0_20170103182017326.j...\n",
              "23706   50       0  utkface-new/UTKFace/50_0_0_20170120134018751.j...\n",
              "23707   13       0  utkface-new/UTKFace/13_0_0_20170104013342923.j...\n",
              "\n",
              "[23708 rows x 3 columns]"
            ],
            "text/html": [
              "\n",
              "  <div id=\"df-ac300299-d973-42b6-bb3a-093d02dee359\" class=\"colab-df-container\">\n",
              "    <div>\n",
              "<style scoped>\n",
              "    .dataframe tbody tr th:only-of-type {\n",
              "        vertical-align: middle;\n",
              "    }\n",
              "\n",
              "    .dataframe tbody tr th {\n",
              "        vertical-align: top;\n",
              "    }\n",
              "\n",
              "    .dataframe thead th {\n",
              "        text-align: right;\n",
              "    }\n",
              "</style>\n",
              "<table border=\"1\" class=\"dataframe\">\n",
              "  <thead>\n",
              "    <tr style=\"text-align: right;\">\n",
              "      <th></th>\n",
              "      <th>Age</th>\n",
              "      <th>gender</th>\n",
              "      <th>img_path</th>\n",
              "    </tr>\n",
              "  </thead>\n",
              "  <tbody>\n",
              "    <tr>\n",
              "      <th>0</th>\n",
              "      <td>49</td>\n",
              "      <td>1</td>\n",
              "      <td>utkface-new/UTKFace/49_1_0_20170117154443925.j...</td>\n",
              "    </tr>\n",
              "    <tr>\n",
              "      <th>1</th>\n",
              "      <td>1</td>\n",
              "      <td>1</td>\n",
              "      <td>utkface-new/UTKFace/1_1_0_20170109194410994.jp...</td>\n",
              "    </tr>\n",
              "    <tr>\n",
              "      <th>2</th>\n",
              "      <td>50</td>\n",
              "      <td>1</td>\n",
              "      <td>utkface-new/UTKFace/50_1_0_20170110123120845.j...</td>\n",
              "    </tr>\n",
              "    <tr>\n",
              "      <th>3</th>\n",
              "      <td>90</td>\n",
              "      <td>0</td>\n",
              "      <td>utkface-new/UTKFace/90_0_0_20170111221647621.j...</td>\n",
              "    </tr>\n",
              "    <tr>\n",
              "      <th>4</th>\n",
              "      <td>1</td>\n",
              "      <td>0</td>\n",
              "      <td>utkface-new/UTKFace/1_0_0_20161219203657925.jp...</td>\n",
              "    </tr>\n",
              "    <tr>\n",
              "      <th>...</th>\n",
              "      <td>...</td>\n",
              "      <td>...</td>\n",
              "      <td>...</td>\n",
              "    </tr>\n",
              "    <tr>\n",
              "      <th>23703</th>\n",
              "      <td>28</td>\n",
              "      <td>0</td>\n",
              "      <td>utkface-new/UTKFace/28_0_3_20170119194622939.j...</td>\n",
              "    </tr>\n",
              "    <tr>\n",
              "      <th>23704</th>\n",
              "      <td>47</td>\n",
              "      <td>0</td>\n",
              "      <td>utkface-new/UTKFace/47_0_0_20170116205559481.j...</td>\n",
              "    </tr>\n",
              "    <tr>\n",
              "      <th>23705</th>\n",
              "      <td>38</td>\n",
              "      <td>1</td>\n",
              "      <td>utkface-new/UTKFace/38_1_0_20170103182017326.j...</td>\n",
              "    </tr>\n",
              "    <tr>\n",
              "      <th>23706</th>\n",
              "      <td>50</td>\n",
              "      <td>0</td>\n",
              "      <td>utkface-new/UTKFace/50_0_0_20170120134018751.j...</td>\n",
              "    </tr>\n",
              "    <tr>\n",
              "      <th>23707</th>\n",
              "      <td>13</td>\n",
              "      <td>0</td>\n",
              "      <td>utkface-new/UTKFace/13_0_0_20170104013342923.j...</td>\n",
              "    </tr>\n",
              "  </tbody>\n",
              "</table>\n",
              "<p>23708 rows × 3 columns</p>\n",
              "</div>\n",
              "    <div class=\"colab-df-buttons\">\n",
              "\n",
              "  <div class=\"colab-df-container\">\n",
              "    <button class=\"colab-df-convert\" onclick=\"convertToInteractive('df-ac300299-d973-42b6-bb3a-093d02dee359')\"\n",
              "            title=\"Convert this dataframe to an interactive table.\"\n",
              "            style=\"display:none;\">\n",
              "\n",
              "  <svg xmlns=\"http://www.w3.org/2000/svg\" height=\"24px\" viewBox=\"0 -960 960 960\">\n",
              "    <path d=\"M120-120v-720h720v720H120Zm60-500h600v-160H180v160Zm220 220h160v-160H400v160Zm0 220h160v-160H400v160ZM180-400h160v-160H180v160Zm440 0h160v-160H620v160ZM180-180h160v-160H180v160Zm440 0h160v-160H620v160Z\"/>\n",
              "  </svg>\n",
              "    </button>\n",
              "\n",
              "  <style>\n",
              "    .colab-df-container {\n",
              "      display:flex;\n",
              "      gap: 12px;\n",
              "    }\n",
              "\n",
              "    .colab-df-convert {\n",
              "      background-color: #E8F0FE;\n",
              "      border: none;\n",
              "      border-radius: 50%;\n",
              "      cursor: pointer;\n",
              "      display: none;\n",
              "      fill: #1967D2;\n",
              "      height: 32px;\n",
              "      padding: 0 0 0 0;\n",
              "      width: 32px;\n",
              "    }\n",
              "\n",
              "    .colab-df-convert:hover {\n",
              "      background-color: #E2EBFA;\n",
              "      box-shadow: 0px 1px 2px rgba(60, 64, 67, 0.3), 0px 1px 3px 1px rgba(60, 64, 67, 0.15);\n",
              "      fill: #174EA6;\n",
              "    }\n",
              "\n",
              "    .colab-df-buttons div {\n",
              "      margin-bottom: 4px;\n",
              "    }\n",
              "\n",
              "    [theme=dark] .colab-df-convert {\n",
              "      background-color: #3B4455;\n",
              "      fill: #D2E3FC;\n",
              "    }\n",
              "\n",
              "    [theme=dark] .colab-df-convert:hover {\n",
              "      background-color: #434B5C;\n",
              "      box-shadow: 0px 1px 3px 1px rgba(0, 0, 0, 0.15);\n",
              "      filter: drop-shadow(0px 1px 2px rgba(0, 0, 0, 0.3));\n",
              "      fill: #FFFFFF;\n",
              "    }\n",
              "  </style>\n",
              "\n",
              "    <script>\n",
              "      const buttonEl =\n",
              "        document.querySelector('#df-ac300299-d973-42b6-bb3a-093d02dee359 button.colab-df-convert');\n",
              "      buttonEl.style.display =\n",
              "        google.colab.kernel.accessAllowed ? 'block' : 'none';\n",
              "\n",
              "      async function convertToInteractive(key) {\n",
              "        const element = document.querySelector('#df-ac300299-d973-42b6-bb3a-093d02dee359');\n",
              "        const dataTable =\n",
              "          await google.colab.kernel.invokeFunction('convertToInteractive',\n",
              "                                                    [key], {});\n",
              "        if (!dataTable) return;\n",
              "\n",
              "        const docLinkHtml = 'Like what you see? Visit the ' +\n",
              "          '<a target=\"_blank\" href=https://colab.research.google.com/notebooks/data_table.ipynb>data table notebook</a>'\n",
              "          + ' to learn more about interactive tables.';\n",
              "        element.innerHTML = '';\n",
              "        dataTable['output_type'] = 'display_data';\n",
              "        await google.colab.output.renderOutput(dataTable, element);\n",
              "        const docLink = document.createElement('div');\n",
              "        docLink.innerHTML = docLinkHtml;\n",
              "        element.appendChild(docLink);\n",
              "      }\n",
              "    </script>\n",
              "  </div>\n",
              "\n",
              "\n",
              "<div id=\"df-8e210ffc-507f-43e2-8dc4-d67613c8ca14\">\n",
              "  <button class=\"colab-df-quickchart\" onclick=\"quickchart('df-8e210ffc-507f-43e2-8dc4-d67613c8ca14')\"\n",
              "            title=\"Suggest charts\"\n",
              "            style=\"display:none;\">\n",
              "\n",
              "<svg xmlns=\"http://www.w3.org/2000/svg\" height=\"24px\"viewBox=\"0 0 24 24\"\n",
              "     width=\"24px\">\n",
              "    <g>\n",
              "        <path d=\"M19 3H5c-1.1 0-2 .9-2 2v14c0 1.1.9 2 2 2h14c1.1 0 2-.9 2-2V5c0-1.1-.9-2-2-2zM9 17H7v-7h2v7zm4 0h-2V7h2v10zm4 0h-2v-4h2v4z\"/>\n",
              "    </g>\n",
              "</svg>\n",
              "  </button>\n",
              "\n",
              "<style>\n",
              "  .colab-df-quickchart {\n",
              "      --bg-color: #E8F0FE;\n",
              "      --fill-color: #1967D2;\n",
              "      --hover-bg-color: #E2EBFA;\n",
              "      --hover-fill-color: #174EA6;\n",
              "      --disabled-fill-color: #AAA;\n",
              "      --disabled-bg-color: #DDD;\n",
              "  }\n",
              "\n",
              "  [theme=dark] .colab-df-quickchart {\n",
              "      --bg-color: #3B4455;\n",
              "      --fill-color: #D2E3FC;\n",
              "      --hover-bg-color: #434B5C;\n",
              "      --hover-fill-color: #FFFFFF;\n",
              "      --disabled-bg-color: #3B4455;\n",
              "      --disabled-fill-color: #666;\n",
              "  }\n",
              "\n",
              "  .colab-df-quickchart {\n",
              "    background-color: var(--bg-color);\n",
              "    border: none;\n",
              "    border-radius: 50%;\n",
              "    cursor: pointer;\n",
              "    display: none;\n",
              "    fill: var(--fill-color);\n",
              "    height: 32px;\n",
              "    padding: 0;\n",
              "    width: 32px;\n",
              "  }\n",
              "\n",
              "  .colab-df-quickchart:hover {\n",
              "    background-color: var(--hover-bg-color);\n",
              "    box-shadow: 0 1px 2px rgba(60, 64, 67, 0.3), 0 1px 3px 1px rgba(60, 64, 67, 0.15);\n",
              "    fill: var(--button-hover-fill-color);\n",
              "  }\n",
              "\n",
              "  .colab-df-quickchart-complete:disabled,\n",
              "  .colab-df-quickchart-complete:disabled:hover {\n",
              "    background-color: var(--disabled-bg-color);\n",
              "    fill: var(--disabled-fill-color);\n",
              "    box-shadow: none;\n",
              "  }\n",
              "\n",
              "  .colab-df-spinner {\n",
              "    border: 2px solid var(--fill-color);\n",
              "    border-color: transparent;\n",
              "    border-bottom-color: var(--fill-color);\n",
              "    animation:\n",
              "      spin 1s steps(1) infinite;\n",
              "  }\n",
              "\n",
              "  @keyframes spin {\n",
              "    0% {\n",
              "      border-color: transparent;\n",
              "      border-bottom-color: var(--fill-color);\n",
              "      border-left-color: var(--fill-color);\n",
              "    }\n",
              "    20% {\n",
              "      border-color: transparent;\n",
              "      border-left-color: var(--fill-color);\n",
              "      border-top-color: var(--fill-color);\n",
              "    }\n",
              "    30% {\n",
              "      border-color: transparent;\n",
              "      border-left-color: var(--fill-color);\n",
              "      border-top-color: var(--fill-color);\n",
              "      border-right-color: var(--fill-color);\n",
              "    }\n",
              "    40% {\n",
              "      border-color: transparent;\n",
              "      border-right-color: var(--fill-color);\n",
              "      border-top-color: var(--fill-color);\n",
              "    }\n",
              "    60% {\n",
              "      border-color: transparent;\n",
              "      border-right-color: var(--fill-color);\n",
              "    }\n",
              "    80% {\n",
              "      border-color: transparent;\n",
              "      border-right-color: var(--fill-color);\n",
              "      border-bottom-color: var(--fill-color);\n",
              "    }\n",
              "    90% {\n",
              "      border-color: transparent;\n",
              "      border-bottom-color: var(--fill-color);\n",
              "    }\n",
              "  }\n",
              "</style>\n",
              "\n",
              "  <script>\n",
              "    async function quickchart(key) {\n",
              "      const quickchartButtonEl =\n",
              "        document.querySelector('#' + key + ' button');\n",
              "      quickchartButtonEl.disabled = true;  // To prevent multiple clicks.\n",
              "      quickchartButtonEl.classList.add('colab-df-spinner');\n",
              "      try {\n",
              "        const charts = await google.colab.kernel.invokeFunction(\n",
              "            'suggestCharts', [key], {});\n",
              "      } catch (error) {\n",
              "        console.error('Error during call to suggestCharts:', error);\n",
              "      }\n",
              "      quickchartButtonEl.classList.remove('colab-df-spinner');\n",
              "      quickchartButtonEl.classList.add('colab-df-quickchart-complete');\n",
              "    }\n",
              "    (() => {\n",
              "      let quickchartButtonEl =\n",
              "        document.querySelector('#df-8e210ffc-507f-43e2-8dc4-d67613c8ca14 button');\n",
              "      quickchartButtonEl.style.display =\n",
              "        google.colab.kernel.accessAllowed ? 'block' : 'none';\n",
              "    })();\n",
              "  </script>\n",
              "</div>\n",
              "\n",
              "  <div id=\"id_98d4eac0-378b-4aa6-ba8e-8ac406cb2716\">\n",
              "    <style>\n",
              "      .colab-df-generate {\n",
              "        background-color: #E8F0FE;\n",
              "        border: none;\n",
              "        border-radius: 50%;\n",
              "        cursor: pointer;\n",
              "        display: none;\n",
              "        fill: #1967D2;\n",
              "        height: 32px;\n",
              "        padding: 0 0 0 0;\n",
              "        width: 32px;\n",
              "      }\n",
              "\n",
              "      .colab-df-generate:hover {\n",
              "        background-color: #E2EBFA;\n",
              "        box-shadow: 0px 1px 2px rgba(60, 64, 67, 0.3), 0px 1px 3px 1px rgba(60, 64, 67, 0.15);\n",
              "        fill: #174EA6;\n",
              "      }\n",
              "\n",
              "      [theme=dark] .colab-df-generate {\n",
              "        background-color: #3B4455;\n",
              "        fill: #D2E3FC;\n",
              "      }\n",
              "\n",
              "      [theme=dark] .colab-df-generate:hover {\n",
              "        background-color: #434B5C;\n",
              "        box-shadow: 0px 1px 3px 1px rgba(0, 0, 0, 0.15);\n",
              "        filter: drop-shadow(0px 1px 2px rgba(0, 0, 0, 0.3));\n",
              "        fill: #FFFFFF;\n",
              "      }\n",
              "    </style>\n",
              "    <button class=\"colab-df-generate\" onclick=\"generateWithVariable('df')\"\n",
              "            title=\"Generate code using this dataframe.\"\n",
              "            style=\"display:none;\">\n",
              "\n",
              "  <svg xmlns=\"http://www.w3.org/2000/svg\" height=\"24px\"viewBox=\"0 0 24 24\"\n",
              "       width=\"24px\">\n",
              "    <path d=\"M7,19H8.4L18.45,9,17,7.55,7,17.6ZM5,21V16.75L18.45,3.32a2,2,0,0,1,2.83,0l1.4,1.43a1.91,1.91,0,0,1,.58,1.4,1.91,1.91,0,0,1-.58,1.4L9.25,21ZM18.45,9,17,7.55Zm-12,3A5.31,5.31,0,0,0,4.9,8.1,5.31,5.31,0,0,0,1,6.5,5.31,5.31,0,0,0,4.9,4.9,5.31,5.31,0,0,0,6.5,1,5.31,5.31,0,0,0,8.1,4.9,5.31,5.31,0,0,0,12,6.5,5.46,5.46,0,0,0,6.5,12Z\"/>\n",
              "  </svg>\n",
              "    </button>\n",
              "    <script>\n",
              "      (() => {\n",
              "      const buttonEl =\n",
              "        document.querySelector('#id_98d4eac0-378b-4aa6-ba8e-8ac406cb2716 button.colab-df-generate');\n",
              "      buttonEl.style.display =\n",
              "        google.colab.kernel.accessAllowed ? 'block' : 'none';\n",
              "\n",
              "      buttonEl.onclick = () => {\n",
              "        google.colab.notebook.generateWithVariable('df');\n",
              "      }\n",
              "      })();\n",
              "    </script>\n",
              "  </div>\n",
              "\n",
              "    </div>\n",
              "  </div>\n"
            ]
          },
          "metadata": {},
          "execution_count": 58
        }
      ]
    },
    {
      "cell_type": "markdown",
      "source": [
        "### **Plotting age column**"
      ],
      "metadata": {
        "id": "5ib7MzqCOCc3"
      }
    },
    {
      "cell_type": "code",
      "source": [
        "import seaborn as sns"
      ],
      "metadata": {
        "id": "KjF2wKHBKexc"
      },
      "execution_count": 59,
      "outputs": []
    },
    {
      "cell_type": "code",
      "source": [
        "sns.distplot(df['Age'],kde=True, bins=20)"
      ],
      "metadata": {
        "colab": {
          "base_uri": "https://localhost:8080/",
          "height": 704
        },
        "id": "HmRnJqKZGfmq",
        "outputId": "ac5c7613-7ff5-4484-e024-3656872a9d61"
      },
      "execution_count": 61,
      "outputs": [
        {
          "output_type": "stream",
          "name": "stderr",
          "text": [
            "<ipython-input-61-f3f27700bdbf>:1: UserWarning:\n",
            "\n",
            "\n",
            "\n",
            "`distplot` is a deprecated function and will be removed in seaborn v0.14.0.\n",
            "\n",
            "Please adapt your code to use either `displot` (a figure-level function with\n",
            "similar flexibility) or `histplot` (an axes-level function for histograms).\n",
            "\n",
            "For a guide to updating your code to use the new functions, please see\n",
            "https://gist.github.com/mwaskom/de44147ed2974457ad6372750bbe5751\n",
            "\n",
            "\n"
          ]
        },
        {
          "output_type": "execute_result",
          "data": {
            "text/plain": [
              "<Axes: xlabel='Age', ylabel='Density'>"
            ]
          },
          "metadata": {},
          "execution_count": 61
        },
        {
          "output_type": "display_data",
          "data": {
            "text/plain": [
              "<Figure size 640x480 with 1 Axes>"
            ],
            "image/png": "[encoded data removed]"
          },
          "metadata": {}
        }
      ]
    },
    {
      "cell_type": "markdown",
      "source": [
        "### **Plotting Gender column**"
      ],
      "metadata": {
        "id": "6CA-B4BYOISx"
      }
    },
    {
      "cell_type": "code",
      "source": [
        "sns.countplot(x = 'gender',data = df)"
      ],
      "metadata": {
        "colab": {
          "base_uri": "https://localhost:8080/",
          "height": 467
        },
        "id": "raa4O8GtMWqu",
        "outputId": "eeec3834-3e29-4552-9dde-284fa75f07b2"
      },
      "execution_count": 76,
      "outputs": [
        {
          "output_type": "execute_result",
          "data": {
            "text/plain": [
              "<Axes: xlabel='gender', ylabel='count'>"
            ]
          },
          "metadata": {},
          "execution_count": 76
        },
        {
          "output_type": "display_data",
          "data": {
            "text/plain": [
              "<Figure size 640x480 with 1 Axes>"
            ],
            "image/png": "[encoded data removed]"
          },
          "metadata": {}
        }
      ]
    },
    {
      "cell_type": "code",
      "source": [
        "df.shape"
      ],
      "metadata": {
        "colab": {
          "base_uri": "https://localhost:8080/"
        },
        "id": "7xM_y8j6Xic7",
        "outputId": "825fd874-3de0-4ed6-852b-254bda44094d"
      },
      "execution_count": null,
      "outputs": [
        {
          "output_type": "execute_result",
          "data": {
            "text/plain": [
              "(23708, 3)"
            ]
          },
          "metadata": {},
          "execution_count": 17
        }
      ]
    },
    {
      "cell_type": "code",
      "source": [
        "labels = []\n",
        "for i in df.values:\n",
        "    labels.append([i[0],i[1]])"
      ],
      "metadata": {
        "id": "yiIwCM2iXijG"
      },
      "execution_count": null,
      "outputs": []
    },
    {
      "cell_type": "code",
      "source": [
        "labels_f = np.array(labels)"
      ],
      "metadata": {
        "id": "FFa6DshcXimY"
      },
      "execution_count": null,
      "outputs": []
    },
    {
      "cell_type": "code",
      "source": [
        "images_f_2 = images_f/255"
      ],
      "metadata": {
        "id": "y-zCJ7VfXipi"
      },
      "execution_count": null,
      "outputs": []
    },
    {
      "cell_type": "code",
      "source": [
        "images_f_2.shape"
      ],
      "metadata": {
        "colab": {
          "base_uri": "https://localhost:8080/"
        },
        "id": "9FLfeoUqXis3",
        "outputId": "cb3f4603-0d8c-4416-a01b-67b80286310f"
      },
      "execution_count": null,
      "outputs": [
        {
          "output_type": "execute_result",
          "data": {
            "text/plain": [
              "(23708, 48, 48, 3)"
            ]
          },
          "metadata": {},
          "execution_count": 21
        }
      ]
    },
    {
      "cell_type": "markdown",
      "source": [
        "# **Train Test Split**"
      ],
      "metadata": {
        "id": "-mMUdu2-SUgZ"
      }
    },
    {
      "cell_type": "code",
      "source": [
        "from sklearn.model_selection import train_test_split"
      ],
      "metadata": {
        "id": "UdcOFhCTXiv2"
      },
      "execution_count": null,
      "outputs": []
    },
    {
      "cell_type": "code",
      "source": [
        "X_train,X_test,Y_train,Y_test = train_test_split(images_f_2,labels_f,test_size = 0.25)"
      ],
      "metadata": {
        "id": "_woY4uCSX1nC"
      },
      "execution_count": null,
      "outputs": []
    },
    {
      "cell_type": "code",
      "source": [
        "Y_train[:5]"
      ],
      "metadata": {
        "colab": {
          "base_uri": "https://localhost:8080/"
        },
        "id": "pKI9yetFX1uW",
        "outputId": "e73d8cf7-635e-41ce-c139-95e8c90be31e"
      },
      "execution_count": null,
      "outputs": [
        {
          "output_type": "execute_result",
          "data": {
            "text/plain": [
              "array([[61,  0],\n",
              "       [32,  0],\n",
              "       [26,  0],\n",
              "       [34,  0],\n",
              "       [22,  0]])"
            ]
          },
          "metadata": {},
          "execution_count": 24
        }
      ]
    },
    {
      "cell_type": "code",
      "source": [
        "Y_train_2 = [Y_train[:,1],Y_train[:,0]]\n",
        "Y_test_2 = [Y_test[:,1],Y_test[:,0]]"
      ],
      "metadata": {
        "id": "63ErLbBwX1yh"
      },
      "execution_count": null,
      "outputs": []
    },
    {
      "cell_type": "code",
      "source": [
        "Y_train_2"
      ],
      "metadata": {
        "colab": {
          "base_uri": "https://localhost:8080/"
        },
        "id": "K1OOu4FGX13F",
        "outputId": "3ead52e2-e757-4e3e-dd3b-4ae0ab3d7317"
      },
      "execution_count": null,
      "outputs": [
        {
          "output_type": "execute_result",
          "data": {
            "text/plain": [
              "[array([0, 0, 0, ..., 1, 1, 1]), array([61, 32, 26, ..., 42, 24, 35])]"
            ]
          },
          "metadata": {},
          "execution_count": 26
        }
      ]
    },
    {
      "cell_type": "code",
      "source": [
        "Y_train_2[0][:5]"
      ],
      "metadata": {
        "colab": {
          "base_uri": "https://localhost:8080/"
        },
        "id": "NwNNkztKX17W",
        "outputId": "1586763b-bc21-413c-e1d9-c46f3c5deb13"
      },
      "execution_count": null,
      "outputs": [
        {
          "output_type": "execute_result",
          "data": {
            "text/plain": [
              "array([0, 0, 0, 0, 0])"
            ]
          },
          "metadata": {},
          "execution_count": 27
        }
      ]
    },
    {
      "cell_type": "markdown",
      "source": [
        "# **Building the Model**"
      ],
      "metadata": {
        "id": "H3evUU8KSgUK"
      }
    },
    {
      "cell_type": "code",
      "source": [
        "def Convolution(input_tensor,filters):\n",
        "    x=Conv2D(filters=filters,kernel_size=(3,3),padding=\"same\",strides=(1,1),kernel_regularizer=l2(0.001))(input_tensor)\n",
        "    x=Dropout(0.1)(x)\n",
        "    x=Activation('relu')(x)\n",
        "    return x"
      ],
      "metadata": {
        "id": "ooLA0L-NX2Bl"
      },
      "execution_count": null,
      "outputs": []
    },
    {
      "cell_type": "code",
      "source": [
        "def model(input_shape):\n",
        "    inputs = Input((input_shape))\n",
        "    conv_1 = Convolution(inputs,32)\n",
        "    maxp_1 = MaxPooling2D(pool_size=(2,2))(conv_1)\n",
        "    conv_2 = Convolution(maxp_1,64)\n",
        "    maxp_2 = MaxPooling2D(pool_size=(2,2))(conv_2)\n",
        "    conv_3 = Convolution(maxp_2,128)\n",
        "    maxp_3 = MaxPooling2D(pool_size=(2,2))(conv_3)\n",
        "    conv_4 = Convolution(maxp_3,256)\n",
        "    maxp_4 = MaxPooling2D(pool_size=(2,2))(conv_4)\n",
        "    conv_5 = Convolution(maxp_4,512)\n",
        "    maxp_5 = MaxPooling2D(pool_size=(2,2))(conv_5)\n",
        "\n",
        "\n",
        "    flatten = Flatten()(maxp_5)\n",
        "    dense_1 = Dense(64,activation='sigmoid')(flatten)\n",
        "    dense_2 = Dense(64,activation='ReLU')(flatten)\n",
        "\n",
        "    dropout_1 = Dropout(0.2)(dense_1)\n",
        "    dropout_2 = Dropout(0.2)(dense_2)\n",
        "\n",
        "    output_1 = Dense(1,activation='sigmoid',name='sex_out')(dropout_1)\n",
        "    output_2 = Dense(1,activation='ReLU',name='age_out')(dropout_2)\n",
        "\n",
        "    model = Model(inputs=[inputs],outputs=[output_1,output_2])\n",
        "    model.compile(loss=['binary_crossentropy','Huber'],optimizer='Adam',metrics=['accuracy'])\n",
        "    return model\n",
        "\n"
      ],
      "metadata": {
        "id": "Bp8BWJxKYKVX"
      },
      "execution_count": null,
      "outputs": []
    },
    {
      "cell_type": "code",
      "source": [
        "model = model((48,48,3))"
      ],
      "metadata": {
        "id": "onazHssWYKZd"
      },
      "execution_count": null,
      "outputs": []
    },
    {
      "cell_type": "code",
      "source": [
        "model.summary()"
      ],
      "metadata": {
        "colab": {
          "base_uri": "https://localhost:8080/"
        },
        "id": "Uu4kGSNLYKdm",
        "outputId": "9c3c6d62-4627-4945-d471-0fbe3203b6cd"
      },
      "execution_count": null,
      "outputs": [
        {
          "output_type": "stream",
          "name": "stdout",
          "text": [
            "Model: \"model_4\"\n",
            "__________________________________________________________________________________________________\n",
            " Layer (type)                Output Shape                 Param #   Connected to                  \n",
            "==================================================================================================\n",
            " input_5 (InputLayer)        [(None, 48, 48, 3)]          0         []                            \n",
            "                                                                                                  \n",
            " conv2d_20 (Conv2D)          (None, 48, 48, 32)           896       ['input_5[0][0]']             \n",
            "                                                                                                  \n",
            " dropout_28 (Dropout)        (None, 48, 48, 32)           0         ['conv2d_20[0][0]']           \n",
            "                                                                                                  \n",
            " activation_20 (Activation)  (None, 48, 48, 32)           0         ['dropout_28[0][0]']          \n",
            "                                                                                                  \n",
            " max_pooling2d_20 (MaxPooli  (None, 24, 24, 32)           0         ['activation_20[0][0]']       \n",
            " ng2D)                                                                                            \n",
            "                                                                                                  \n",
            " conv2d_21 (Conv2D)          (None, 24, 24, 64)           18496     ['max_pooling2d_20[0][0]']    \n",
            "                                                                                                  \n",
            " dropout_29 (Dropout)        (None, 24, 24, 64)           0         ['conv2d_21[0][0]']           \n",
            "                                                                                                  \n",
            " activation_21 (Activation)  (None, 24, 24, 64)           0         ['dropout_29[0][0]']          \n",
            "                                                                                                  \n",
            " max_pooling2d_21 (MaxPooli  (None, 12, 12, 64)           0         ['activation_21[0][0]']       \n",
            " ng2D)                                                                                            \n",
            "                                                                                                  \n",
            " conv2d_22 (Conv2D)          (None, 12, 12, 128)          73856     ['max_pooling2d_21[0][0]']    \n",
            "                                                                                                  \n",
            " dropout_30 (Dropout)        (None, 12, 12, 128)          0         ['conv2d_22[0][0]']           \n",
            "                                                                                                  \n",
            " activation_22 (Activation)  (None, 12, 12, 128)          0         ['dropout_30[0][0]']          \n",
            "                                                                                                  \n",
            " max_pooling2d_22 (MaxPooli  (None, 6, 6, 128)            0         ['activation_22[0][0]']       \n",
            " ng2D)                                                                                            \n",
            "                                                                                                  \n",
            " conv2d_23 (Conv2D)          (None, 6, 6, 256)            295168    ['max_pooling2d_22[0][0]']    \n",
            "                                                                                                  \n",
            " dropout_31 (Dropout)        (None, 6, 6, 256)            0         ['conv2d_23[0][0]']           \n",
            "                                                                                                  \n",
            " activation_23 (Activation)  (None, 6, 6, 256)            0         ['dropout_31[0][0]']          \n",
            "                                                                                                  \n",
            " max_pooling2d_23 (MaxPooli  (None, 3, 3, 256)            0         ['activation_23[0][0]']       \n",
            " ng2D)                                                                                            \n",
            "                                                                                                  \n",
            " conv2d_24 (Conv2D)          (None, 3, 3, 512)            1180160   ['max_pooling2d_23[0][0]']    \n",
            "                                                                                                  \n",
            " dropout_32 (Dropout)        (None, 3, 3, 512)            0         ['conv2d_24[0][0]']           \n",
            "                                                                                                  \n",
            " activation_24 (Activation)  (None, 3, 3, 512)            0         ['dropout_32[0][0]']          \n",
            "                                                                                                  \n",
            " max_pooling2d_24 (MaxPooli  (None, 1, 1, 512)            0         ['activation_24[0][0]']       \n",
            " ng2D)                                                                                            \n",
            "                                                                                                  \n",
            " flatten_4 (Flatten)         (None, 512)                  0         ['max_pooling2d_24[0][0]']    \n",
            "                                                                                                  \n",
            " dense_8 (Dense)             (None, 64)                   32832     ['flatten_4[0][0]']           \n",
            "                                                                                                  \n",
            " dense_9 (Dense)             (None, 64)                   32832     ['flatten_4[0][0]']           \n",
            "                                                                                                  \n",
            " dropout_33 (Dropout)        (None, 64)                   0         ['dense_8[0][0]']             \n",
            "                                                                                                  \n",
            " dropout_34 (Dropout)        (None, 64)                   0         ['dense_9[0][0]']             \n",
            "                                                                                                  \n",
            " sex_out (Dense)             (None, 1)                    65        ['dropout_33[0][0]']          \n",
            "                                                                                                  \n",
            " age_out (Dense)             (None, 1)                    65        ['dropout_34[0][0]']          \n",
            "                                                                                                  \n",
            "==================================================================================================\n",
            "Total params: 1634370 (6.23 MB)\n",
            "Trainable params: 1634370 (6.23 MB)\n",
            "Non-trainable params: 0 (0.00 Byte)\n",
            "__________________________________________________________________________________________________\n"
          ]
        }
      ]
    },
    {
      "cell_type": "code",
      "source": [
        "type(model)"
      ],
      "metadata": {
        "colab": {
          "base_uri": "https://localhost:8080/"
        },
        "id": "ice7olygcdcu",
        "outputId": "943df2f2-7024-45f9-bc4d-b970c5d18f21"
      },
      "execution_count": null,
      "outputs": [
        {
          "output_type": "execute_result",
          "data": {
            "text/plain": [
              "keras.src.engine.functional.Functional"
            ]
          },
          "metadata": {},
          "execution_count": 82
        }
      ]
    },
    {
      "cell_type": "markdown",
      "source": [
        "## **Training the Model with train data**"
      ],
      "metadata": {
        "id": "fYzdEE1mSpDu"
      }
    },
    {
      "cell_type": "code",
      "source": [
        "from tensorflow.keras.callbacks import ModelCheckpoint"
      ],
      "metadata": {
        "id": "2LNMRp0gleom"
      },
      "execution_count": null,
      "outputs": []
    },
    {
      "cell_type": "code",
      "source": [
        "fle_s='Age_sex_Detection.h5'\n",
        "checkpoint=ModelCheckpoint(fle_s,mointor='val_loss',verbose=1,save_best_only=True,save_weights_only=False,mode='auto',save_freq='epoch')"
      ],
      "metadata": {
        "id": "iumcEPv2les9"
      },
      "execution_count": null,
      "outputs": []
    },
    {
      "cell_type": "code",
      "source": [
        "Early_stop=tf.keras.callbacks.EarlyStopping(patience=75,monitor='val_loss',restore_best_weights='True')\n",
        "callback_list=[checkpoint,Early_stop]"
      ],
      "metadata": {
        "id": "HcpDS7HOlews"
      },
      "execution_count": null,
      "outputs": []
    },
    {
      "cell_type": "code",
      "source": [
        "History=model.fit(X_train,Y_train_2,batch_size=64,validation_data=(X_test,Y_test_2),epochs=300,callbacks=callback_list)"
      ],
      "metadata": {
        "colab": {
          "base_uri": "https://localhost:8080/"
        },
        "id": "frwp4sw-_Wl5",
        "outputId": "50262908-d583-40d9-d190-483fb8fa76cf"
      },
      "execution_count": null,
      "outputs": [
        {
          "output_type": "stream",
          "name": "stdout",
          "text": [
            "Epoch 1/300\n",
            "278/278 [==============================] - ETA: 0s - loss: 16.4757 - sex_out_loss: 0.7154 - age_out_loss: 15.4739 - sex_out_accuracy: 0.5087 - age_out_accuracy: 0.0459\n",
            "Epoch 1: val_loss improved from inf to 17.44702, saving model to Age_sex_Detection.h5\n",
            "278/278 [==============================] - 9s 22ms/step - loss: 16.4757 - sex_out_loss: 0.7154 - age_out_loss: 15.4739 - sex_out_accuracy: 0.5087 - age_out_accuracy: 0.0459 - val_loss: 17.4470 - val_sex_out_loss: 0.6834 - val_age_out_loss: 16.5331 - val_sex_out_accuracy: 0.6087 - val_age_out_accuracy: 0.0515\n",
            "Epoch 2/300\n",
            "278/278 [==============================] - ETA: 0s - loss: 13.5771 - sex_out_loss: 0.6751 - age_out_loss: 12.6404 - sex_out_accuracy: 0.5803 - age_out_accuracy: 0.0458\n",
            "Epoch 2: val_loss improved from 17.44702 to 13.62497, saving model to Age_sex_Detection.h5\n",
            "278/278 [==============================] - 5s 18ms/step - loss: 13.5771 - sex_out_loss: 0.6751 - age_out_loss: 12.6404 - sex_out_accuracy: 0.5803 - age_out_accuracy: 0.0458 - val_loss: 13.6250 - val_sex_out_loss: 0.6330 - val_age_out_loss: 12.6864 - val_sex_out_accuracy: 0.6867 - val_age_out_accuracy: 0.0515\n",
            "Epoch 3/300\n",
            "276/278 [============================>.] - ETA: 0s - loss: 10.9606 - sex_out_loss: 0.6217 - age_out_loss: 10.0109 - sex_out_accuracy: 0.6601 - age_out_accuracy: 0.0453\n",
            "Epoch 3: val_loss improved from 13.62497 to 11.44585, saving model to Age_sex_Detection.h5\n",
            "278/278 [==============================] - 5s 18ms/step - loss: 10.9544 - sex_out_loss: 0.6222 - age_out_loss: 10.0042 - sex_out_accuracy: 0.6599 - age_out_accuracy: 0.0454 - val_loss: 11.4459 - val_sex_out_loss: 0.5764 - val_age_out_loss: 10.5236 - val_sex_out_accuracy: 0.7096 - val_age_out_accuracy: 0.0515\n",
            "Epoch 4/300\n",
            "275/278 [============================>.] - ETA: 0s - loss: 9.9226 - sex_out_loss: 0.5657 - age_out_loss: 9.0022 - sex_out_accuracy: 0.7145 - age_out_accuracy: 0.0450\n",
            "Epoch 4: val_loss did not improve from 11.44585\n",
            "278/278 [==============================] - 5s 17ms/step - loss: 9.9170 - sex_out_loss: 0.5657 - age_out_loss: 8.9965 - sex_out_accuracy: 0.7146 - age_out_accuracy: 0.0448 - val_loss: 11.5555 - val_sex_out_loss: 0.5362 - val_age_out_loss: 10.6560 - val_sex_out_accuracy: 0.7356 - val_age_out_accuracy: 0.0515\n",
            "Epoch 5/300\n",
            "278/278 [==============================] - ETA: 0s - loss: 9.4823 - sex_out_loss: 0.4998 - age_out_loss: 8.6047 - sex_out_accuracy: 0.7556 - age_out_accuracy: 0.0454\n",
            "Epoch 5: val_loss improved from 11.44585 to 10.72285, saving model to Age_sex_Detection.h5\n",
            "278/278 [==============================] - 5s 19ms/step - loss: 9.4823 - sex_out_loss: 0.4998 - age_out_loss: 8.6047 - sex_out_accuracy: 0.7556 - age_out_accuracy: 0.0454 - val_loss: 10.7229 - val_sex_out_loss: 0.4686 - val_age_out_loss: 9.8650 - val_sex_out_accuracy: 0.7918 - val_age_out_accuracy: 0.0515\n",
            "Epoch 6/300\n",
            "276/278 [============================>.] - ETA: 0s - loss: 8.8728 - sex_out_loss: 0.4347 - age_out_loss: 8.0354 - sex_out_accuracy: 0.7975 - age_out_accuracy: 0.0444\n",
            "Epoch 6: val_loss did not improve from 10.72285\n",
            "278/278 [==============================] - 5s 18ms/step - loss: 8.8762 - sex_out_loss: 0.4340 - age_out_loss: 8.0394 - sex_out_accuracy: 0.7977 - age_out_accuracy: 0.0443 - val_loss: 10.8981 - val_sex_out_loss: 0.3992 - val_age_out_loss: 10.0880 - val_sex_out_accuracy: 0.8284 - val_age_out_accuracy: 0.0515\n",
            "Epoch 7/300\n",
            "275/278 [============================>.] - ETA: 0s - loss: 8.3771 - sex_out_loss: 0.3894 - age_out_loss: 7.5663 - sex_out_accuracy: 0.8222 - age_out_accuracy: 0.0439\n",
            "Epoch 7: val_loss did not improve from 10.72285\n",
            "278/278 [==============================] - 5s 17ms/step - loss: 8.3856 - sex_out_loss: 0.3891 - age_out_loss: 7.5749 - sex_out_accuracy: 0.8222 - age_out_accuracy: 0.0443 - val_loss: 12.1680 - val_sex_out_loss: 0.3654 - val_age_out_loss: 11.3690 - val_sex_out_accuracy: 0.8382 - val_age_out_accuracy: 0.0515\n",
            "Epoch 8/300\n",
            "277/278 [============================>.] - ETA: 0s - loss: 8.1382 - sex_out_loss: 0.3658 - age_out_loss: 7.3295 - sex_out_accuracy: 0.8308 - age_out_accuracy: 0.0453\n",
            "Epoch 8: val_loss did not improve from 10.72285\n",
            "278/278 [==============================] - 5s 18ms/step - loss: 8.1382 - sex_out_loss: 0.3656 - age_out_loss: 7.3298 - sex_out_accuracy: 0.8309 - age_out_accuracy: 0.0456 - val_loss: 13.4022 - val_sex_out_loss: 0.3392 - val_age_out_loss: 12.6141 - val_sex_out_accuracy: 0.8505 - val_age_out_accuracy: 0.0515\n",
            "Epoch 9/300\n",
            "276/278 [============================>.] - ETA: 0s - loss: 7.9507 - sex_out_loss: 0.3467 - age_out_loss: 7.1421 - sex_out_accuracy: 0.8417 - age_out_accuracy: 0.0455\n",
            "Epoch 9: val_loss improved from 10.72285 to 8.71755, saving model to Age_sex_Detection.h5\n",
            "278/278 [==============================] - 5s 17ms/step - loss: 7.9441 - sex_out_loss: 0.3463 - age_out_loss: 7.1359 - sex_out_accuracy: 0.8421 - age_out_accuracy: 0.0453 - val_loss: 8.7176 - val_sex_out_loss: 0.3329 - val_age_out_loss: 7.9117 - val_sex_out_accuracy: 0.8492 - val_age_out_accuracy: 0.0515\n",
            "Epoch 10/300\n",
            "278/278 [==============================] - ETA: 0s - loss: 7.6987 - sex_out_loss: 0.3284 - age_out_loss: 6.8866 - sex_out_accuracy: 0.8521 - age_out_accuracy: 0.0454\n",
            "Epoch 10: val_loss did not improve from 8.71755\n",
            "278/278 [==============================] - 5s 18ms/step - loss: 7.6987 - sex_out_loss: 0.3284 - age_out_loss: 6.8866 - sex_out_accuracy: 0.8521 - age_out_accuracy: 0.0454 - val_loss: 9.6137 - val_sex_out_loss: 0.3069 - val_age_out_loss: 8.8163 - val_sex_out_accuracy: 0.8654 - val_age_out_accuracy: 0.0515\n",
            "Epoch 11/300\n",
            "278/278 [==============================] - ETA: 0s - loss: 7.4135 - sex_out_loss: 0.3102 - age_out_loss: 6.6031 - sex_out_accuracy: 0.8597 - age_out_accuracy: 0.0457\n",
            "Epoch 11: val_loss did not improve from 8.71755\n",
            "278/278 [==============================] - 5s 18ms/step - loss: 7.4135 - sex_out_loss: 0.3102 - age_out_loss: 6.6031 - sex_out_accuracy: 0.8597 - age_out_accuracy: 0.0457 - val_loss: 9.4184 - val_sex_out_loss: 0.2852 - val_age_out_loss: 8.6255 - val_sex_out_accuracy: 0.8691 - val_age_out_accuracy: 0.0515\n",
            "Epoch 12/300\n",
            "278/278 [==============================] - ETA: 0s - loss: 7.2577 - sex_out_loss: 0.3031 - age_out_loss: 6.4387 - sex_out_accuracy: 0.8620 - age_out_accuracy: 0.0457\n",
            "Epoch 12: val_loss did not improve from 8.71755\n",
            "278/278 [==============================] - 5s 17ms/step - loss: 7.2577 - sex_out_loss: 0.3031 - age_out_loss: 6.4387 - sex_out_accuracy: 0.8620 - age_out_accuracy: 0.0457 - val_loss: 9.6339 - val_sex_out_loss: 0.3263 - val_age_out_loss: 8.7831 - val_sex_out_accuracy: 0.8441 - val_age_out_accuracy: 0.0515\n",
            "Epoch 13/300\n",
            "277/278 [============================>.] - ETA: 0s - loss: 7.1799 - sex_out_loss: 0.2914 - age_out_loss: 6.3553 - sex_out_accuracy: 0.8707 - age_out_accuracy: 0.0456\n",
            "Epoch 13: val_loss improved from 8.71755 to 7.65584, saving model to Age_sex_Detection.h5\n",
            "278/278 [==============================] - 5s 19ms/step - loss: 7.1806 - sex_out_loss: 0.2915 - age_out_loss: 6.3558 - sex_out_accuracy: 0.8705 - age_out_accuracy: 0.0456 - val_loss: 7.6558 - val_sex_out_loss: 0.2865 - val_age_out_loss: 6.8273 - val_sex_out_accuracy: 0.8740 - val_age_out_accuracy: 0.0515\n",
            "Epoch 14/300\n",
            "276/278 [============================>.] - ETA: 0s - loss: 7.0432 - sex_out_loss: 0.2854 - age_out_loss: 6.2078 - sex_out_accuracy: 0.8722 - age_out_accuracy: 0.0451\n",
            "Epoch 14: val_loss did not improve from 7.65584\n",
            "278/278 [==============================] - 5s 18ms/step - loss: 7.0366 - sex_out_loss: 0.2849 - age_out_loss: 6.2016 - sex_out_accuracy: 0.8724 - age_out_accuracy: 0.0451 - val_loss: 8.7950 - val_sex_out_loss: 0.2774 - val_age_out_loss: 7.9603 - val_sex_out_accuracy: 0.8784 - val_age_out_accuracy: 0.0515\n",
            "Epoch 15/300\n",
            "277/278 [============================>.] - ETA: 0s - loss: 6.8583 - sex_out_loss: 0.2789 - age_out_loss: 6.0152 - sex_out_accuracy: 0.8762 - age_out_accuracy: 0.0457\n",
            "Epoch 15: val_loss did not improve from 7.65584\n",
            "278/278 [==============================] - 5s 19ms/step - loss: 6.8525 - sex_out_loss: 0.2790 - age_out_loss: 6.0093 - sex_out_accuracy: 0.8761 - age_out_accuracy: 0.0457 - val_loss: 8.9662 - val_sex_out_loss: 0.3020 - val_age_out_loss: 8.0920 - val_sex_out_accuracy: 0.8633 - val_age_out_accuracy: 0.0515\n",
            "Epoch 16/300\n",
            "276/278 [============================>.] - ETA: 0s - loss: 6.8354 - sex_out_loss: 0.2746 - age_out_loss: 5.9826 - sex_out_accuracy: 0.8765 - age_out_accuracy: 0.0457\n",
            "Epoch 16: val_loss did not improve from 7.65584\n",
            "278/278 [==============================] - 5s 17ms/step - loss: 6.8358 - sex_out_loss: 0.2747 - age_out_loss: 5.9828 - sex_out_accuracy: 0.8765 - age_out_accuracy: 0.0456 - val_loss: 7.8810 - val_sex_out_loss: 0.2745 - val_age_out_loss: 7.0189 - val_sex_out_accuracy: 0.8822 - val_age_out_accuracy: 0.0515\n",
            "Epoch 17/300\n",
            "277/278 [============================>.] - ETA: 0s - loss: 6.8420 - sex_out_loss: 0.2687 - age_out_loss: 5.9761 - sex_out_accuracy: 0.8821 - age_out_accuracy: 0.0456\n",
            "Epoch 17: val_loss improved from 7.65584 to 7.60714, saving model to Age_sex_Detection.h5\n",
            "278/278 [==============================] - 5s 20ms/step - loss: 6.8466 - sex_out_loss: 0.2685 - age_out_loss: 5.9809 - sex_out_accuracy: 0.8820 - age_out_accuracy: 0.0456 - val_loss: 7.6071 - val_sex_out_loss: 0.2884 - val_age_out_loss: 6.7140 - val_sex_out_accuracy: 0.8694 - val_age_out_accuracy: 0.0515\n",
            "Epoch 18/300\n",
            "275/278 [============================>.] - ETA: 0s - loss: 6.5626 - sex_out_loss: 0.2723 - age_out_loss: 5.6768 - sex_out_accuracy: 0.8769 - age_out_accuracy: 0.0455\n",
            "Epoch 18: val_loss did not improve from 7.60714\n",
            "278/278 [==============================] - 5s 18ms/step - loss: 6.5684 - sex_out_loss: 0.2728 - age_out_loss: 5.6820 - sex_out_accuracy: 0.8769 - age_out_accuracy: 0.0454 - val_loss: 8.7072 - val_sex_out_loss: 0.3048 - val_age_out_loss: 7.7804 - val_sex_out_accuracy: 0.8638 - val_age_out_accuracy: 0.0513\n",
            "Epoch 19/300\n",
            "275/278 [============================>.] - ETA: 0s - loss: 6.5496 - sex_out_loss: 0.2661 - age_out_loss: 5.6548 - sex_out_accuracy: 0.8816 - age_out_accuracy: 0.0456\n",
            "Epoch 19: val_loss did not improve from 7.60714\n",
            "278/278 [==============================] - 5s 17ms/step - loss: 6.5514 - sex_out_loss: 0.2662 - age_out_loss: 5.6564 - sex_out_accuracy: 0.8815 - age_out_accuracy: 0.0456 - val_loss: 7.6134 - val_sex_out_loss: 0.2804 - val_age_out_loss: 6.6988 - val_sex_out_accuracy: 0.8778 - val_age_out_accuracy: 0.0513\n",
            "Epoch 20/300\n",
            "277/278 [============================>.] - ETA: 0s - loss: 6.5036 - sex_out_loss: 0.2635 - age_out_loss: 5.5997 - sex_out_accuracy: 0.8828 - age_out_accuracy: 0.0453\n",
            "Epoch 20: val_loss did not improve from 7.60714\n",
            "278/278 [==============================] - 5s 18ms/step - loss: 6.5045 - sex_out_loss: 0.2638 - age_out_loss: 5.6003 - sex_out_accuracy: 0.8827 - age_out_accuracy: 0.0453 - val_loss: 7.8278 - val_sex_out_loss: 0.2800 - val_age_out_loss: 6.9024 - val_sex_out_accuracy: 0.8782 - val_age_out_accuracy: 0.0513\n",
            "Epoch 21/300\n",
            "275/278 [============================>.] - ETA: 0s - loss: 6.4246 - sex_out_loss: 0.2527 - age_out_loss: 5.5185 - sex_out_accuracy: 0.8857 - age_out_accuracy: 0.0451\n",
            "Epoch 21: val_loss did not improve from 7.60714\n",
            "278/278 [==============================] - 5s 18ms/step - loss: 6.4313 - sex_out_loss: 0.2538 - age_out_loss: 5.5240 - sex_out_accuracy: 0.8854 - age_out_accuracy: 0.0450 - val_loss: 7.9837 - val_sex_out_loss: 0.2817 - val_age_out_loss: 7.0416 - val_sex_out_accuracy: 0.8768 - val_age_out_accuracy: 0.0510\n",
            "Epoch 22/300\n",
            "277/278 [============================>.] - ETA: 0s - loss: 6.3604 - sex_out_loss: 0.2527 - age_out_loss: 5.4404 - sex_out_accuracy: 0.8873 - age_out_accuracy: 0.0450\n",
            "Epoch 22: val_loss did not improve from 7.60714\n",
            "278/278 [==============================] - 5s 18ms/step - loss: 6.3628 - sex_out_loss: 0.2527 - age_out_loss: 5.4427 - sex_out_accuracy: 0.8872 - age_out_accuracy: 0.0452 - val_loss: 7.6124 - val_sex_out_loss: 0.2672 - val_age_out_loss: 6.6734 - val_sex_out_accuracy: 0.8827 - val_age_out_accuracy: 0.0515\n",
            "Epoch 23/300\n",
            "277/278 [============================>.] - ETA: 0s - loss: 6.3236 - sex_out_loss: 0.2514 - age_out_loss: 5.3929 - sex_out_accuracy: 0.8881 - age_out_accuracy: 0.0452\n",
            "Epoch 23: val_loss did not improve from 7.60714\n",
            "278/278 [==============================] - 5s 18ms/step - loss: 6.3244 - sex_out_loss: 0.2513 - age_out_loss: 5.3937 - sex_out_accuracy: 0.8883 - age_out_accuracy: 0.0452 - val_loss: 9.1108 - val_sex_out_loss: 0.2653 - val_age_out_loss: 8.1597 - val_sex_out_accuracy: 0.8805 - val_age_out_accuracy: 0.0511\n",
            "Epoch 24/300\n",
            "276/278 [============================>.] - ETA: 0s - loss: 6.2807 - sex_out_loss: 0.2546 - age_out_loss: 5.3330 - sex_out_accuracy: 0.8907 - age_out_accuracy: 0.0455\n",
            "Epoch 24: val_loss did not improve from 7.60714\n",
            "278/278 [==============================] - 5s 18ms/step - loss: 6.2839 - sex_out_loss: 0.2549 - age_out_loss: 5.3359 - sex_out_accuracy: 0.8905 - age_out_accuracy: 0.0455 - val_loss: 7.9577 - val_sex_out_loss: 0.2745 - val_age_out_loss: 6.9850 - val_sex_out_accuracy: 0.8799 - val_age_out_accuracy: 0.0508\n",
            "Epoch 25/300\n",
            "277/278 [============================>.] - ETA: 0s - loss: 6.2170 - sex_out_loss: 0.2503 - age_out_loss: 5.2639 - sex_out_accuracy: 0.8878 - age_out_accuracy: 0.0455\n",
            "Epoch 25: val_loss did not improve from 7.60714\n",
            "278/278 [==============================] - 5s 18ms/step - loss: 6.2171 - sex_out_loss: 0.2503 - age_out_loss: 5.2639 - sex_out_accuracy: 0.8877 - age_out_accuracy: 0.0456 - val_loss: 7.6705 - val_sex_out_loss: 0.2682 - val_age_out_loss: 6.6950 - val_sex_out_accuracy: 0.8800 - val_age_out_accuracy: 0.0515\n",
            "Epoch 26/300\n",
            "276/278 [============================>.] - ETA: 0s - loss: 6.2108 - sex_out_loss: 0.2431 - age_out_loss: 5.2571 - sex_out_accuracy: 0.8895 - age_out_accuracy: 0.0451\n",
            "Epoch 26: val_loss did not improve from 7.60714\n",
            "278/278 [==============================] - 5s 18ms/step - loss: 6.2149 - sex_out_loss: 0.2440 - age_out_loss: 5.2602 - sex_out_accuracy: 0.8890 - age_out_accuracy: 0.0454 - val_loss: 9.1459 - val_sex_out_loss: 0.2653 - val_age_out_loss: 8.1637 - val_sex_out_accuracy: 0.8794 - val_age_out_accuracy: 0.0515\n",
            "Epoch 27/300\n",
            "278/278 [==============================] - ETA: 0s - loss: 6.0655 - sex_out_loss: 0.2400 - age_out_loss: 5.1043 - sex_out_accuracy: 0.8935 - age_out_accuracy: 0.0458\n",
            "Epoch 27: val_loss did not improve from 7.60714\n",
            "278/278 [==============================] - 5s 18ms/step - loss: 6.0655 - sex_out_loss: 0.2400 - age_out_loss: 5.1043 - sex_out_accuracy: 0.8935 - age_out_accuracy: 0.0458 - val_loss: 8.4179 - val_sex_out_loss: 0.2806 - val_age_out_loss: 7.4122 - val_sex_out_accuracy: 0.8728 - val_age_out_accuracy: 0.0513\n",
            "Epoch 28/300\n",
            "276/278 [============================>.] - ETA: 0s - loss: 6.0366 - sex_out_loss: 0.2412 - age_out_loss: 5.0630 - sex_out_accuracy: 0.8940 - age_out_accuracy: 0.0452\n",
            "Epoch 28: val_loss did not improve from 7.60714\n",
            "278/278 [==============================] - 5s 18ms/step - loss: 6.0389 - sex_out_loss: 0.2410 - age_out_loss: 5.0654 - sex_out_accuracy: 0.8939 - age_out_accuracy: 0.0452 - val_loss: 7.7004 - val_sex_out_loss: 0.2623 - val_age_out_loss: 6.6983 - val_sex_out_accuracy: 0.8800 - val_age_out_accuracy: 0.0515\n",
            "Epoch 29/300\n",
            "276/278 [============================>.] - ETA: 0s - loss: 6.0287 - sex_out_loss: 0.2438 - age_out_loss: 5.0400 - sex_out_accuracy: 0.8902 - age_out_accuracy: 0.0452\n",
            "Epoch 29: val_loss did not improve from 7.60714\n",
            "278/278 [==============================] - 5s 19ms/step - loss: 6.0324 - sex_out_loss: 0.2438 - age_out_loss: 5.0437 - sex_out_accuracy: 0.8904 - age_out_accuracy: 0.0454 - val_loss: 8.2873 - val_sex_out_loss: 0.2727 - val_age_out_loss: 7.2665 - val_sex_out_accuracy: 0.8807 - val_age_out_accuracy: 0.0513\n",
            "Epoch 30/300\n",
            "277/278 [============================>.] - ETA: 0s - loss: 5.9725 - sex_out_loss: 0.2430 - age_out_loss: 4.9764 - sex_out_accuracy: 0.8908 - age_out_accuracy: 0.0454\n",
            "Epoch 30: val_loss did not improve from 7.60714\n",
            "278/278 [==============================] - 5s 18ms/step - loss: 5.9700 - sex_out_loss: 0.2432 - age_out_loss: 4.9739 - sex_out_accuracy: 0.8907 - age_out_accuracy: 0.0454 - val_loss: 8.6138 - val_sex_out_loss: 0.3034 - val_age_out_loss: 7.5532 - val_sex_out_accuracy: 0.8674 - val_age_out_accuracy: 0.0513\n",
            "Epoch 31/300\n",
            "277/278 [============================>.] - ETA: 0s - loss: 5.9742 - sex_out_loss: 0.2440 - age_out_loss: 4.9686 - sex_out_accuracy: 0.8881 - age_out_accuracy: 0.0451\n",
            "Epoch 31: val_loss did not improve from 7.60714\n",
            "278/278 [==============================] - 5s 18ms/step - loss: 5.9758 - sex_out_loss: 0.2440 - age_out_loss: 4.9703 - sex_out_accuracy: 0.8882 - age_out_accuracy: 0.0452 - val_loss: 7.6408 - val_sex_out_loss: 0.2756 - val_age_out_loss: 6.5979 - val_sex_out_accuracy: 0.8746 - val_age_out_accuracy: 0.0515\n",
            "Epoch 32/300\n",
            "278/278 [==============================] - ETA: 0s - loss: 5.9326 - sex_out_loss: 0.2327 - age_out_loss: 4.9258 - sex_out_accuracy: 0.8964 - age_out_accuracy: 0.0453\n",
            "Epoch 32: val_loss did not improve from 7.60714\n",
            "278/278 [==============================] - 5s 19ms/step - loss: 5.9326 - sex_out_loss: 0.2327 - age_out_loss: 4.9258 - sex_out_accuracy: 0.8964 - age_out_accuracy: 0.0453 - val_loss: 8.0808 - val_sex_out_loss: 0.2567 - val_age_out_loss: 7.0455 - val_sex_out_accuracy: 0.8910 - val_age_out_accuracy: 0.0515\n",
            "Epoch 33/300\n",
            "276/278 [============================>.] - ETA: 0s - loss: 5.9762 - sex_out_loss: 0.2407 - age_out_loss: 4.9506 - sex_out_accuracy: 0.8927 - age_out_accuracy: 0.0456\n",
            "Epoch 33: val_loss improved from 7.60714 to 7.02594, saving model to Age_sex_Detection.h5\n",
            "278/278 [==============================] - 5s 18ms/step - loss: 5.9765 - sex_out_loss: 0.2403 - age_out_loss: 4.9512 - sex_out_accuracy: 0.8928 - age_out_accuracy: 0.0456 - val_loss: 7.0259 - val_sex_out_loss: 0.2704 - val_age_out_loss: 5.9667 - val_sex_out_accuracy: 0.8792 - val_age_out_accuracy: 0.0515\n",
            "Epoch 34/300\n",
            "277/278 [============================>.] - ETA: 0s - loss: 5.7913 - sex_out_loss: 0.2333 - age_out_loss: 4.7617 - sex_out_accuracy: 0.8955 - age_out_accuracy: 0.0456\n",
            "Epoch 34: val_loss did not improve from 7.02594\n",
            "278/278 [==============================] - 5s 18ms/step - loss: 5.7943 - sex_out_loss: 0.2332 - age_out_loss: 4.7648 - sex_out_accuracy: 0.8955 - age_out_accuracy: 0.0455 - val_loss: 7.3811 - val_sex_out_loss: 0.2641 - val_age_out_loss: 6.3157 - val_sex_out_accuracy: 0.8844 - val_age_out_accuracy: 0.0506\n",
            "Epoch 35/300\n",
            "277/278 [============================>.] - ETA: 0s - loss: 5.8699 - sex_out_loss: 0.2334 - age_out_loss: 4.8301 - sex_out_accuracy: 0.8980 - age_out_accuracy: 0.0451\n",
            "Epoch 35: val_loss did not improve from 7.02594\n",
            "278/278 [==============================] - 5s 19ms/step - loss: 5.8683 - sex_out_loss: 0.2332 - age_out_loss: 4.8287 - sex_out_accuracy: 0.8980 - age_out_accuracy: 0.0450 - val_loss: 7.7553 - val_sex_out_loss: 0.2627 - val_age_out_loss: 6.6826 - val_sex_out_accuracy: 0.8831 - val_age_out_accuracy: 0.0513\n",
            "Epoch 36/300\n",
            "275/278 [============================>.] - ETA: 0s - loss: 5.8384 - sex_out_loss: 0.2293 - age_out_loss: 4.7939 - sex_out_accuracy: 0.8947 - age_out_accuracy: 0.0457\n",
            "Epoch 36: val_loss did not improve from 7.02594\n",
            "278/278 [==============================] - 5s 18ms/step - loss: 5.8297 - sex_out_loss: 0.2296 - age_out_loss: 4.7849 - sex_out_accuracy: 0.8947 - age_out_accuracy: 0.0456 - val_loss: 7.2587 - val_sex_out_loss: 0.2623 - val_age_out_loss: 6.1767 - val_sex_out_accuracy: 0.8817 - val_age_out_accuracy: 0.0515\n",
            "Epoch 37/300\n",
            "275/278 [============================>.] - ETA: 0s - loss: 5.7701 - sex_out_loss: 0.2255 - age_out_loss: 4.7212 - sex_out_accuracy: 0.9006 - age_out_accuracy: 0.0454\n",
            "Epoch 37: val_loss did not improve from 7.02594\n",
            "278/278 [==============================] - 5s 19ms/step - loss: 5.7674 - sex_out_loss: 0.2252 - age_out_loss: 4.7187 - sex_out_accuracy: 0.9006 - age_out_accuracy: 0.0452 - val_loss: 7.6172 - val_sex_out_loss: 0.2548 - val_age_out_loss: 6.5356 - val_sex_out_accuracy: 0.8912 - val_age_out_accuracy: 0.0515\n",
            "Epoch 38/300\n",
            "277/278 [============================>.] - ETA: 0s - loss: 5.7000 - sex_out_loss: 0.2244 - age_out_loss: 4.6465 - sex_out_accuracy: 0.8984 - age_out_accuracy: 0.0454\n",
            "Epoch 38: val_loss did not improve from 7.02594\n",
            "278/278 [==============================] - 5s 18ms/step - loss: 5.6969 - sex_out_loss: 0.2240 - age_out_loss: 4.6438 - sex_out_accuracy: 0.8986 - age_out_accuracy: 0.0453 - val_loss: 7.6799 - val_sex_out_loss: 0.2599 - val_age_out_loss: 6.5892 - val_sex_out_accuracy: 0.8859 - val_age_out_accuracy: 0.0515\n",
            "Epoch 39/300\n",
            "276/278 [============================>.] - ETA: 0s - loss: 5.7248 - sex_out_loss: 0.2263 - age_out_loss: 4.6617 - sex_out_accuracy: 0.8991 - age_out_accuracy: 0.0450\n",
            "Epoch 39: val_loss did not improve from 7.02594\n",
            "278/278 [==============================] - 5s 18ms/step - loss: 5.7225 - sex_out_loss: 0.2262 - age_out_loss: 4.6594 - sex_out_accuracy: 0.8989 - age_out_accuracy: 0.0449 - val_loss: 7.1688 - val_sex_out_loss: 0.2724 - val_age_out_loss: 6.0530 - val_sex_out_accuracy: 0.8816 - val_age_out_accuracy: 0.0515\n",
            "Epoch 40/300\n",
            "278/278 [==============================] - ETA: 0s - loss: 5.6429 - sex_out_loss: 0.2263 - age_out_loss: 4.5676 - sex_out_accuracy: 0.9012 - age_out_accuracy: 0.0454\n",
            "Epoch 40: val_loss did not improve from 7.02594\n",
            "278/278 [==============================] - 5s 18ms/step - loss: 5.6429 - sex_out_loss: 0.2263 - age_out_loss: 4.5676 - sex_out_accuracy: 0.9012 - age_out_accuracy: 0.0454 - val_loss: 7.6399 - val_sex_out_loss: 0.2595 - val_age_out_loss: 6.5260 - val_sex_out_accuracy: 0.8848 - val_age_out_accuracy: 0.0515\n",
            "Epoch 41/300\n",
            "276/278 [============================>.] - ETA: 0s - loss: 5.6788 - sex_out_loss: 0.2212 - age_out_loss: 4.6041 - sex_out_accuracy: 0.9028 - age_out_accuracy: 0.0443\n",
            "Epoch 41: val_loss did not improve from 7.02594\n",
            "278/278 [==============================] - 5s 17ms/step - loss: 5.6798 - sex_out_loss: 0.2211 - age_out_loss: 4.6052 - sex_out_accuracy: 0.9028 - age_out_accuracy: 0.0446 - val_loss: 7.4231 - val_sex_out_loss: 0.2643 - val_age_out_loss: 6.3026 - val_sex_out_accuracy: 0.8885 - val_age_out_accuracy: 0.0515\n",
            "Epoch 42/300\n",
            "276/278 [============================>.] - ETA: 0s - loss: 5.7031 - sex_out_loss: 0.2168 - age_out_loss: 4.6265 - sex_out_accuracy: 0.9034 - age_out_accuracy: 0.0451\n",
            "Epoch 42: val_loss did not improve from 7.02594\n",
            "278/278 [==============================] - 5s 18ms/step - loss: 5.7026 - sex_out_loss: 0.2175 - age_out_loss: 4.6252 - sex_out_accuracy: 0.9032 - age_out_accuracy: 0.0452 - val_loss: 8.1279 - val_sex_out_loss: 0.2721 - val_age_out_loss: 6.9910 - val_sex_out_accuracy: 0.8809 - val_age_out_accuracy: 0.0515\n",
            "Epoch 43/300\n",
            "275/278 [============================>.] - ETA: 0s - loss: 5.6588 - sex_out_loss: 0.2262 - age_out_loss: 4.5648 - sex_out_accuracy: 0.8988 - age_out_accuracy: 0.0444\n",
            "Epoch 43: val_loss did not improve from 7.02594\n",
            "278/278 [==============================] - 5s 18ms/step - loss: 5.6585 - sex_out_loss: 0.2257 - age_out_loss: 4.5649 - sex_out_accuracy: 0.8989 - age_out_accuracy: 0.0445 - val_loss: 7.6228 - val_sex_out_loss: 0.2537 - val_age_out_loss: 6.4991 - val_sex_out_accuracy: 0.8919 - val_age_out_accuracy: 0.0515\n",
            "Epoch 44/300\n",
            "277/278 [============================>.] - ETA: 0s - loss: 5.7232 - sex_out_loss: 0.2178 - age_out_loss: 4.6336 - sex_out_accuracy: 0.9064 - age_out_accuracy: 0.0447\n",
            "Epoch 44: val_loss did not improve from 7.02594\n",
            "278/278 [==============================] - 5s 17ms/step - loss: 5.7230 - sex_out_loss: 0.2180 - age_out_loss: 4.6331 - sex_out_accuracy: 0.9063 - age_out_accuracy: 0.0447 - val_loss: 8.0721 - val_sex_out_loss: 0.2569 - val_age_out_loss: 6.9432 - val_sex_out_accuracy: 0.8878 - val_age_out_accuracy: 0.0515\n",
            "Epoch 45/300\n",
            "278/278 [==============================] - ETA: 0s - loss: 5.6279 - sex_out_loss: 0.2150 - age_out_loss: 4.5363 - sex_out_accuracy: 0.9047 - age_out_accuracy: 0.0453\n",
            "Epoch 45: val_loss did not improve from 7.02594\n",
            "278/278 [==============================] - 5s 18ms/step - loss: 5.6279 - sex_out_loss: 0.2150 - age_out_loss: 4.5363 - sex_out_accuracy: 0.9047 - age_out_accuracy: 0.0453 - val_loss: 7.5424 - val_sex_out_loss: 0.2659 - val_age_out_loss: 6.3966 - val_sex_out_accuracy: 0.8843 - val_age_out_accuracy: 0.0515\n",
            "Epoch 46/300\n",
            "275/278 [============================>.] - ETA: 0s - loss: 5.5795 - sex_out_loss: 0.2192 - age_out_loss: 4.4783 - sex_out_accuracy: 0.9010 - age_out_accuracy: 0.0447\n",
            "Epoch 46: val_loss did not improve from 7.02594\n",
            "278/278 [==============================] - 5s 17ms/step - loss: 5.5823 - sex_out_loss: 0.2186 - age_out_loss: 4.4816 - sex_out_accuracy: 0.9014 - age_out_accuracy: 0.0447 - val_loss: 7.1920 - val_sex_out_loss: 0.2557 - val_age_out_loss: 6.0494 - val_sex_out_accuracy: 0.8898 - val_age_out_accuracy: 0.0506\n",
            "Epoch 47/300\n",
            "277/278 [============================>.] - ETA: 0s - loss: 5.5726 - sex_out_loss: 0.2165 - age_out_loss: 4.4635 - sex_out_accuracy: 0.9042 - age_out_accuracy: 0.0449\n",
            "Epoch 47: val_loss did not improve from 7.02594\n",
            "278/278 [==============================] - 5s 19ms/step - loss: 5.5722 - sex_out_loss: 0.2166 - age_out_loss: 4.4630 - sex_out_accuracy: 0.9041 - age_out_accuracy: 0.0448 - val_loss: 7.2698 - val_sex_out_loss: 0.2564 - val_age_out_loss: 6.1160 - val_sex_out_accuracy: 0.8913 - val_age_out_accuracy: 0.0513\n",
            "Epoch 48/300\n",
            "276/278 [============================>.] - ETA: 0s - loss: 5.5583 - sex_out_loss: 0.2148 - age_out_loss: 4.4443 - sex_out_accuracy: 0.9062 - age_out_accuracy: 0.0444\n",
            "Epoch 48: val_loss did not improve from 7.02594\n",
            "278/278 [==============================] - 5s 18ms/step - loss: 5.5557 - sex_out_loss: 0.2149 - age_out_loss: 4.4416 - sex_out_accuracy: 0.9060 - age_out_accuracy: 0.0444 - val_loss: 7.8566 - val_sex_out_loss: 0.2703 - val_age_out_loss: 6.6847 - val_sex_out_accuracy: 0.8831 - val_age_out_accuracy: 0.0513\n",
            "Epoch 49/300\n",
            "275/278 [============================>.] - ETA: 0s - loss: 5.5906 - sex_out_loss: 0.2145 - age_out_loss: 4.4703 - sex_out_accuracy: 0.9061 - age_out_accuracy: 0.0445\n",
            "Epoch 49: val_loss did not improve from 7.02594\n",
            "278/278 [==============================] - 4s 16ms/step - loss: 5.5939 - sex_out_loss: 0.2152 - age_out_loss: 4.4729 - sex_out_accuracy: 0.9060 - age_out_accuracy: 0.0448 - val_loss: 7.1197 - val_sex_out_loss: 0.2606 - val_age_out_loss: 5.9489 - val_sex_out_accuracy: 0.8841 - val_age_out_accuracy: 0.0513\n",
            "Epoch 50/300\n",
            "278/278 [==============================] - ETA: 0s - loss: 5.5465 - sex_out_loss: 0.2155 - age_out_loss: 4.4188 - sex_out_accuracy: 0.9048 - age_out_accuracy: 0.0439\n",
            "Epoch 50: val_loss did not improve from 7.02594\n",
            "278/278 [==============================] - 5s 18ms/step - loss: 5.5465 - sex_out_loss: 0.2155 - age_out_loss: 4.4188 - sex_out_accuracy: 0.9048 - age_out_accuracy: 0.0439 - val_loss: 7.5033 - val_sex_out_loss: 0.2571 - val_age_out_loss: 6.3319 - val_sex_out_accuracy: 0.8878 - val_age_out_accuracy: 0.0510\n",
            "Epoch 51/300\n",
            "277/278 [============================>.] - ETA: 0s - loss: 5.4815 - sex_out_loss: 0.2150 - age_out_loss: 4.3505 - sex_out_accuracy: 0.9041 - age_out_accuracy: 0.0437\n",
            "Epoch 51: val_loss did not improve from 7.02594\n",
            "278/278 [==============================] - 4s 16ms/step - loss: 5.4830 - sex_out_loss: 0.2152 - age_out_loss: 4.3517 - sex_out_accuracy: 0.9041 - age_out_accuracy: 0.0438 - val_loss: 7.3958 - val_sex_out_loss: 0.3027 - val_age_out_loss: 6.1735 - val_sex_out_accuracy: 0.8767 - val_age_out_accuracy: 0.0510\n",
            "Epoch 52/300\n",
            "275/278 [============================>.] - ETA: 0s - loss: 5.4718 - sex_out_loss: 0.2185 - age_out_loss: 4.3295 - sex_out_accuracy: 0.9043 - age_out_accuracy: 0.0444\n",
            "Epoch 52: val_loss did not improve from 7.02594\n",
            "278/278 [==============================] - 5s 18ms/step - loss: 5.4746 - sex_out_loss: 0.2186 - age_out_loss: 4.3324 - sex_out_accuracy: 0.9042 - age_out_accuracy: 0.0441 - val_loss: 7.2257 - val_sex_out_loss: 0.2496 - val_age_out_loss: 6.0490 - val_sex_out_accuracy: 0.8937 - val_age_out_accuracy: 0.0513\n",
            "Epoch 53/300\n",
            "277/278 [============================>.] - ETA: 0s - loss: 5.5089 - sex_out_loss: 0.2082 - age_out_loss: 4.3704 - sex_out_accuracy: 0.9075 - age_out_accuracy: 0.0443\n",
            "Epoch 53: val_loss did not improve from 7.02594\n",
            "278/278 [==============================] - 5s 17ms/step - loss: 5.5053 - sex_out_loss: 0.2084 - age_out_loss: 4.3665 - sex_out_accuracy: 0.9074 - age_out_accuracy: 0.0444 - val_loss: 8.2631 - val_sex_out_loss: 0.2599 - val_age_out_loss: 7.0701 - val_sex_out_accuracy: 0.8865 - val_age_out_accuracy: 0.0508\n",
            "Epoch 54/300\n",
            "277/278 [============================>.] - ETA: 0s - loss: 5.4615 - sex_out_loss: 0.2105 - age_out_loss: 4.3153 - sex_out_accuracy: 0.9081 - age_out_accuracy: 0.0440\n",
            "Epoch 54: val_loss did not improve from 7.02594\n",
            "278/278 [==============================] - 5s 17ms/step - loss: 5.4621 - sex_out_loss: 0.2111 - age_out_loss: 4.3152 - sex_out_accuracy: 0.9078 - age_out_accuracy: 0.0441 - val_loss: 7.8969 - val_sex_out_loss: 0.2769 - val_age_out_loss: 6.6817 - val_sex_out_accuracy: 0.8785 - val_age_out_accuracy: 0.0515\n",
            "Epoch 55/300\n",
            "278/278 [==============================] - ETA: 0s - loss: 5.4774 - sex_out_loss: 0.2114 - age_out_loss: 4.3265 - sex_out_accuracy: 0.9079 - age_out_accuracy: 0.0439\n",
            "Epoch 55: val_loss did not improve from 7.02594\n",
            "278/278 [==============================] - 5s 19ms/step - loss: 5.4774 - sex_out_loss: 0.2114 - age_out_loss: 4.3265 - sex_out_accuracy: 0.9079 - age_out_accuracy: 0.0439 - val_loss: 7.4520 - val_sex_out_loss: 0.2775 - val_age_out_loss: 6.2321 - val_sex_out_accuracy: 0.8762 - val_age_out_accuracy: 0.0506\n",
            "Epoch 56/300\n",
            "277/278 [============================>.] - ETA: 0s - loss: 5.4462 - sex_out_loss: 0.2106 - age_out_loss: 4.2914 - sex_out_accuracy: 0.9067 - age_out_accuracy: 0.0434\n",
            "Epoch 56: val_loss did not improve from 7.02594\n",
            "278/278 [==============================] - 5s 17ms/step - loss: 5.4469 - sex_out_loss: 0.2106 - age_out_loss: 4.2922 - sex_out_accuracy: 0.9066 - age_out_accuracy: 0.0434 - val_loss: 7.4532 - val_sex_out_loss: 0.2793 - val_age_out_loss: 6.2273 - val_sex_out_accuracy: 0.8802 - val_age_out_accuracy: 0.0513\n",
            "Epoch 57/300\n",
            "276/278 [============================>.] - ETA: 0s - loss: 5.4456 - sex_out_loss: 0.2098 - age_out_loss: 4.2852 - sex_out_accuracy: 0.9091 - age_out_accuracy: 0.0439\n",
            "Epoch 57: val_loss improved from 7.02594 to 6.77332, saving model to Age_sex_Detection.h5\n",
            "278/278 [==============================] - 5s 18ms/step - loss: 5.4480 - sex_out_loss: 0.2101 - age_out_loss: 4.2874 - sex_out_accuracy: 0.9092 - age_out_accuracy: 0.0437 - val_loss: 6.7733 - val_sex_out_loss: 0.2494 - val_age_out_loss: 5.5707 - val_sex_out_accuracy: 0.8935 - val_age_out_accuracy: 0.0510\n",
            "Epoch 58/300\n",
            "275/278 [============================>.] - ETA: 0s - loss: 5.4309 - sex_out_loss: 0.2081 - age_out_loss: 4.2660 - sex_out_accuracy: 0.9088 - age_out_accuracy: 0.0444\n",
            "Epoch 58: val_loss did not improve from 6.77332\n",
            "278/278 [==============================] - 5s 18ms/step - loss: 5.4345 - sex_out_loss: 0.2077 - age_out_loss: 4.2700 - sex_out_accuracy: 0.9093 - age_out_accuracy: 0.0442 - val_loss: 6.9760 - val_sex_out_loss: 0.2631 - val_age_out_loss: 5.7546 - val_sex_out_accuracy: 0.8841 - val_age_out_accuracy: 0.0510\n",
            "Epoch 59/300\n",
            "278/278 [==============================] - ETA: 0s - loss: 5.4995 - sex_out_loss: 0.2091 - age_out_loss: 4.3282 - sex_out_accuracy: 0.9078 - age_out_accuracy: 0.0439\n",
            "Epoch 59: val_loss did not improve from 6.77332\n",
            "278/278 [==============================] - 5s 17ms/step - loss: 5.4995 - sex_out_loss: 0.2091 - age_out_loss: 4.3282 - sex_out_accuracy: 0.9078 - age_out_accuracy: 0.0439 - val_loss: 7.2914 - val_sex_out_loss: 0.2515 - val_age_out_loss: 6.0750 - val_sex_out_accuracy: 0.8910 - val_age_out_accuracy: 0.0501\n",
            "Epoch 60/300\n",
            "276/278 [============================>.] - ETA: 0s - loss: 5.4230 - sex_out_loss: 0.2098 - age_out_loss: 4.2457 - sex_out_accuracy: 0.9078 - age_out_accuracy: 0.0434\n",
            "Epoch 60: val_loss did not improve from 6.77332\n",
            "278/278 [==============================] - 5s 20ms/step - loss: 5.4273 - sex_out_loss: 0.2092 - age_out_loss: 4.2505 - sex_out_accuracy: 0.9082 - age_out_accuracy: 0.0435 - val_loss: 7.8061 - val_sex_out_loss: 0.2595 - val_age_out_loss: 6.5753 - val_sex_out_accuracy: 0.8848 - val_age_out_accuracy: 0.0513\n",
            "Epoch 61/300\n",
            "278/278 [==============================] - ETA: 0s - loss: 5.3881 - sex_out_loss: 0.2058 - age_out_loss: 4.2096 - sex_out_accuracy: 0.9092 - age_out_accuracy: 0.0430\n",
            "Epoch 61: val_loss did not improve from 6.77332\n",
            "278/278 [==============================] - 5s 17ms/step - loss: 5.3881 - sex_out_loss: 0.2058 - age_out_loss: 4.2096 - sex_out_accuracy: 0.9092 - age_out_accuracy: 0.0430 - val_loss: 7.9735 - val_sex_out_loss: 0.2615 - val_age_out_loss: 6.7368 - val_sex_out_accuracy: 0.8854 - val_age_out_accuracy: 0.0511\n",
            "Epoch 62/300\n",
            "276/278 [============================>.] - ETA: 0s - loss: 5.3424 - sex_out_loss: 0.2049 - age_out_loss: 4.1607 - sex_out_accuracy: 0.9090 - age_out_accuracy: 0.0431\n",
            "Epoch 62: val_loss did not improve from 6.77332\n",
            "278/278 [==============================] - 5s 18ms/step - loss: 5.3420 - sex_out_loss: 0.2049 - age_out_loss: 4.1603 - sex_out_accuracy: 0.9089 - age_out_accuracy: 0.0431 - val_loss: 7.1768 - val_sex_out_loss: 0.2530 - val_age_out_loss: 5.9462 - val_sex_out_accuracy: 0.8876 - val_age_out_accuracy: 0.0499\n",
            "Epoch 63/300\n",
            "277/278 [============================>.] - ETA: 0s - loss: 5.3477 - sex_out_loss: 0.2030 - age_out_loss: 4.1647 - sex_out_accuracy: 0.9114 - age_out_accuracy: 0.0436\n",
            "Epoch 63: val_loss did not improve from 6.77332\n",
            "278/278 [==============================] - 5s 16ms/step - loss: 5.3476 - sex_out_loss: 0.2031 - age_out_loss: 4.1645 - sex_out_accuracy: 0.9113 - age_out_accuracy: 0.0436 - val_loss: 7.3736 - val_sex_out_loss: 0.2532 - val_age_out_loss: 6.1395 - val_sex_out_accuracy: 0.8900 - val_age_out_accuracy: 0.0513\n",
            "Epoch 64/300\n",
            "277/278 [============================>.] - ETA: 0s - loss: 5.2958 - sex_out_loss: 0.2017 - age_out_loss: 4.1100 - sex_out_accuracy: 0.9125 - age_out_accuracy: 0.0432\n",
            "Epoch 64: val_loss did not improve from 6.77332\n",
            "278/278 [==============================] - 5s 16ms/step - loss: 5.2995 - sex_out_loss: 0.2017 - age_out_loss: 4.1137 - sex_out_accuracy: 0.9125 - age_out_accuracy: 0.0431 - val_loss: 7.2512 - val_sex_out_loss: 0.2590 - val_age_out_loss: 6.0086 - val_sex_out_accuracy: 0.8878 - val_age_out_accuracy: 0.0486\n",
            "Epoch 65/300\n",
            "278/278 [==============================] - ETA: 0s - loss: 5.3838 - sex_out_loss: 0.1983 - age_out_loss: 4.1995 - sex_out_accuracy: 0.9140 - age_out_accuracy: 0.0428\n",
            "Epoch 65: val_loss did not improve from 6.77332\n",
            "278/278 [==============================] - 5s 19ms/step - loss: 5.3838 - sex_out_loss: 0.1983 - age_out_loss: 4.1995 - sex_out_accuracy: 0.9140 - age_out_accuracy: 0.0428 - val_loss: 7.6024 - val_sex_out_loss: 0.2589 - val_age_out_loss: 6.3561 - val_sex_out_accuracy: 0.8890 - val_age_out_accuracy: 0.0508\n",
            "Epoch 66/300\n",
            "277/278 [============================>.] - ETA: 0s - loss: 5.4063 - sex_out_loss: 0.2049 - age_out_loss: 4.2134 - sex_out_accuracy: 0.9113 - age_out_accuracy: 0.0425\n",
            "Epoch 66: val_loss did not improve from 6.77332\n",
            "278/278 [==============================] - 5s 18ms/step - loss: 5.4030 - sex_out_loss: 0.2048 - age_out_loss: 4.2102 - sex_out_accuracy: 0.9112 - age_out_accuracy: 0.0427 - val_loss: 7.4922 - val_sex_out_loss: 0.2665 - val_age_out_loss: 6.2351 - val_sex_out_accuracy: 0.8907 - val_age_out_accuracy: 0.0511\n",
            "Epoch 67/300\n",
            "277/278 [============================>.] - ETA: 0s - loss: 5.3672 - sex_out_loss: 0.1976 - age_out_loss: 4.1765 - sex_out_accuracy: 0.9156 - age_out_accuracy: 0.0426\n",
            "Epoch 67: val_loss did not improve from 6.77332\n",
            "278/278 [==============================] - 5s 19ms/step - loss: 5.3674 - sex_out_loss: 0.1976 - age_out_loss: 4.1766 - sex_out_accuracy: 0.9156 - age_out_accuracy: 0.0425 - val_loss: 7.6513 - val_sex_out_loss: 0.2647 - val_age_out_loss: 6.3906 - val_sex_out_accuracy: 0.8888 - val_age_out_accuracy: 0.0503\n",
            "Epoch 68/300\n",
            "278/278 [==============================] - ETA: 0s - loss: 5.3214 - sex_out_loss: 0.2062 - age_out_loss: 4.1185 - sex_out_accuracy: 0.9073 - age_out_accuracy: 0.0422\n",
            "Epoch 68: val_loss did not improve from 6.77332\n",
            "278/278 [==============================] - 5s 18ms/step - loss: 5.3214 - sex_out_loss: 0.2062 - age_out_loss: 4.1185 - sex_out_accuracy: 0.9073 - age_out_accuracy: 0.0422 - val_loss: 7.2850 - val_sex_out_loss: 0.2562 - val_age_out_loss: 6.0301 - val_sex_out_accuracy: 0.8920 - val_age_out_accuracy: 0.0511\n",
            "Epoch 69/300\n",
            "275/278 [============================>.] - ETA: 0s - loss: 5.3032 - sex_out_loss: 0.2038 - age_out_loss: 4.0999 - sex_out_accuracy: 0.9114 - age_out_accuracy: 0.0420\n",
            "Epoch 69: val_loss did not improve from 6.77332\n",
            "278/278 [==============================] - 5s 17ms/step - loss: 5.3028 - sex_out_loss: 0.2032 - age_out_loss: 4.1000 - sex_out_accuracy: 0.9119 - age_out_accuracy: 0.0420 - val_loss: 7.5336 - val_sex_out_loss: 0.2630 - val_age_out_loss: 6.2691 - val_sex_out_accuracy: 0.8868 - val_age_out_accuracy: 0.0503\n",
            "Epoch 70/300\n",
            "275/278 [============================>.] - ETA: 0s - loss: 5.2877 - sex_out_loss: 0.1963 - age_out_loss: 4.0898 - sex_out_accuracy: 0.9149 - age_out_accuracy: 0.0424\n",
            "Epoch 70: val_loss did not improve from 6.77332\n",
            "278/278 [==============================] - 5s 19ms/step - loss: 5.2857 - sex_out_loss: 0.1967 - age_out_loss: 4.0873 - sex_out_accuracy: 0.9150 - age_out_accuracy: 0.0426 - val_loss: 7.2379 - val_sex_out_loss: 0.2661 - val_age_out_loss: 5.9692 - val_sex_out_accuracy: 0.8853 - val_age_out_accuracy: 0.0511\n",
            "Epoch 71/300\n",
            "275/278 [============================>.] - ETA: 0s - loss: 5.3181 - sex_out_loss: 0.2015 - age_out_loss: 4.1127 - sex_out_accuracy: 0.9107 - age_out_accuracy: 0.0425\n",
            "Epoch 71: val_loss did not improve from 6.77332\n",
            "278/278 [==============================] - 5s 18ms/step - loss: 5.3216 - sex_out_loss: 0.2007 - age_out_loss: 4.1170 - sex_out_accuracy: 0.9110 - age_out_accuracy: 0.0423 - val_loss: 7.1556 - val_sex_out_loss: 0.2508 - val_age_out_loss: 5.8992 - val_sex_out_accuracy: 0.8902 - val_age_out_accuracy: 0.0513\n",
            "Epoch 72/300\n",
            "278/278 [==============================] - ETA: 0s - loss: 5.3299 - sex_out_loss: 0.2024 - age_out_loss: 4.1195 - sex_out_accuracy: 0.9115 - age_out_accuracy: 0.0424\n",
            "Epoch 72: val_loss did not improve from 6.77332\n",
            "278/278 [==============================] - 5s 18ms/step - loss: 5.3299 - sex_out_loss: 0.2024 - age_out_loss: 4.1195 - sex_out_accuracy: 0.9115 - age_out_accuracy: 0.0424 - val_loss: 7.0543 - val_sex_out_loss: 0.2520 - val_age_out_loss: 5.7918 - val_sex_out_accuracy: 0.8903 - val_age_out_accuracy: 0.0501\n",
            "Epoch 73/300\n",
            "277/278 [============================>.] - ETA: 0s - loss: 5.2786 - sex_out_loss: 0.1982 - age_out_loss: 4.0673 - sex_out_accuracy: 0.9138 - age_out_accuracy: 0.0422\n",
            "Epoch 73: val_loss did not improve from 6.77332\n",
            "278/278 [==============================] - 4s 16ms/step - loss: 5.2804 - sex_out_loss: 0.1982 - age_out_loss: 4.0691 - sex_out_accuracy: 0.9138 - age_out_accuracy: 0.0421 - val_loss: 7.8294 - val_sex_out_loss: 0.2631 - val_age_out_loss: 6.5495 - val_sex_out_accuracy: 0.8873 - val_age_out_accuracy: 0.0511\n",
            "Epoch 74/300\n",
            "275/278 [============================>.] - ETA: 0s - loss: 5.2674 - sex_out_loss: 0.1977 - age_out_loss: 4.0523 - sex_out_accuracy: 0.9144 - age_out_accuracy: 0.0422\n",
            "Epoch 74: val_loss did not improve from 6.77332\n",
            "278/278 [==============================] - 5s 17ms/step - loss: 5.2673 - sex_out_loss: 0.1977 - age_out_loss: 4.0522 - sex_out_accuracy: 0.9144 - age_out_accuracy: 0.0425 - val_loss: 7.2193 - val_sex_out_loss: 0.2494 - val_age_out_loss: 5.9511 - val_sex_out_accuracy: 0.8910 - val_age_out_accuracy: 0.0513\n",
            "Epoch 75/300\n",
            "277/278 [============================>.] - ETA: 0s - loss: 5.2269 - sex_out_loss: 0.1961 - age_out_loss: 4.0097 - sex_out_accuracy: 0.9140 - age_out_accuracy: 0.0432\n",
            "Epoch 75: val_loss did not improve from 6.77332\n",
            "278/278 [==============================] - 5s 17ms/step - loss: 5.2281 - sex_out_loss: 0.1960 - age_out_loss: 4.0111 - sex_out_accuracy: 0.9140 - age_out_accuracy: 0.0431 - val_loss: 7.6952 - val_sex_out_loss: 0.2759 - val_age_out_loss: 6.3964 - val_sex_out_accuracy: 0.8784 - val_age_out_accuracy: 0.0511\n",
            "Epoch 76/300\n",
            "275/278 [============================>.] - ETA: 0s - loss: 5.2913 - sex_out_loss: 0.1981 - age_out_loss: 4.0703 - sex_out_accuracy: 0.9123 - age_out_accuracy: 0.0419\n",
            "Epoch 76: val_loss did not improve from 6.77332\n",
            "278/278 [==============================] - 5s 17ms/step - loss: 5.2935 - sex_out_loss: 0.1976 - age_out_loss: 4.0730 - sex_out_accuracy: 0.9127 - age_out_accuracy: 0.0417 - val_loss: 8.4206 - val_sex_out_loss: 0.2570 - val_age_out_loss: 7.1385 - val_sex_out_accuracy: 0.8898 - val_age_out_accuracy: 0.0511\n",
            "Epoch 77/300\n",
            "277/278 [============================>.] - ETA: 0s - loss: 5.2728 - sex_out_loss: 0.2023 - age_out_loss: 4.0443 - sex_out_accuracy: 0.9130 - age_out_accuracy: 0.0415\n",
            "Epoch 77: val_loss did not improve from 6.77332\n",
            "278/278 [==============================] - 5s 18ms/step - loss: 5.2725 - sex_out_loss: 0.2024 - age_out_loss: 4.0438 - sex_out_accuracy: 0.9129 - age_out_accuracy: 0.0417 - val_loss: 7.0734 - val_sex_out_loss: 0.2610 - val_age_out_loss: 5.7857 - val_sex_out_accuracy: 0.8870 - val_age_out_accuracy: 0.0508\n",
            "Epoch 78/300\n",
            "278/278 [==============================] - ETA: 0s - loss: 5.1956 - sex_out_loss: 0.1957 - age_out_loss: 3.9722 - sex_out_accuracy: 0.9159 - age_out_accuracy: 0.0420\n",
            "Epoch 78: val_loss did not improve from 6.77332\n",
            "278/278 [==============================] - 5s 17ms/step - loss: 5.1956 - sex_out_loss: 0.1957 - age_out_loss: 3.9722 - sex_out_accuracy: 0.9159 - age_out_accuracy: 0.0420 - val_loss: 7.6625 - val_sex_out_loss: 0.2522 - val_age_out_loss: 6.3826 - val_sex_out_accuracy: 0.8925 - val_age_out_accuracy: 0.0496\n",
            "Epoch 79/300\n",
            "277/278 [============================>.] - ETA: 0s - loss: 5.2591 - sex_out_loss: 0.1944 - age_out_loss: 4.0350 - sex_out_accuracy: 0.9141 - age_out_accuracy: 0.0407\n",
            "Epoch 79: val_loss did not improve from 6.77332\n",
            "278/278 [==============================] - 5s 16ms/step - loss: 5.2575 - sex_out_loss: 0.1944 - age_out_loss: 4.0334 - sex_out_accuracy: 0.9140 - age_out_accuracy: 0.0407 - val_loss: 7.2060 - val_sex_out_loss: 0.2529 - val_age_out_loss: 5.9210 - val_sex_out_accuracy: 0.8930 - val_age_out_accuracy: 0.0508\n",
            "Epoch 80/300\n",
            "278/278 [==============================] - ETA: 0s - loss: 5.2344 - sex_out_loss: 0.1928 - age_out_loss: 4.0065 - sex_out_accuracy: 0.9140 - age_out_accuracy: 0.0407\n",
            "Epoch 80: val_loss did not improve from 6.77332\n",
            "278/278 [==============================] - 5s 18ms/step - loss: 5.2344 - sex_out_loss: 0.1928 - age_out_loss: 4.0065 - sex_out_accuracy: 0.9140 - age_out_accuracy: 0.0407 - val_loss: 7.1719 - val_sex_out_loss: 0.2569 - val_age_out_loss: 5.8789 - val_sex_out_accuracy: 0.8888 - val_age_out_accuracy: 0.0511\n",
            "Epoch 81/300\n",
            "275/278 [============================>.] - ETA: 0s - loss: 5.1997 - sex_out_loss: 0.1952 - age_out_loss: 3.9682 - sex_out_accuracy: 0.9136 - age_out_accuracy: 0.0413\n",
            "Epoch 81: val_loss did not improve from 6.77332\n",
            "278/278 [==============================] - 5s 16ms/step - loss: 5.2055 - sex_out_loss: 0.1944 - age_out_loss: 3.9749 - sex_out_accuracy: 0.9140 - age_out_accuracy: 0.0412 - val_loss: 7.1689 - val_sex_out_loss: 0.2634 - val_age_out_loss: 5.8684 - val_sex_out_accuracy: 0.8822 - val_age_out_accuracy: 0.0494\n",
            "Epoch 82/300\n",
            "277/278 [============================>.] - ETA: 0s - loss: 5.1620 - sex_out_loss: 0.1959 - age_out_loss: 3.9281 - sex_out_accuracy: 0.9150 - age_out_accuracy: 0.0395\n",
            "Epoch 82: val_loss did not improve from 6.77332\n",
            "278/278 [==============================] - 5s 18ms/step - loss: 5.1641 - sex_out_loss: 0.1960 - age_out_loss: 3.9300 - sex_out_accuracy: 0.9149 - age_out_accuracy: 0.0395 - val_loss: 7.1957 - val_sex_out_loss: 0.2591 - val_age_out_loss: 5.8973 - val_sex_out_accuracy: 0.8866 - val_age_out_accuracy: 0.0506\n",
            "Epoch 83/300\n",
            "275/278 [============================>.] - ETA: 0s - loss: 5.1973 - sex_out_loss: 0.1923 - age_out_loss: 3.9639 - sex_out_accuracy: 0.9180 - age_out_accuracy: 0.0395\n",
            "Epoch 83: val_loss did not improve from 6.77332\n",
            "278/278 [==============================] - 5s 18ms/step - loss: 5.1937 - sex_out_loss: 0.1922 - age_out_loss: 3.9605 - sex_out_accuracy: 0.9181 - age_out_accuracy: 0.0395 - val_loss: 7.5130 - val_sex_out_loss: 0.2555 - val_age_out_loss: 6.2157 - val_sex_out_accuracy: 0.8861 - val_age_out_accuracy: 0.0508\n",
            "Epoch 84/300\n",
            "277/278 [============================>.] - ETA: 0s - loss: 5.1841 - sex_out_loss: 0.1913 - age_out_loss: 3.9508 - sex_out_accuracy: 0.9169 - age_out_accuracy: 0.0389\n",
            "Epoch 84: val_loss did not improve from 6.77332\n",
            "278/278 [==============================] - 5s 17ms/step - loss: 5.1823 - sex_out_loss: 0.1916 - age_out_loss: 3.9487 - sex_out_accuracy: 0.9168 - age_out_accuracy: 0.0390 - val_loss: 7.3814 - val_sex_out_loss: 0.2602 - val_age_out_loss: 6.0771 - val_sex_out_accuracy: 0.8875 - val_age_out_accuracy: 0.0508\n",
            "Epoch 85/300\n",
            "277/278 [============================>.] - ETA: 0s - loss: 5.2143 - sex_out_loss: 0.1871 - age_out_loss: 3.9828 - sex_out_accuracy: 0.9193 - age_out_accuracy: 0.0394\n",
            "Epoch 85: val_loss did not improve from 6.77332\n",
            "278/278 [==============================] - 5s 19ms/step - loss: 5.2130 - sex_out_loss: 0.1872 - age_out_loss: 3.9813 - sex_out_accuracy: 0.9193 - age_out_accuracy: 0.0394 - val_loss: 7.1308 - val_sex_out_loss: 0.2657 - val_age_out_loss: 5.8200 - val_sex_out_accuracy: 0.8839 - val_age_out_accuracy: 0.0510\n",
            "Epoch 86/300\n",
            "278/278 [==============================] - ETA: 0s - loss: 5.1419 - sex_out_loss: 0.1905 - age_out_loss: 3.9035 - sex_out_accuracy: 0.9161 - age_out_accuracy: 0.0384\n",
            "Epoch 86: val_loss did not improve from 6.77332\n",
            "278/278 [==============================] - 5s 16ms/step - loss: 5.1419 - sex_out_loss: 0.1905 - age_out_loss: 3.9035 - sex_out_accuracy: 0.9161 - age_out_accuracy: 0.0384 - val_loss: 7.3433 - val_sex_out_loss: 0.2534 - val_age_out_loss: 6.0402 - val_sex_out_accuracy: 0.8885 - val_age_out_accuracy: 0.0511\n",
            "Epoch 87/300\n",
            "277/278 [============================>.] - ETA: 0s - loss: 5.1995 - sex_out_loss: 0.1946 - age_out_loss: 3.9553 - sex_out_accuracy: 0.9149 - age_out_accuracy: 0.0401\n",
            "Epoch 87: val_loss did not improve from 6.77332\n",
            "278/278 [==============================] - 5s 18ms/step - loss: 5.2022 - sex_out_loss: 0.1946 - age_out_loss: 3.9581 - sex_out_accuracy: 0.9149 - age_out_accuracy: 0.0401 - val_loss: 7.2276 - val_sex_out_loss: 0.2617 - val_age_out_loss: 5.9159 - val_sex_out_accuracy: 0.8880 - val_age_out_accuracy: 0.0499\n",
            "Epoch 88/300\n",
            "278/278 [==============================] - ETA: 0s - loss: 5.1582 - sex_out_loss: 0.1907 - age_out_loss: 3.9151 - sex_out_accuracy: 0.9193 - age_out_accuracy: 0.0394\n",
            "Epoch 88: val_loss did not improve from 6.77332\n",
            "278/278 [==============================] - 5s 18ms/step - loss: 5.1582 - sex_out_loss: 0.1907 - age_out_loss: 3.9151 - sex_out_accuracy: 0.9193 - age_out_accuracy: 0.0394 - val_loss: 7.0203 - val_sex_out_loss: 0.2538 - val_age_out_loss: 5.7125 - val_sex_out_accuracy: 0.8868 - val_age_out_accuracy: 0.0506\n",
            "Epoch 89/300\n",
            "277/278 [============================>.] - ETA: 0s - loss: 5.1865 - sex_out_loss: 0.1891 - age_out_loss: 3.9440 - sex_out_accuracy: 0.9175 - age_out_accuracy: 0.0393\n",
            "Epoch 89: val_loss did not improve from 6.77332\n",
            "278/278 [==============================] - 5s 17ms/step - loss: 5.1841 - sex_out_loss: 0.1893 - age_out_loss: 3.9414 - sex_out_accuracy: 0.9176 - age_out_accuracy: 0.0393 - val_loss: 7.4719 - val_sex_out_loss: 0.2544 - val_age_out_loss: 6.1633 - val_sex_out_accuracy: 0.8910 - val_age_out_accuracy: 0.0513\n",
            "Epoch 90/300\n",
            "277/278 [============================>.] - ETA: 0s - loss: 5.1651 - sex_out_loss: 0.1897 - age_out_loss: 3.9196 - sex_out_accuracy: 0.9171 - age_out_accuracy: 0.0380\n",
            "Epoch 90: val_loss did not improve from 6.77332\n",
            "278/278 [==============================] - 5s 18ms/step - loss: 5.1644 - sex_out_loss: 0.1898 - age_out_loss: 3.9188 - sex_out_accuracy: 0.9171 - age_out_accuracy: 0.0380 - val_loss: 6.9686 - val_sex_out_loss: 0.2585 - val_age_out_loss: 5.6515 - val_sex_out_accuracy: 0.8902 - val_age_out_accuracy: 0.0510\n",
            "Epoch 91/300\n",
            "275/278 [============================>.] - ETA: 0s - loss: 5.1857 - sex_out_loss: 0.1948 - age_out_loss: 3.9306 - sex_out_accuracy: 0.9157 - age_out_accuracy: 0.0397\n",
            "Epoch 91: val_loss did not improve from 6.77332\n",
            "278/278 [==============================] - 5s 18ms/step - loss: 5.1856 - sex_out_loss: 0.1949 - age_out_loss: 3.9304 - sex_out_accuracy: 0.9155 - age_out_accuracy: 0.0396 - val_loss: 7.4458 - val_sex_out_loss: 0.2508 - val_age_out_loss: 6.1330 - val_sex_out_accuracy: 0.8897 - val_age_out_accuracy: 0.0513\n",
            "Epoch 92/300\n",
            "276/278 [============================>.] - ETA: 0s - loss: 5.1430 - sex_out_loss: 0.1892 - age_out_loss: 3.8934 - sex_out_accuracy: 0.9180 - age_out_accuracy: 0.0386\n",
            "Epoch 92: val_loss did not improve from 6.77332\n",
            "278/278 [==============================] - 5s 18ms/step - loss: 5.1405 - sex_out_loss: 0.1889 - age_out_loss: 3.8913 - sex_out_accuracy: 0.9182 - age_out_accuracy: 0.0387 - val_loss: 8.0458 - val_sex_out_loss: 0.2533 - val_age_out_loss: 6.7311 - val_sex_out_accuracy: 0.8922 - val_age_out_accuracy: 0.0506\n",
            "Epoch 93/300\n",
            "277/278 [============================>.] - ETA: 0s - loss: 5.0950 - sex_out_loss: 0.1919 - age_out_loss: 3.8408 - sex_out_accuracy: 0.9184 - age_out_accuracy: 0.0390\n",
            "Epoch 93: val_loss did not improve from 6.77332\n",
            "278/278 [==============================] - 5s 17ms/step - loss: 5.0935 - sex_out_loss: 0.1922 - age_out_loss: 3.8390 - sex_out_accuracy: 0.9181 - age_out_accuracy: 0.0391 - val_loss: 7.3896 - val_sex_out_loss: 0.2546 - val_age_out_loss: 6.0713 - val_sex_out_accuracy: 0.8892 - val_age_out_accuracy: 0.0506\n",
            "Epoch 94/300\n",
            "276/278 [============================>.] - ETA: 0s - loss: 5.1314 - sex_out_loss: 0.1864 - age_out_loss: 3.8811 - sex_out_accuracy: 0.9201 - age_out_accuracy: 0.0390\n",
            "Epoch 94: val_loss did not improve from 6.77332\n",
            "278/278 [==============================] - 5s 17ms/step - loss: 5.1306 - sex_out_loss: 0.1865 - age_out_loss: 3.8802 - sex_out_accuracy: 0.9200 - age_out_accuracy: 0.0391 - val_loss: 7.5667 - val_sex_out_loss: 0.2613 - val_age_out_loss: 6.2414 - val_sex_out_accuracy: 0.8856 - val_age_out_accuracy: 0.0508\n",
            "Epoch 95/300\n",
            "277/278 [============================>.] - ETA: 0s - loss: 5.1510 - sex_out_loss: 0.1871 - age_out_loss: 3.8986 - sex_out_accuracy: 0.9189 - age_out_accuracy: 0.0391\n",
            "Epoch 95: val_loss did not improve from 6.77332\n",
            "278/278 [==============================] - 5s 19ms/step - loss: 5.1513 - sex_out_loss: 0.1869 - age_out_loss: 3.8991 - sex_out_accuracy: 0.9191 - age_out_accuracy: 0.0390 - val_loss: 7.1798 - val_sex_out_loss: 0.2595 - val_age_out_loss: 5.8516 - val_sex_out_accuracy: 0.8920 - val_age_out_accuracy: 0.0508\n",
            "Epoch 96/300\n",
            "275/278 [============================>.] - ETA: 0s - loss: 5.1281 - sex_out_loss: 0.1936 - age_out_loss: 3.8650 - sex_out_accuracy: 0.9173 - age_out_accuracy: 0.0377\n",
            "Epoch 96: val_loss did not improve from 6.77332\n",
            "278/278 [==============================] - 5s 18ms/step - loss: 5.1312 - sex_out_loss: 0.1935 - age_out_loss: 3.8683 - sex_out_accuracy: 0.9174 - age_out_accuracy: 0.0376 - val_loss: 7.1064 - val_sex_out_loss: 0.2623 - val_age_out_loss: 5.7745 - val_sex_out_accuracy: 0.8822 - val_age_out_accuracy: 0.0510\n",
            "Epoch 97/300\n",
            "276/278 [============================>.] - ETA: 0s - loss: 5.1272 - sex_out_loss: 0.1910 - age_out_loss: 3.8669 - sex_out_accuracy: 0.9195 - age_out_accuracy: 0.0375\n",
            "Epoch 97: val_loss did not improve from 6.77332\n",
            "278/278 [==============================] - 5s 18ms/step - loss: 5.1271 - sex_out_loss: 0.1906 - age_out_loss: 3.8673 - sex_out_accuracy: 0.9196 - age_out_accuracy: 0.0376 - val_loss: 7.4729 - val_sex_out_loss: 0.2612 - val_age_out_loss: 6.1418 - val_sex_out_accuracy: 0.8883 - val_age_out_accuracy: 0.0508\n",
            "Epoch 98/300\n",
            "276/278 [============================>.] - ETA: 0s - loss: 5.0828 - sex_out_loss: 0.1863 - age_out_loss: 3.8253 - sex_out_accuracy: 0.9187 - age_out_accuracy: 0.0384\n",
            "Epoch 98: val_loss did not improve from 6.77332\n",
            "278/278 [==============================] - 5s 17ms/step - loss: 5.0848 - sex_out_loss: 0.1860 - age_out_loss: 3.8276 - sex_out_accuracy: 0.9188 - age_out_accuracy: 0.0385 - val_loss: 7.2139 - val_sex_out_loss: 0.2566 - val_age_out_loss: 5.8852 - val_sex_out_accuracy: 0.8888 - val_age_out_accuracy: 0.0511\n",
            "Epoch 99/300\n",
            "275/278 [============================>.] - ETA: 0s - loss: 5.1114 - sex_out_loss: 0.1909 - age_out_loss: 3.8471 - sex_out_accuracy: 0.9165 - age_out_accuracy: 0.0387\n",
            "Epoch 99: val_loss did not improve from 6.77332\n",
            "278/278 [==============================] - 5s 16ms/step - loss: 5.1142 - sex_out_loss: 0.1903 - age_out_loss: 3.8506 - sex_out_accuracy: 0.9168 - age_out_accuracy: 0.0386 - val_loss: 7.2641 - val_sex_out_loss: 0.2523 - val_age_out_loss: 5.9375 - val_sex_out_accuracy: 0.8888 - val_age_out_accuracy: 0.0510\n",
            "Epoch 100/300\n",
            "275/278 [============================>.] - ETA: 0s - loss: 5.1366 - sex_out_loss: 0.1856 - age_out_loss: 3.8750 - sex_out_accuracy: 0.9191 - age_out_accuracy: 0.0376\n",
            "Epoch 100: val_loss did not improve from 6.77332\n",
            "278/278 [==============================] - 5s 19ms/step - loss: 5.1347 - sex_out_loss: 0.1855 - age_out_loss: 3.8732 - sex_out_accuracy: 0.9194 - age_out_accuracy: 0.0376 - val_loss: 7.4970 - val_sex_out_loss: 0.2627 - val_age_out_loss: 6.1572 - val_sex_out_accuracy: 0.8890 - val_age_out_accuracy: 0.0504\n",
            "Epoch 101/300\n",
            "278/278 [==============================] - ETA: 0s - loss: 5.1220 - sex_out_loss: 0.1864 - age_out_loss: 3.8578 - sex_out_accuracy: 0.9183 - age_out_accuracy: 0.0369\n",
            "Epoch 101: val_loss did not improve from 6.77332\n",
            "278/278 [==============================] - 5s 17ms/step - loss: 5.1220 - sex_out_loss: 0.1864 - age_out_loss: 3.8578 - sex_out_accuracy: 0.9183 - age_out_accuracy: 0.0369 - val_loss: 7.6603 - val_sex_out_loss: 0.2615 - val_age_out_loss: 6.3223 - val_sex_out_accuracy: 0.8841 - val_age_out_accuracy: 0.0493\n",
            "Epoch 102/300\n",
            "278/278 [==============================] - ETA: 0s - loss: 5.0745 - sex_out_loss: 0.1814 - age_out_loss: 3.8158 - sex_out_accuracy: 0.9218 - age_out_accuracy: 0.0372\n",
            "Epoch 102: val_loss did not improve from 6.77332\n",
            "278/278 [==============================] - 5s 17ms/step - loss: 5.0745 - sex_out_loss: 0.1814 - age_out_loss: 3.8158 - sex_out_accuracy: 0.9218 - age_out_accuracy: 0.0372 - val_loss: 7.0683 - val_sex_out_loss: 0.2648 - val_age_out_loss: 5.7246 - val_sex_out_accuracy: 0.8866 - val_age_out_accuracy: 0.0484\n",
            "Epoch 103/300\n",
            "277/278 [============================>.] - ETA: 0s - loss: 5.0757 - sex_out_loss: 0.1819 - age_out_loss: 3.8158 - sex_out_accuracy: 0.9206 - age_out_accuracy: 0.0373\n",
            "Epoch 103: val_loss did not improve from 6.77332\n",
            "278/278 [==============================] - 5s 18ms/step - loss: 5.0739 - sex_out_loss: 0.1817 - age_out_loss: 3.8142 - sex_out_accuracy: 0.9208 - age_out_accuracy: 0.0373 - val_loss: 7.3884 - val_sex_out_loss: 0.2750 - val_age_out_loss: 6.0341 - val_sex_out_accuracy: 0.8866 - val_age_out_accuracy: 0.0498\n",
            "Epoch 104/300\n",
            "278/278 [==============================] - ETA: 0s - loss: 5.0516 - sex_out_loss: 0.1858 - age_out_loss: 3.7857 - sex_out_accuracy: 0.9169 - age_out_accuracy: 0.0373\n",
            "Epoch 104: val_loss did not improve from 6.77332\n",
            "278/278 [==============================] - 5s 17ms/step - loss: 5.0516 - sex_out_loss: 0.1858 - age_out_loss: 3.7857 - sex_out_accuracy: 0.9169 - age_out_accuracy: 0.0373 - val_loss: 7.3447 - val_sex_out_loss: 0.2699 - val_age_out_loss: 5.9935 - val_sex_out_accuracy: 0.8838 - val_age_out_accuracy: 0.0486\n",
            "Epoch 105/300\n",
            "275/278 [============================>.] - ETA: 0s - loss: 5.0879 - sex_out_loss: 0.1900 - age_out_loss: 3.8166 - sex_out_accuracy: 0.9165 - age_out_accuracy: 0.0355\n",
            "Epoch 105: val_loss did not improve from 6.77332\n",
            "278/278 [==============================] - 5s 20ms/step - loss: 5.0880 - sex_out_loss: 0.1893 - age_out_loss: 3.8174 - sex_out_accuracy: 0.9168 - age_out_accuracy: 0.0353 - val_loss: 7.1235 - val_sex_out_loss: 0.2690 - val_age_out_loss: 5.7724 - val_sex_out_accuracy: 0.8841 - val_age_out_accuracy: 0.0504\n",
            "Epoch 106/300\n",
            "278/278 [==============================] - ETA: 0s - loss: 4.9732 - sex_out_loss: 0.1829 - age_out_loss: 3.7097 - sex_out_accuracy: 0.9204 - age_out_accuracy: 0.0364\n",
            "Epoch 106: val_loss did not improve from 6.77332\n",
            "278/278 [==============================] - 5s 17ms/step - loss: 4.9732 - sex_out_loss: 0.1829 - age_out_loss: 3.7097 - sex_out_accuracy: 0.9204 - age_out_accuracy: 0.0364 - val_loss: 7.1765 - val_sex_out_loss: 0.2694 - val_age_out_loss: 5.8295 - val_sex_out_accuracy: 0.8873 - val_age_out_accuracy: 0.0510\n",
            "Epoch 107/300\n",
            "276/278 [============================>.] - ETA: 0s - loss: 5.0347 - sex_out_loss: 0.1833 - age_out_loss: 3.7728 - sex_out_accuracy: 0.9220 - age_out_accuracy: 0.0369\n",
            "Epoch 107: val_loss did not improve from 6.77332\n",
            "278/278 [==============================] - 5s 18ms/step - loss: 5.0354 - sex_out_loss: 0.1831 - age_out_loss: 3.7737 - sex_out_accuracy: 0.9221 - age_out_accuracy: 0.0370 - val_loss: 7.2961 - val_sex_out_loss: 0.2580 - val_age_out_loss: 5.9570 - val_sex_out_accuracy: 0.8927 - val_age_out_accuracy: 0.0511\n",
            "Epoch 108/300\n",
            "275/278 [============================>.] - ETA: 0s - loss: 5.0672 - sex_out_loss: 0.1822 - age_out_loss: 3.8034 - sex_out_accuracy: 0.9214 - age_out_accuracy: 0.0345\n",
            "Epoch 108: val_loss did not improve from 6.77332\n",
            "278/278 [==============================] - 5s 17ms/step - loss: 5.0669 - sex_out_loss: 0.1829 - age_out_loss: 3.8023 - sex_out_accuracy: 0.9210 - age_out_accuracy: 0.0344 - val_loss: 7.1946 - val_sex_out_loss: 0.2649 - val_age_out_loss: 5.8474 - val_sex_out_accuracy: 0.8895 - val_age_out_accuracy: 0.0489\n",
            "Epoch 109/300\n",
            "276/278 [============================>.] - ETA: 0s - loss: 5.1006 - sex_out_loss: 0.1853 - age_out_loss: 3.8292 - sex_out_accuracy: 0.9201 - age_out_accuracy: 0.0339\n",
            "Epoch 109: val_loss did not improve from 6.77332\n",
            "278/278 [==============================] - 5s 18ms/step - loss: 5.1020 - sex_out_loss: 0.1854 - age_out_loss: 3.8306 - sex_out_accuracy: 0.9200 - age_out_accuracy: 0.0339 - val_loss: 7.1289 - val_sex_out_loss: 0.2674 - val_age_out_loss: 5.7727 - val_sex_out_accuracy: 0.8878 - val_age_out_accuracy: 0.0515\n",
            "Epoch 110/300\n",
            "275/278 [============================>.] - ETA: 0s - loss: 5.1158 - sex_out_loss: 0.1841 - age_out_loss: 3.8436 - sex_out_accuracy: 0.9192 - age_out_accuracy: 0.0355\n",
            "Epoch 110: val_loss did not improve from 6.77332\n",
            "278/278 [==============================] - 5s 19ms/step - loss: 5.1141 - sex_out_loss: 0.1836 - age_out_loss: 3.8424 - sex_out_accuracy: 0.9194 - age_out_accuracy: 0.0355 - val_loss: 7.4881 - val_sex_out_loss: 0.2589 - val_age_out_loss: 6.1407 - val_sex_out_accuracy: 0.8915 - val_age_out_accuracy: 0.0511\n",
            "Epoch 111/300\n",
            "278/278 [==============================] - ETA: 0s - loss: 5.0180 - sex_out_loss: 0.1756 - age_out_loss: 3.7534 - sex_out_accuracy: 0.9246 - age_out_accuracy: 0.0354\n",
            "Epoch 111: val_loss did not improve from 6.77332\n",
            "278/278 [==============================] - 5s 18ms/step - loss: 5.0180 - sex_out_loss: 0.1756 - age_out_loss: 3.7534 - sex_out_accuracy: 0.9246 - age_out_accuracy: 0.0354 - val_loss: 7.2783 - val_sex_out_loss: 0.2590 - val_age_out_loss: 5.9297 - val_sex_out_accuracy: 0.8878 - val_age_out_accuracy: 0.0515\n",
            "Epoch 112/300\n",
            "276/278 [============================>.] - ETA: 0s - loss: 5.0044 - sex_out_loss: 0.1819 - age_out_loss: 3.7312 - sex_out_accuracy: 0.9211 - age_out_accuracy: 0.0353\n",
            "Epoch 112: val_loss did not improve from 6.77332\n",
            "278/278 [==============================] - 5s 19ms/step - loss: 5.0043 - sex_out_loss: 0.1824 - age_out_loss: 3.7306 - sex_out_accuracy: 0.9209 - age_out_accuracy: 0.0353 - val_loss: 7.1008 - val_sex_out_loss: 0.2581 - val_age_out_loss: 5.7513 - val_sex_out_accuracy: 0.8929 - val_age_out_accuracy: 0.0513\n",
            "Epoch 113/300\n",
            "277/278 [============================>.] - ETA: 0s - loss: 4.9952 - sex_out_loss: 0.1812 - age_out_loss: 3.7233 - sex_out_accuracy: 0.9223 - age_out_accuracy: 0.0342\n",
            "Epoch 113: val_loss did not improve from 6.77332\n",
            "278/278 [==============================] - 5s 18ms/step - loss: 4.9943 - sex_out_loss: 0.1811 - age_out_loss: 3.7226 - sex_out_accuracy: 0.9223 - age_out_accuracy: 0.0342 - val_loss: 7.3782 - val_sex_out_loss: 0.2645 - val_age_out_loss: 6.0256 - val_sex_out_accuracy: 0.8892 - val_age_out_accuracy: 0.0508\n",
            "Epoch 114/300\n",
            "275/278 [============================>.] - ETA: 0s - loss: 5.0316 - sex_out_loss: 0.1859 - age_out_loss: 3.7542 - sex_out_accuracy: 0.9191 - age_out_accuracy: 0.0354\n",
            "Epoch 114: val_loss did not improve from 6.77332\n",
            "278/278 [==============================] - 5s 17ms/step - loss: 5.0305 - sex_out_loss: 0.1859 - age_out_loss: 3.7530 - sex_out_accuracy: 0.9193 - age_out_accuracy: 0.0354 - val_loss: 7.5217 - val_sex_out_loss: 0.2616 - val_age_out_loss: 6.1656 - val_sex_out_accuracy: 0.8878 - val_age_out_accuracy: 0.0511\n",
            "Epoch 115/300\n",
            "277/278 [============================>.] - ETA: 0s - loss: 5.0464 - sex_out_loss: 0.1829 - age_out_loss: 3.7681 - sex_out_accuracy: 0.9209 - age_out_accuracy: 0.0341\n",
            "Epoch 115: val_loss did not improve from 6.77332\n",
            "278/278 [==============================] - 5s 20ms/step - loss: 5.0437 - sex_out_loss: 0.1828 - age_out_loss: 3.7655 - sex_out_accuracy: 0.9209 - age_out_accuracy: 0.0341 - val_loss: 7.1485 - val_sex_out_loss: 0.2567 - val_age_out_loss: 5.7965 - val_sex_out_accuracy: 0.8875 - val_age_out_accuracy: 0.0474\n",
            "Epoch 116/300\n",
            "277/278 [============================>.] - ETA: 0s - loss: 5.0651 - sex_out_loss: 0.1810 - age_out_loss: 3.7878 - sex_out_accuracy: 0.9214 - age_out_accuracy: 0.0344\n",
            "Epoch 116: val_loss did not improve from 6.77332\n",
            "278/278 [==============================] - 5s 18ms/step - loss: 5.0687 - sex_out_loss: 0.1820 - age_out_loss: 3.7905 - sex_out_accuracy: 0.9212 - age_out_accuracy: 0.0345 - val_loss: 7.3249 - val_sex_out_loss: 0.2628 - val_age_out_loss: 5.9653 - val_sex_out_accuracy: 0.8944 - val_age_out_accuracy: 0.0477\n",
            "Epoch 117/300\n",
            "276/278 [============================>.] - ETA: 0s - loss: 5.0225 - sex_out_loss: 0.1771 - age_out_loss: 3.7489 - sex_out_accuracy: 0.9242 - age_out_accuracy: 0.0344\n",
            "Epoch 117: val_loss did not improve from 6.77332\n",
            "278/278 [==============================] - 5s 19ms/step - loss: 5.0218 - sex_out_loss: 0.1772 - age_out_loss: 3.7481 - sex_out_accuracy: 0.9242 - age_out_accuracy: 0.0343 - val_loss: 7.3445 - val_sex_out_loss: 0.2589 - val_age_out_loss: 5.9885 - val_sex_out_accuracy: 0.8910 - val_age_out_accuracy: 0.0499\n",
            "Epoch 118/300\n",
            "278/278 [==============================] - ETA: 0s - loss: 5.0297 - sex_out_loss: 0.1791 - age_out_loss: 3.7543 - sex_out_accuracy: 0.9226 - age_out_accuracy: 0.0335\n",
            "Epoch 118: val_loss did not improve from 6.77332\n",
            "278/278 [==============================] - 5s 18ms/step - loss: 5.0297 - sex_out_loss: 0.1791 - age_out_loss: 3.7543 - sex_out_accuracy: 0.9226 - age_out_accuracy: 0.0335 - val_loss: 7.5311 - val_sex_out_loss: 0.2595 - val_age_out_loss: 6.1764 - val_sex_out_accuracy: 0.8919 - val_age_out_accuracy: 0.0504\n",
            "Epoch 119/300\n",
            "275/278 [============================>.] - ETA: 0s - loss: 4.9695 - sex_out_loss: 0.1804 - age_out_loss: 3.6924 - sex_out_accuracy: 0.9228 - age_out_accuracy: 0.0349\n",
            "Epoch 119: val_loss did not improve from 6.77332\n",
            "278/278 [==============================] - 5s 18ms/step - loss: 4.9752 - sex_out_loss: 0.1809 - age_out_loss: 3.6977 - sex_out_accuracy: 0.9227 - age_out_accuracy: 0.0347 - val_loss: 7.2103 - val_sex_out_loss: 0.2634 - val_age_out_loss: 5.8487 - val_sex_out_accuracy: 0.8875 - val_age_out_accuracy: 0.0511\n",
            "Epoch 120/300\n",
            "277/278 [============================>.] - ETA: 0s - loss: 5.0073 - sex_out_loss: 0.1819 - age_out_loss: 3.7270 - sex_out_accuracy: 0.9233 - age_out_accuracy: 0.0351\n",
            "Epoch 120: val_loss did not improve from 6.77332\n",
            "278/278 [==============================] - 5s 20ms/step - loss: 5.0088 - sex_out_loss: 0.1817 - age_out_loss: 3.7288 - sex_out_accuracy: 0.9234 - age_out_accuracy: 0.0351 - val_loss: 7.1885 - val_sex_out_loss: 0.2568 - val_age_out_loss: 5.8329 - val_sex_out_accuracy: 0.8871 - val_age_out_accuracy: 0.0499\n",
            "Epoch 121/300\n",
            "276/278 [============================>.] - ETA: 0s - loss: 5.0012 - sex_out_loss: 0.1863 - age_out_loss: 3.7148 - sex_out_accuracy: 0.9218 - age_out_accuracy: 0.0337\n",
            "Epoch 121: val_loss did not improve from 6.77332\n",
            "278/278 [==============================] - 5s 17ms/step - loss: 4.9975 - sex_out_loss: 0.1868 - age_out_loss: 3.7106 - sex_out_accuracy: 0.9214 - age_out_accuracy: 0.0338 - val_loss: 7.6120 - val_sex_out_loss: 0.2533 - val_age_out_loss: 6.2564 - val_sex_out_accuracy: 0.8932 - val_age_out_accuracy: 0.0501\n",
            "Epoch 122/300\n",
            "278/278 [==============================] - ETA: 0s - loss: 5.0363 - sex_out_loss: 0.1797 - age_out_loss: 3.7518 - sex_out_accuracy: 0.9215 - age_out_accuracy: 0.0335\n",
            "Epoch 122: val_loss did not improve from 6.77332\n",
            "278/278 [==============================] - 5s 18ms/step - loss: 5.0363 - sex_out_loss: 0.1797 - age_out_loss: 3.7518 - sex_out_accuracy: 0.9215 - age_out_accuracy: 0.0335 - val_loss: 7.1157 - val_sex_out_loss: 0.2591 - val_age_out_loss: 5.7505 - val_sex_out_accuracy: 0.8883 - val_age_out_accuracy: 0.0494\n",
            "Epoch 123/300\n",
            "277/278 [============================>.] - ETA: 0s - loss: 4.9790 - sex_out_loss: 0.1806 - age_out_loss: 3.6927 - sex_out_accuracy: 0.9218 - age_out_accuracy: 0.0317\n",
            "Epoch 123: val_loss did not improve from 6.77332\n",
            "278/278 [==============================] - 5s 17ms/step - loss: 4.9795 - sex_out_loss: 0.1806 - age_out_loss: 3.6932 - sex_out_accuracy: 0.9218 - age_out_accuracy: 0.0318 - val_loss: 7.0027 - val_sex_out_loss: 0.2893 - val_age_out_loss: 5.6072 - val_sex_out_accuracy: 0.8821 - val_age_out_accuracy: 0.0503\n",
            "Epoch 124/300\n",
            "278/278 [==============================] - ETA: 0s - loss: 4.9586 - sex_out_loss: 0.1739 - age_out_loss: 3.6779 - sex_out_accuracy: 0.9232 - age_out_accuracy: 0.0338\n",
            "Epoch 124: val_loss did not improve from 6.77332\n",
            "278/278 [==============================] - 5s 18ms/step - loss: 4.9586 - sex_out_loss: 0.1739 - age_out_loss: 3.6779 - sex_out_accuracy: 0.9232 - age_out_accuracy: 0.0338 - val_loss: 7.9219 - val_sex_out_loss: 0.2562 - val_age_out_loss: 6.5594 - val_sex_out_accuracy: 0.8920 - val_age_out_accuracy: 0.0503\n",
            "Epoch 125/300\n",
            "277/278 [============================>.] - ETA: 0s - loss: 4.9984 - sex_out_loss: 0.1801 - age_out_loss: 3.7120 - sex_out_accuracy: 0.9222 - age_out_accuracy: 0.0336\n",
            "Epoch 125: val_loss did not improve from 6.77332\n",
            "278/278 [==============================] - 5s 19ms/step - loss: 5.0002 - sex_out_loss: 0.1801 - age_out_loss: 3.7137 - sex_out_accuracy: 0.9221 - age_out_accuracy: 0.0336 - val_loss: 7.0150 - val_sex_out_loss: 0.2537 - val_age_out_loss: 5.6547 - val_sex_out_accuracy: 0.8927 - val_age_out_accuracy: 0.0496\n",
            "Epoch 126/300\n",
            "278/278 [==============================] - ETA: 0s - loss: 4.9535 - sex_out_loss: 0.1767 - age_out_loss: 3.6697 - sex_out_accuracy: 0.9247 - age_out_accuracy: 0.0328\n",
            "Epoch 126: val_loss did not improve from 6.77332\n",
            "278/278 [==============================] - 5s 18ms/step - loss: 4.9535 - sex_out_loss: 0.1767 - age_out_loss: 3.6697 - sex_out_accuracy: 0.9247 - age_out_accuracy: 0.0328 - val_loss: 7.0642 - val_sex_out_loss: 0.2855 - val_age_out_loss: 5.6704 - val_sex_out_accuracy: 0.8811 - val_age_out_accuracy: 0.0452\n",
            "Epoch 127/300\n",
            "276/278 [============================>.] - ETA: 0s - loss: 4.9305 - sex_out_loss: 0.1788 - age_out_loss: 3.6428 - sex_out_accuracy: 0.9246 - age_out_accuracy: 0.0344\n",
            "Epoch 127: val_loss did not improve from 6.77332\n",
            "278/278 [==============================] - 5s 18ms/step - loss: 4.9366 - sex_out_loss: 0.1788 - age_out_loss: 3.6490 - sex_out_accuracy: 0.9247 - age_out_accuracy: 0.0345 - val_loss: 7.4781 - val_sex_out_loss: 0.2572 - val_age_out_loss: 6.1113 - val_sex_out_accuracy: 0.8897 - val_age_out_accuracy: 0.0498\n",
            "Epoch 128/300\n",
            "278/278 [==============================] - ETA: 0s - loss: 4.9603 - sex_out_loss: 0.1757 - age_out_loss: 3.6747 - sex_out_accuracy: 0.9231 - age_out_accuracy: 0.0317\n",
            "Epoch 128: val_loss did not improve from 6.77332\n",
            "278/278 [==============================] - 5s 17ms/step - loss: 4.9603 - sex_out_loss: 0.1757 - age_out_loss: 3.6747 - sex_out_accuracy: 0.9231 - age_out_accuracy: 0.0317 - val_loss: 7.2533 - val_sex_out_loss: 0.2552 - val_age_out_loss: 5.8847 - val_sex_out_accuracy: 0.8925 - val_age_out_accuracy: 0.0504\n",
            "Epoch 129/300\n",
            "276/278 [============================>.] - ETA: 0s - loss: 4.9733 - sex_out_loss: 0.1781 - age_out_loss: 3.6820 - sex_out_accuracy: 0.9221 - age_out_accuracy: 0.0333\n",
            "Epoch 129: val_loss did not improve from 6.77332\n",
            "278/278 [==============================] - 5s 18ms/step - loss: 4.9698 - sex_out_loss: 0.1781 - age_out_loss: 3.6784 - sex_out_accuracy: 0.9221 - age_out_accuracy: 0.0334 - val_loss: 7.2549 - val_sex_out_loss: 0.2679 - val_age_out_loss: 5.8736 - val_sex_out_accuracy: 0.8892 - val_age_out_accuracy: 0.0503\n",
            "Epoch 130/300\n",
            "277/278 [============================>.] - ETA: 0s - loss: 4.9523 - sex_out_loss: 0.1770 - age_out_loss: 3.6610 - sex_out_accuracy: 0.9241 - age_out_accuracy: 0.0323\n",
            "Epoch 130: val_loss did not improve from 6.77332\n",
            "278/278 [==============================] - 5s 18ms/step - loss: 4.9534 - sex_out_loss: 0.1772 - age_out_loss: 3.6620 - sex_out_accuracy: 0.9241 - age_out_accuracy: 0.0325 - val_loss: 7.5921 - val_sex_out_loss: 0.2643 - val_age_out_loss: 6.2128 - val_sex_out_accuracy: 0.8937 - val_age_out_accuracy: 0.0504\n",
            "Epoch 131/300\n",
            "278/278 [==============================] - ETA: 0s - loss: 4.9010 - sex_out_loss: 0.1772 - age_out_loss: 3.6097 - sex_out_accuracy: 0.9240 - age_out_accuracy: 0.0320\n",
            "Epoch 131: val_loss did not improve from 6.77332\n",
            "278/278 [==============================] - 5s 17ms/step - loss: 4.9010 - sex_out_loss: 0.1772 - age_out_loss: 3.6097 - sex_out_accuracy: 0.9240 - age_out_accuracy: 0.0320 - val_loss: 7.2137 - val_sex_out_loss: 0.2559 - val_age_out_loss: 5.8443 - val_sex_out_accuracy: 0.8922 - val_age_out_accuracy: 0.0508\n",
            "Epoch 132/300\n",
            "277/278 [============================>.] - ETA: 0s - loss: 4.9506 - sex_out_loss: 0.1742 - age_out_loss: 3.6625 - sex_out_accuracy: 0.9262 - age_out_accuracy: 0.0318\n",
            "Epoch 132: val_loss did not improve from 6.77332\n",
            "278/278 [==============================] - 6s 20ms/step - loss: 4.9508 - sex_out_loss: 0.1747 - age_out_loss: 3.6622 - sex_out_accuracy: 0.9261 - age_out_accuracy: 0.0318 - val_loss: 7.6148 - val_sex_out_loss: 0.2621 - val_age_out_loss: 6.2358 - val_sex_out_accuracy: 0.8927 - val_age_out_accuracy: 0.0511\n"
          ]
        }
      ]
    },
    {
      "cell_type": "markdown",
      "source": [
        "## **Evaluate the model**"
      ],
      "metadata": {
        "id": "DLV_znE_SxbJ"
      }
    },
    {
      "cell_type": "code",
      "source": [
        "model.evaluate(X_test,Y_test_2)"
      ],
      "metadata": {
        "id": "D6YiskG-le8I",
        "colab": {
          "base_uri": "https://localhost:8080/"
        },
        "outputId": "957b644c-b759-4e5b-fc1e-ef4ce5d1f26d"
      },
      "execution_count": null,
      "outputs": [
        {
          "output_type": "stream",
          "name": "stdout",
          "text": [
            "186/186 [==============================] - 1s 5ms/step - loss: 6.7733 - sex_out_loss: 0.2494 - age_out_loss: 5.5707 - sex_out_accuracy: 0.8935 - age_out_accuracy: 0.0510\n"
          ]
        },
        {
          "output_type": "execute_result",
          "data": {
            "text/plain": [
              "[6.773324012756348,\n",
              " 0.24944204092025757,\n",
              " 5.570687294006348,\n",
              " 0.8935380578041077,\n",
              " 0.05095326527953148]"
            ]
          },
          "metadata": {},
          "execution_count": 87
        }
      ]
    },
    {
      "cell_type": "markdown",
      "source": [
        "## Predict using the Created model"
      ],
      "metadata": {
        "id": "k_KDhhzKS6B4"
      }
    },
    {
      "cell_type": "code",
      "source": [
        "pred = model.predict(X_test)"
      ],
      "metadata": {
        "id": "PeTR3GMgle_o",
        "colab": {
          "base_uri": "https://localhost:8080/"
        },
        "outputId": "31f1e341-94a0-4378-a702-a6b9d775f99c"
      },
      "execution_count": null,
      "outputs": [
        {
          "output_type": "stream",
          "name": "stdout",
          "text": [
            "186/186 [==============================] - 1s 3ms/step\n"
          ]
        }
      ]
    },
    {
      "cell_type": "code",
      "source": [
        "pred[1]"
      ],
      "metadata": {
        "id": "ly8auaqPlfDt",
        "colab": {
          "base_uri": "https://localhost:8080/"
        },
        "outputId": "e2502ab5-6812-4b0a-fbd2-3db60ccf8fb7"
      },
      "execution_count": null,
      "outputs": [
        {
          "output_type": "execute_result",
          "data": {
            "text/plain": [
              "array([[51.83792 ],\n",
              "       [54.134148],\n",
              "       [55.9806  ],\n",
              "       ...,\n",
              "       [28.267897],\n",
              "       [50.915955],\n",
              "       [20.35792 ]], dtype=float32)"
            ]
          },
          "metadata": {},
          "execution_count": 89
        }
      ]
    },
    {
      "cell_type": "markdown",
      "source": [
        "## **Plotting the Result**"
      ],
      "metadata": {
        "id": "wqJsCT2FTOhn"
      }
    },
    {
      "cell_type": "code",
      "source": [
        "plt.plot(History.history['loss'])\n",
        "plt.plot(History.history['val_loss'])\n",
        "plt.title('Model Loss')\n",
        "plt.xlabel=('Epoch')\n",
        "plt.ylabel=('Loss')\n",
        "plt.legend(['Train\", \"Validation'], loc='upper left')\n",
        "plt.subplots_adjust(top=1.0,bottom=0.0,right=0.95,left=0,hspace=0.25,wspace=0.35)"
      ],
      "metadata": {
        "id": "q9o1LLPudwfp",
        "colab": {
          "base_uri": "https://localhost:8080/",
          "height": 563
        },
        "outputId": "ff2302d1-61db-41a4-a1c7-87691c71decd"
      },
      "execution_count": null,
      "outputs": [
        {
          "output_type": "display_data",
          "data": {
            "text/plain": [
              "<Figure size 640x480 with 1 Axes>"
            ],
            "image/png": "[encoded data removed]"
          },
          "metadata": {}
        }
      ]
    },
    {
      "cell_type": "code",
      "source": [
        "plt.plot(History.history['sex_out_accuracy'])\n",
        "plt.plot(History.history['val_sex_out_accuracy'])\n",
        "plt.title('Model Loss')\n",
        "plt.xlabel=('Epoch')\n",
        "plt.ylabel=('Loss')\n",
        "plt.legend(['Train\", \"Validation'], loc='upper left')\n",
        "plt.subplots_adjust(top=1.0,bottom=0.0,right=0.95,left=0,hspace=0.25,wspace=0.35)"
      ],
      "metadata": {
        "id": "45xTvtQAZVIR",
        "colab": {
          "base_uri": "https://localhost:8080/",
          "height": 563
        },
        "outputId": "50002539-c154-4618-8b16-fb7a4d2710dc"
      },
      "execution_count": null,
      "outputs": [
        {
          "output_type": "display_data",
          "data": {
            "text/plain": [
              "<Figure size 640x480 with 1 Axes>"
            ],
            "image/png": "[encoded data removed]"
          },
          "metadata": {}
        }
      ]
    },
    {
      "cell_type": "code",
      "source": [
        "fig,ax=plt.subplots()\n",
        "ax.scatter(Y_test_2[1],pred[1])\n",
        "ax.plot([Y_test_2[1].min(),Y_test_2[1].max()], [Y_test_2[1].min(),Y_test_2[1].max()], 'k--',lw=4)\n",
        "ax.set_xlabel('Actual Age')\n",
        "ax.set_ylabel('Predicted Age')\n",
        "plt.show()"
      ],
      "metadata": {
        "colab": {
          "base_uri": "https://localhost:8080/",
          "height": 450
        },
        "id": "eNqWAazGQ7Zf",
        "outputId": "4dc75583-ce17-449c-d9c2-56efcce2acaa"
      },
      "execution_count": null,
      "outputs": [
        {
          "output_type": "display_data",
          "data": {
            "text/plain": [
              "<Figure size 640x480 with 1 Axes>"
            ],
            "image/png": "[encoded data removed]"
          },
          "metadata": {}
        }
      ]
    },
    {
      "cell_type": "code",
      "source": [
        "i=0\n",
        "Pred_l=[]\n",
        "while(i<len(pred[0])):\n",
        "  Pred_l.append(int(np.round(pred[0][i])))\n",
        "  i=i+1\n",
        "\n"
      ],
      "metadata": {
        "id": "sU7E053qQ7mO"
      },
      "execution_count": null,
      "outputs": []
    },
    {
      "cell_type": "markdown",
      "source": [
        "## **Confusion Matrix**"
      ],
      "metadata": {
        "id": "bMa70LQlTpk6"
      }
    },
    {
      "cell_type": "code",
      "source": [
        "from sklearn.metrics import confusion_matrix\n",
        "from sklearn.metrics import classification_report"
      ],
      "metadata": {
        "id": "hdOurRnvQ7vO"
      },
      "execution_count": null,
      "outputs": []
    },
    {
      "cell_type": "code",
      "source": [
        "report=classification_report(Y_test_2[0], Pred_l)\n",
        "print(report)"
      ],
      "metadata": {
        "colab": {
          "base_uri": "https://localhost:8080/"
        },
        "id": "AgDDWcePSZqt",
        "outputId": "116ab2d5-8fec-4c25-f383-5c75b499effb"
      },
      "execution_count": null,
      "outputs": [
        {
          "output_type": "stream",
          "name": "stdout",
          "text": [
            "              precision    recall  f1-score   support\n",
            "\n",
            "           0       0.92      0.88      0.90      3116\n",
            "           1       0.87      0.91      0.89      2811\n",
            "\n",
            "    accuracy                           0.89      5927\n",
            "   macro avg       0.89      0.89      0.89      5927\n",
            "weighted avg       0.89      0.89      0.89      5927\n",
            "\n"
          ]
        }
      ]
    },
    {
      "cell_type": "code",
      "source": [
        "result = confusion_matrix(Y_test_2[0],Pred_l)"
      ],
      "metadata": {
        "id": "-pVCHgjJTM8E"
      },
      "execution_count": null,
      "outputs": []
    },
    {
      "cell_type": "markdown",
      "source": [
        "## **Plotting the Confusion matrix with Heat Map**"
      ],
      "metadata": {
        "id": "7lv2pGV8TyB_"
      }
    },
    {
      "cell_type": "code",
      "source": [
        "import seaborn as sns\n",
        "sns.heatmap(result,annot = True)"
      ],
      "metadata": {
        "colab": {
          "base_uri": "https://localhost:8080/",
          "height": 448
        },
        "id": "hOfSZloySZvM",
        "outputId": "66f9935a-8165-485e-8c7c-27b4f7543d23"
      },
      "execution_count": null,
      "outputs": [
        {
          "output_type": "execute_result",
          "data": {
            "text/plain": [
              "<Axes: >"
            ]
          },
          "metadata": {},
          "execution_count": 99
        },
        {
          "output_type": "display_data",
          "data": {
            "text/plain": [
              "<Figure size 640x480 with 2 Axes>"
            ],
            "image/png": "[encoded data removed]"
          },
          "metadata": {}
        }
      ]
    },
    {
      "cell_type": "markdown",
      "source": [
        "## **Testing the model with images**"
      ],
      "metadata": {
        "id": "RyVapxyZUHwx"
      }
    },
    {
      "cell_type": "code",
      "source": [
        "def test_image(ind, images_f,images_f_2, Model):\n",
        "  plt.imshow(images_f[ind])\n",
        "  image_test=images_f_2[ind]\n",
        "  pred_l=Model.predict(np.array([image_test]))\n",
        "  sex_f=['Male','Female']\n",
        "  age=int(np.round(pred_l[1][0]))\n",
        "  sex=int(np.round(pred_l[0][0]))\n",
        "  print(\"Predicted Age is \"+ str(age))\n",
        "  print(\"Predicted Gender is \"+ sex_f[sex])"
      ],
      "metadata": {
        "id": "QJG-71CMSZzV"
      },
      "execution_count": null,
      "outputs": []
    },
    {
      "cell_type": "code",
      "source": [
        "test_image(9,images_f,images_f_2, model)"
      ],
      "metadata": {
        "colab": {
          "base_uri": "https://localhost:8080/",
          "height": 486
        },
        "id": "IcB-RJskauiS",
        "outputId": "c77dd297-4653-4a78-ff84-50d5b2c915d3"
      },
      "execution_count": null,
      "outputs": [
        {
          "output_type": "stream",
          "name": "stdout",
          "text": [
            "1/1 [==============================] - 0s 18ms/step\n",
            "Predicted Age is 10\n",
            "Predicted Gender is Female\n"
          ]
        },
        {
          "output_type": "display_data",
          "data": {
            "text/plain": [
              "<Figure size 640x480 with 1 Axes>"
            ],
            "image/png": "[encoded data removed]"
          },
          "metadata": {}
        }
      ]
    },
    {
      "cell_type": "code",
      "source": [
        "test_image(400,images_f,images_f_2, model)"
      ],
      "metadata": {
        "colab": {
          "base_uri": "https://localhost:8080/",
          "height": 486
        },
        "id": "6_ZfpQQKeTnQ",
        "outputId": "0c123396-cb92-4c3f-c23b-541396c64164"
      },
      "execution_count": null,
      "outputs": [
        {
          "output_type": "stream",
          "name": "stdout",
          "text": [
            "1/1 [==============================] - 0s 31ms/step\n",
            "Predicted Age is 26\n",
            "Predicted Gender is Male\n"
          ]
        },
        {
          "output_type": "display_data",
          "data": {
            "text/plain": [
              "<Figure size 640x480 with 1 Axes>"
            ],
            "image/png": "[encoded data removed]"
          },
          "metadata": {}
        }
      ]
    },
    {
      "cell_type": "code",
      "source": [
        "test_image(23000,images_f,images_f_2, model)"
      ],
      "metadata": {
        "colab": {
          "base_uri": "https://localhost:8080/",
          "height": 486
        },
        "id": "091A3SSAelrM",
        "outputId": "06683e1f-db9f-44f6-dfb7-fc0b07e32a66"
      },
      "execution_count": null,
      "outputs": [
        {
          "output_type": "stream",
          "name": "stdout",
          "text": [
            "1/1 [==============================] - 0s 20ms/step\n",
            "Predicted Age is 89\n",
            "Predicted Gender is Female\n"
          ]
        },
        {
          "output_type": "display_data",
          "data": {
            "text/plain": [
              "<Figure size 640x480 with 1 Axes>"
            ],
            "image/png": "[encoded data removed]"
          },
          "metadata": {}
        }
      ]
    },
    {
      "cell_type": "code",
      "source": [
        "test_image(1200,images_f,images_f_2, model)"
      ],
      "metadata": {
        "colab": {
          "base_uri": "https://localhost:8080/",
          "height": 486
        },
        "id": "scA-dqZ3n0ko",
        "outputId": "0b930ee4-2f55-4347-f773-505447959a0e"
      },
      "execution_count": null,
      "outputs": [
        {
          "output_type": "stream",
          "name": "stdout",
          "text": [
            "1/1 [==============================] - 0s 27ms/step\n",
            "Predicted Age is 37\n",
            "Predicted Gender is Female\n"
          ]
        },
        {
          "output_type": "display_data",
          "data": {
            "text/plain": [
              "<Figure size 640x480 with 1 Axes>"
            ],
            "image/png": "[encoded data removed]"
          },
          "metadata": {}
        }
      ]
    },
    {
      "cell_type": "code",
      "source": [],
      "metadata": {
        "id": "FLjMfuJ3n4WD"
      },
      "execution_count": null,
      "outputs": []
    }
  ]
}